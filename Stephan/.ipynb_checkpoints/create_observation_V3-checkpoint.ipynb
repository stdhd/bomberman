{
 "cells": [
  {
   "cell_type": "code",
   "execution_count": 12,
   "metadata": {
    "collapsed": true
   },
   "outputs": [],
   "source": [
    "import numpy as np\n",
    "from indices import *\n",
    "import math"
   ]
  },
  {
   "cell_type": "code",
   "execution_count": 13,
   "metadata": {
    "collapsed": true,
    "scrolled": false
   },
   "outputs": [],
   "source": [
    "daten = np.load(\"test_daten2.npy\")"
   ]
  },
  {
   "cell_type": "code",
   "execution_count": 22,
   "metadata": {},
   "outputs": [],
   "source": [
    "def create_observation(array_source, radius, agents_count):  \n",
    "    # Board indices contain: -1 if coin, 1 if crate, 0 otherwise\n",
    "    ZEILEN = 17\n",
    "    WALL = 2\n",
    "    CRATE = 1\n",
    "    FREE = 0\n",
    "    COIN = -1\n",
    "    PLAYER = 3\n",
    "    BOMB = 4\n",
    "    EXPLOSION = 5\n",
    "    AGENT = 6\n",
    "    \n",
    "    row_length = radius * 2 + 1\n",
    "    array_target = np.zeros([row_length, row_length])\n",
    "    \n",
    "    mx, my = 10, 9 # Koordinaten des Spielers, Mittelpunkt des Ausschnitts\n",
    "    for i in range(int(math.pow(row_length,2))):\n",
    "        xt = i % row_length\n",
    "        yt = math.floor(i / (row_length))\n",
    "        \n",
    "        x = xt + (mx - radius)\n",
    "        y = yt + (my - radius)\n",
    "        print(x,y)\n",
    "        try:\n",
    "            index = x_y_to_index(int(x),int(y),ZEILEN,ZEILEN)\n",
    "            array_target[int(yt),int(xt)] = daten[int(index)]\n",
    "        except Exception as e:\n",
    "            array_target[yt,xt] = WALL\n",
    "        \n",
    "    #Add Player and Bomb coordinates\n",
    "    start = 176\n",
    "    borderX = mx + radius\n",
    "    borderY = my + radius\n",
    "    \n",
    "    for i in range(agents_count):\n",
    "        agentX, agentY = index_to_x_y(int(daten[int(start)]),ZEILEN,ZEILEN)\n",
    "        if not (agentX > borderX or agentY > borderY or agentX < (mx - radius) or agentY < (my - radius)):\n",
    "            array_target[int(agentY - (my - radius)), int(agentX - (mx - radius))] = AGENT\n",
    "        \n",
    "        \n",
    "        start += 2\n",
    "        bombeX, bombeY = index_to_x_y(int(daten[int(start)]),ZEILEN,ZEILEN)\n",
    "        if not (bombeX > borderX or bombeY > borderY or bombeX < (mx - radius) or bombeY < (my - radius)):\n",
    "            array_target[int(bombeY - (my - radius)), int(bombeX - (mx - radius))] = BOMB\n",
    "\n",
    "        start = start + 21 \n",
    "    return array_target\n"
   ]
  },
  {
   "cell_type": "code",
   "execution_count": 23,
   "metadata": {},
   "outputs": [
    {
     "name": "stdout",
     "output_type": "stream",
     "text": [
      "8 7\n",
      "9 7\n",
      "10 7\n",
      "11 7\n",
      "12 7\n",
      "8 8\n",
      "9 8\n",
      "10 8\n",
      "11 8\n",
      "12 8\n",
      "8 9\n",
      "9 9\n",
      "10 9\n",
      "11 9\n",
      "12 9\n",
      "8 10\n",
      "9 10\n",
      "10 10\n",
      "11 10\n",
      "12 10\n",
      "8 11\n",
      "9 11\n",
      "10 11\n",
      "11 11\n",
      "12 11\n"
     ]
    },
    {
     "data": {
      "text/plain": [
       "array([[-1.,  0.,  0.,  0.,  0.],\n",
       "       [ 2.,  0.,  2.,  0.,  2.],\n",
       "       [ 4.,  0.,  4.,  6.,  0.],\n",
       "       [ 2.,  0.,  2.,  0.,  2.],\n",
       "       [ 0.,  0.,  6.,  0.,  0.]])"
      ]
     },
     "execution_count": 23,
     "metadata": {},
     "output_type": "execute_result"
    }
   ],
   "source": [
    "create_observation(daten,2,4)"
   ]
  },
  {
   "cell_type": "code",
   "execution_count": 19,
   "metadata": {},
   "outputs": [
    {
     "data": {
      "text/plain": [
       "(10, 9)"
      ]
     },
     "execution_count": 19,
     "metadata": {},
     "output_type": "execute_result"
    }
   ],
   "source": [
    "index_to_x_y(102,17,17)"
   ]
  },
  {
   "cell_type": "code",
   "execution_count": 18,
   "metadata": {},
   "outputs": [
    {
     "data": {
      "text/plain": [
       "103.0"
      ]
     },
     "execution_count": 18,
     "metadata": {},
     "output_type": "execute_result"
    }
   ],
   "source": [
    "daten[176]"
   ]
  },
  {
   "cell_type": "code",
   "execution_count": 16,
   "metadata": {},
   "outputs": [
    {
     "data": {
      "text/plain": [
       "array([  0.,   0.,   0.,   0.,   0.,   0.,   0.,   0.,   0.,   0.,   0.,\n",
       "         0.,   0.,   0.,   0.,   0.,   0.,   1.,   1.,   0.,   0.,   1.,\n",
       "         0.,   0.,  -1.,   0.,   1.,   1.,   1.,  -1.,   1.,   0.,   0.,\n",
       "         0.,   0.,   0.,   0.,   0.,   0.,   0.,   1.,   1.,   0.,   1.,\n",
       "        -1.,   0.,   0.,   0.,   0.,   0.,   0.,   0.,   0.,   0.,   0.,\n",
       "         0.,   0.,   0.,   0.,   0.,   0.,   0.,   0.,   0.,   1.,   0.,\n",
       "         1.,   0.,   0.,   0.,   0.,   0.,   1.,   0.,   1.,   0.,   1.,\n",
       "        -1.,   0.,   0.,   0.,   0.,   0.,   0.,  -1.,   0.,   0.,   1.,\n",
       "         1.,   0.,   0.,   0.,   0.,   0.,   0.,   0.,   0.,   0.,   0.,\n",
       "         0.,   1.,   0.,   0.,   1.,   0.,   1.,  -1.,   0.,   0.,   0.,\n",
       "         1.,   1.,   0.,   0.,   0.,   0.,   0.,   0.,   0.,   0.,   1.,\n",
       "         0.,  -1.,   0.,   0.,   0.,   0.,   0.,   0.,   0.,   0.,   0.,\n",
       "         0.,   1.,   1.,   0.,   0.,   0.,   0.,   1.,   0.,   1.,   0.,\n",
       "         1.,   1.,   1.,   0.,   0.,   0.,  -1.,   0.,   0.,   0.,   0.,\n",
       "         0.,   0.,   1.,   0.,   0.,   0.,   0.,   0.,   0.,   0.,   0.,\n",
       "        -1.,   1.,   1.,   0.,   0.,   0.,   0.,   0.,   0.,   0.,   0.,\n",
       "       103.,   3., 102.,   2.,   0.,   0.,   0.,   0.,   0.,   0.,   0.,\n",
       "         0.,   0.,   0.,   0.,   0.,   0.,   0.,   0.,   0.,   0.,   0.,\n",
       "         0., 110.,   2.,   0.,   0.,   0.,   0.,   0.,   0.,   0.,   0.,\n",
       "         0.,   0.,   0.,   0.,   0.,   0.,   0.,   0.,   0.,   0.,   0.,\n",
       "         0.,   0., 125.,   1.,   0.,   0.,   0.,   0.,   0.,   0.,   0.,\n",
       "         0.,   0.,   0.,   0.,   0.,   0.,   0.,   0.,   0.,   0.,   0.,\n",
       "         0.,   0.,   0.,  99.,   0., 100.,   2.,   0.,   0.,   0.,   0.,\n",
       "         0.,   0.,   0.,   0.,   0.,   0.,   0.,   0.,   0.,   0.,   0.,\n",
       "         0.,   0.,   0.,   0.,  86.])"
      ]
     },
     "execution_count": 16,
     "metadata": {},
     "output_type": "execute_result"
    }
   ],
   "source": [
    "daten"
   ]
  },
  {
   "cell_type": "code",
   "execution_count": 64,
   "metadata": {},
   "outputs": [
    {
     "data": {
      "text/plain": [
       "array([ 3.,  0.,  0., -1., -1., -1.,  0., -1., -1., -1.,  0.,  1., -1.,\n",
       "        0.,  0.,  3.])"
      ]
     },
     "execution_count": 64,
     "metadata": {},
     "output_type": "execute_result"
    }
   ],
   "source": [
    "np.concatenate([[3],daten[:14],[3]])"
   ]
  },
  {
   "cell_type": "code",
   "execution_count": 44,
   "metadata": {},
   "outputs": [
    {
     "ename": "TypeError",
     "evalue": "create_trainingS() missing 1 required positional argument: 'agents_count'",
     "output_type": "error",
     "traceback": [
      "\u001b[0;31m---------------------------------------------------------------------------\u001b[0m",
      "\u001b[0;31mTypeError\u001b[0m                                 Traceback (most recent call last)",
      "\u001b[0;32m<ipython-input-44-e0ea307e4f5f>\u001b[0m in \u001b[0;36m<module>\u001b[0;34m()\u001b[0m\n\u001b[0;32m----> 1\u001b[0;31m \u001b[0mcreate_trainingS\u001b[0m\u001b[0;34m(\u001b[0m\u001b[0mdaten\u001b[0m\u001b[0;34m,\u001b[0m\u001b[0;36m2\u001b[0m\u001b[0;34m)\u001b[0m\u001b[0;34m\u001b[0m\u001b[0m\n\u001b[0m",
      "\u001b[0;31mTypeError\u001b[0m: create_trainingS() missing 1 required positional argument: 'agents_count'"
     ]
    }
   ],
   "source": [
    "create_trainingS(daten,2)"
   ]
  },
  {
   "cell_type": "code",
   "execution_count": 6,
   "metadata": {},
   "outputs": [
    {
     "data": {
      "text/plain": [
       "1.0"
      ]
     },
     "execution_count": 6,
     "metadata": {},
     "output_type": "execute_result"
    }
   ],
   "source": [
    "x_y_to_index(1,1,17,17)"
   ]
  },
  {
   "cell_type": "code",
   "execution_count": null,
   "metadata": {
    "collapsed": true
   },
   "outputs": [],
   "source": []
  }
 ],
 "metadata": {
  "kernelspec": {
   "display_name": "Python 3",
   "language": "python",
   "name": "python3"
  },
  "language_info": {
   "codemirror_mode": {
    "name": "ipython",
    "version": 3
   },
   "file_extension": ".py",
   "mimetype": "text/x-python",
   "name": "python",
   "nbconvert_exporter": "python",
   "pygments_lexer": "ipython3",
   "version": "3.6.1"
  }
 },
 "nbformat": 4,
 "nbformat_minor": 2
}

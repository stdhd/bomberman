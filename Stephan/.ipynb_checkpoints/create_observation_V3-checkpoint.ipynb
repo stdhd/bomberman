{
 "cells": [
  {
   "cell_type": "code",
   "execution_count": 1,
   "metadata": {
    "collapsed": true
   },
   "outputs": [],
   "source": [
    "import numpy as np\n",
    "from indices import *\n",
    "import math"
   ]
  },
  {
   "cell_type": "code",
   "execution_count": 2,
   "metadata": {
    "collapsed": true,
    "scrolled": false
   },
   "outputs": [],
   "source": [
    "daten = np.load(\"test_daten.npy\")"
   ]
  },
  {
   "cell_type": "code",
   "execution_count": 9,
   "metadata": {
    "collapsed": true
   },
   "outputs": [],
   "source": [
    "def create_observation(array_source, radius, agents_count):  \n",
    "    # Board indices contain: -1 if coin, 1 if crate, 0 otherwise\n",
    "    ZEILEN = 17\n",
    "    WALL = 2\n",
    "    CRATE = 1\n",
    "    FREE = 0\n",
    "    COIN = -1\n",
    "    PLAYER = 3\n",
    "    BOMB = 4\n",
    "    EXPLOSION = 5\n",
    "    AGENT = 6\n",
    "    \n",
    "    row_length = radius * 2 + 1\n",
    "    array_target = np.zeros([row_length, row_length])\n",
    "    #array_target[0] = np.full((1,ZEILEN), WALL)\n",
    "    \n",
    "    mx, my = 2, 2 # Koordinaten des Spielers, Mittelpunkt des Ausschnitts\n",
    "    for i in range(int(math.pow(row_length,2))):\n",
    "        xt = i % row_length\n",
    "        yt = math.floor(i / (row_length))\n",
    "        \n",
    "        x = xt + (mx - radius)\n",
    "        y = yt + (my - radius)\n",
    "        \n",
    "        \n",
    "        try:\n",
    "            index = x_y_to_index(x,y,ZEILEN,ZEILEN)\n",
    "            array_target[yt,xt] = array_source[index]\n",
    "        except:\n",
    "            \n",
    "            array_target[yt,xt] = WALL\n",
    "        \n",
    "    #return array_target\n",
    "    #Add Player and Bomb coordinates\n",
    "    start = 176\n",
    "    borderX = mx + radius\n",
    "    borderY = my + radius\n",
    "    \n",
    "    for i in range(agents_count):\n",
    "        \n",
    "        agentX, agentY = index_to_x_y(daten[start],ZEILEN,ZEILEN)\n",
    "        print(\"X\", daten[start], agentX, agentY)\n",
    "        if not (agentX > borderX or agentY > borderY or agentX < (mx - radius) or agentY < (my - radius)):\n",
    "            print(int(agentX + mx - radius))\n",
    "            print((agentY + my - radius))\n",
    "            array_target[int(agentY - borderY), int(agentX - borderX)] = AGENT\n",
    "        \n",
    "        start = start + 23    \n",
    "            \n",
    "        #bombeX, bombeY = index_to_x_y(daten[start + 2], 17, 17)\n",
    "        #if not (bombeX > borderX or bombeY > borderY or bombeX < (mx - radius) or bombeY < (my - radius)):\n",
    "         #   array_target[(bombeY + my - radius), (bombeX + mx - radius)] = BOMB\n",
    "        \n",
    "        #explosionX, explosionY = index_to_x_y(daten[start + 4], 17, 17)\n",
    "        #if not (explosionX > borderX or explosionY > borderY or explosionX < (mx - radius) or explosionY < (my - radius)):\n",
    "         #   array_target[(explosionY + my - radius), (explosionX + mx - radius)] = EXPLOSION\n",
    "    \n",
    "    return array_target\n"
   ]
  },
  {
   "cell_type": "code",
   "execution_count": 10,
   "metadata": {},
   "outputs": [
    {
     "name": "stdout",
     "output_type": "stream",
     "text": [
      "X 169.0 8.0 15\n",
      "X 155.0 3.0 14\n",
      "X 15.0 15.0 1\n",
      "X 1.0 1.0 1\n",
      "1\n",
      "1\n"
     ]
    },
    {
     "data": {
      "text/plain": [
       "array([[2., 2., 2., 2., 2.],\n",
       "       [2., 2., 2., 2., 2.],\n",
       "       [2., 2., 6., 2., 2.],\n",
       "       [2., 2., 2., 2., 2.],\n",
       "       [2., 2., 2., 2., 2.]])"
      ]
     },
     "execution_count": 10,
     "metadata": {},
     "output_type": "execute_result"
    }
   ],
   "source": [
    "create_trainingS(daten,2,4)"
   ]
  },
  {
   "cell_type": "code",
   "execution_count": 12,
   "metadata": {},
   "outputs": [
    {
     "data": {
      "text/plain": [
       "array([  0.,   0.,   1.,   1.,   1.,   1.,   0.,   0.,   0.,   1.,   0.,\n",
       "         1.,   1.,   0.,   0.,   0.,   1.,   0.,   0.,   1.,   1.,   1.,\n",
       "         0.,   0.,   1.,   1.,   1.,   1.,  -1.,  -1.,  -1.,   0.,   1.,\n",
       "         1.,   1.,   1.,   1.,   1.,   1.,   0.,   0.,   1.,   1.,   1.,\n",
       "         1.,   0.,   0.,  -1.,   0.,   1.,   1.,   1.,   0.,   1.,   1.,\n",
       "        -1.,   1.,   1.,  -1.,  -1.,   0.,   0.,   1.,   1.,   1.,   1.,\n",
       "         1.,   1.,   1.,   0.,   1.,   1.,   1.,  -1.,   1.,   1.,   1.,\n",
       "         1.,   1.,  -1.,   1.,  -1.,   1.,   1.,   0.,   1.,   1.,   1.,\n",
       "        -1.,  -1.,   1.,   1.,   1.,   0.,   1.,   0.,   1.,   1.,   0.,\n",
       "         1.,   1.,   0.,   1.,   1.,   1.,   1.,   0.,   1.,   1.,   1.,\n",
       "         0.,   1.,   1.,   1.,   1.,   1.,   1.,   1.,  -1.,  -1.,   1.,\n",
       "         1.,   1.,   1.,   1.,   1.,   0.,   1.,   0.,   1.,  -1.,   1.,\n",
       "         1.,   1.,   1.,  -1.,   1.,   1.,   1.,   0.,   1.,   1.,   1.,\n",
       "         0.,   1.,   1.,   0.,   1.,  -1.,  -1.,   1.,   1.,   1.,   1.,\n",
       "         1.,   1.,   1.,   1.,   1.,   1.,   0.,   1.,   1.,  -1.,   1.,\n",
       "         1.,   1.,   1.,   1., 169.,   0.,   0.,   0.,   0.,   0.,   0.,\n",
       "         0.,   0.,   0.,   0.,   0.,   0.,   0.,   0.,   0.,   0.,   0.,\n",
       "         0.,   0.,   0.,   0.,   0., 155.,   0.,   0.,   0.,   0.,   0.,\n",
       "         0.,   0.,   0.,   0.,   0.,   0.,   0.,   0.,   0.,   0.,   0.,\n",
       "         0.,   0.,   0.,   0.,   0.,   0.,  15.,   0.,   0.,   0.,   0.,\n",
       "         0.,   0.,   0.,   0.,   0.,   0.,   0.,   0.,   0.,   0.,   0.,\n",
       "         0.,   0.,   0.,   0.,   0.,   0.,   0.,   1.,   0.,   0.,   0.,\n",
       "         0.,   0.,   0.,   0.,   0.,   0.,   0.,   0.,   0.,   0.,   0.,\n",
       "         0.,   0.,   0.,   0.,   0.,   0.,   0.,   0.,   1.])"
      ]
     },
     "execution_count": 12,
     "metadata": {},
     "output_type": "execute_result"
    }
   ],
   "source": [
    "daten"
   ]
  },
  {
   "cell_type": "code",
   "execution_count": 64,
   "metadata": {},
   "outputs": [
    {
     "data": {
      "text/plain": [
       "array([ 3.,  0.,  0., -1., -1., -1.,  0., -1., -1., -1.,  0.,  1., -1.,\n",
       "        0.,  0.,  3.])"
      ]
     },
     "execution_count": 64,
     "metadata": {},
     "output_type": "execute_result"
    }
   ],
   "source": [
    "np.concatenate([[3],daten[:14],[3]])"
   ]
  },
  {
   "cell_type": "code",
   "execution_count": 77,
   "metadata": {},
   "outputs": [
    {
     "data": {
      "text/plain": [
       "array([[ 2.,  2.,  2.,  2.,  2.,  2.,  2.,  2.,  2.,  2.,  2.,  2.,  2.,\n",
       "         2.,  2.,  2.,  2.],\n",
       "       [ 2.,  0.,  0., -1., -1., -1.,  0., -1., -1., -1.,  0.,  1., -1.,\n",
       "         0.,  0.,  0.,  2.],\n",
       "       [ 2.,  2.,  2.,  2.,  2.,  2.,  2.,  2.,  2.,  2.,  2.,  2.,  2.,\n",
       "         2.,  2.,  2.,  2.],\n",
       "       [ 2.,  0., -1., -1., -1.,  0., -1., -1., -1.,  0.,  0.,  1.,  0.,\n",
       "        -1.,  1.,  1.,  2.],\n",
       "       [ 2.,  2.,  2.,  2.,  2.,  2.,  2.,  2.,  2.,  2.,  2.,  2.,  2.,\n",
       "         2.,  2.,  2.,  2.],\n",
       "       [ 2., -1., -1., -1., -1., -1., -1., -1., -1., -1., -1.,  0.,  1.,\n",
       "        -1.,  0., -1.,  2.],\n",
       "       [ 2.,  2.,  2.,  2.,  2.,  2.,  2.,  2.,  2.,  2.,  2.,  2.,  2.,\n",
       "         2.,  2.,  2.,  2.],\n",
       "       [ 2., -1., -1., -1., -1., -1., -1., -1.,  0.,  0., -1., -1., -1.,\n",
       "         0.,  1.,  1.,  2.],\n",
       "       [ 2.,  2.,  2.,  2.,  2.,  2.,  2.,  2.,  2.,  2.,  2.,  2.,  2.,\n",
       "         2.,  2.,  2.,  2.],\n",
       "       [ 2., -1.,  0., -1., -1., -1., -1., -1., -1.,  0.,  0.,  0., -1.,\n",
       "        -1., -1.,  0.,  2.],\n",
       "       [ 2.,  2.,  2.,  2.,  2.,  2.,  2.,  2.,  2.,  2.,  2.,  2.,  2.,\n",
       "         2.,  2.,  2.,  2.],\n",
       "       [ 2., -1., -1., -1., -1., -1., -1.,  0., -1., -1., -1.,  0., -1.,\n",
       "         1.,  1.,  1.,  2.],\n",
       "       [ 2.,  2.,  2.,  2.,  2.,  2.,  2.,  2.,  2.,  2.,  2.,  2.,  2.,\n",
       "         2.,  2.,  2.,  2.],\n",
       "       [ 2., -1., -1., -1.,  1., -1., -1., -1., -1., -1., -1., -1., -1.,\n",
       "         0., -1., -1.,  2.],\n",
       "       [ 2.,  2.,  2.,  2.,  2.,  2.,  2.,  2.,  2.,  2.,  2.,  2.,  2.,\n",
       "         2.,  2.,  2.,  2.],\n",
       "       [ 2.,  0., -1.,  1., -1.,  0.,  1.,  0., -1., -1.,  0., -1., -1.,\n",
       "        -1.,  0., -1.,  2.],\n",
       "       [ 2.,  2.,  2.,  2.,  2.,  2.,  2.,  2.,  2.,  2.,  2.,  2.,  2.,\n",
       "         2.,  2.,  2.,  2.]])"
      ]
     },
     "execution_count": 77,
     "metadata": {},
     "output_type": "execute_result"
    }
   ],
   "source": [
    "create_trainingS(daten,2)"
   ]
  }
 ],
 "metadata": {
  "kernelspec": {
   "display_name": "Python 3",
   "language": "python",
   "name": "python3"
  },
  "language_info": {
   "codemirror_mode": {
    "name": "ipython",
    "version": 3
   },
   "file_extension": ".py",
   "mimetype": "text/x-python",
   "name": "python",
   "nbconvert_exporter": "python",
   "pygments_lexer": "ipython3",
   "version": "3.6.1"
  }
 },
 "nbformat": 4,
 "nbformat_minor": 2
}

{
 "cells": [
  {
   "cell_type": "code",
   "execution_count": 49,
   "metadata": {
    "collapsed": true
   },
   "outputs": [],
   "source": [
    "import numpy as np"
   ]
  },
  {
   "cell_type": "code",
   "execution_count": 50,
   "metadata": {
    "scrolled": false
   },
   "outputs": [],
   "source": [
    "daten = np.load(\"test_daten.npy\")"
   ]
  },
  {
   "cell_type": "code",
   "execution_count": 69,
   "metadata": {},
   "outputs": [],
   "source": [
    "def create_trainingS(array_source, radius):  \n",
    "    ZEILEN = 17\n",
    "    WALL = 2\n",
    "    CRATE = -1\n",
    "    FREE = 0\n",
    "    COIN = 1\n",
    "    PLAYER = 3\n",
    "    BOMB = 4\n",
    "\n",
    "    array_target = np.zeros([17,17])\n",
    "    array_target[0] = np.full((1,ZEILEN), WALL)\n",
    "    for i in range(8):\n",
    "        #Write Wall-Free Row\n",
    "        array_target[i * 2 + 1] = np.concatenate([[WALL],array_source[:15],[WALL]])\n",
    "        array_source = np.delete(array_source,np.arange(15),0)\n",
    "\n",
    "        #Write Wall-Occupied Row\n",
    "        row = np.zeros([17])\n",
    "        row[0] = WALL\n",
    "        row[16] = WALL\n",
    "        for j in range (15):\n",
    "            if 15%2 == 0:\n",
    "                row[j + 1] = array_source[:1]\n",
    "                array_source = np.delete(0,0)\n",
    "\n",
    "            else:\n",
    "                row[j + 1] = WALL\n",
    "\n",
    "        array_target[i * 2 + 2] = row\n",
    "\n",
    "    #Write Wall-Free Row\n",
    "    array_target[15] = np.concatenate([[WALL],array_source[:15],[WALL]])   \n",
    "    array_target[16] = np.full((1,ZEILEN), WALL)\n",
    "    \n",
    "    return array_target\n",
    "    #Add Player and Bomb coordinates\n",
    "    start = 0\n",
    "    for i in range(4):\n",
    "        px = array_source[start]\n",
    "        py = array_source[start + 1]\n",
    "        target_array[py,px] = PLAYER\n",
    "\n",
    "        bx = array_source[start + 2]\n",
    "        by = array_source[start + 3]\n",
    "        target_array[by,bx] = BOMB\n",
    "\n",
    "        start = start + 3\n",
    "\n",
    "        #TODO: Stimmen die Koordinaten?\n",
    "    \n",
    "    for i in range(radius):\n",
    "        array_target = np.concatenate(np.zeros(17), array_target, 0)\n",
    "        array_target = np.concatenate(array_target, np.zeros(17) , 0 )\n",
    "        \n",
    "        array_target = np.concatenate(array_target, np.zeros(17 + 2* radius), 1)\n",
    "        array_target = np.concatenate(np.zeros(17 + 2* radius), array_target, 1)\n",
    "        \n",
    "    # Sichtbaren Ausschnitt erstellen:\n",
    "    array_ausschnitt = array_target[(py - radius) : (py + radius),:]\n",
    "    array_ausschnitt = array_ausschnitt[:,px - radius : px + radius]\n",
    "    \n",
    "    \n",
    "    # Flatten array\n",
    "    array_flattened = array_ausschnitt.flatten()\n",
    "    \n",
    "    # Add More Features:\n",
    "    return array_flattened\n"
   ]
  },
  {
   "cell_type": "code",
   "execution_count": 75,
   "metadata": {
    "collapsed": true
   },
   "outputs": [],
   "source": [
    "def create_trainingSX(array_source, radius):  \n",
    "    ZEILEN = 17\n",
    "    WALL = 2\n",
    "    CRATE = -1\n",
    "    FREE = 0\n",
    "    COIN = 1\n",
    "    PLAYER = 3\n",
    "    BOMB = 4\n",
    "\n",
    "    array_target = np.zeros([17,17])\n",
    "    array_target[0] = np.full((1,ZEILEN), WALL)\n",
    "    for i in range(8):\n",
    "        #Write Wall-Free Row\n",
    "        array_target[i * 2 + 1] = np.concatenate([[WALL],array_source[:15],[WALL]])\n",
    "        array_source = np.delete(array_source,np.arange(15),0)\n",
    "\n",
    "        #Write Wall-Occupied Row\n",
    "        row = np.zeros([17])\n",
    "        row[0] = WALL\n",
    "        row[16] = WALL\n",
    "        for j in range (15):\n",
    "            if 15%2 == 0:\n",
    "                row[j + 1] = array_source[:1]\n",
    "                array_source = np.delete(0,0)\n",
    "\n",
    "            else:\n",
    "                row[j + 1] = WALL\n",
    "\n",
    "        array_target[i * 2 + 2] = row\n",
    "\n",
    "    #Write Wall-Free Row\n",
    "    array_target[15] = np.concatenate([[WALL],array_source[:15],[WALL]])   \n",
    "    array_target[16] = np.full((1,ZEILEN), WALL)\n",
    "    \n",
    "\n",
    "    px = 10\n",
    "    py = 10\n",
    "        \n",
    "    # Sichtbaren Ausschnitt erstellen:\n",
    "    array_ausschnitt = array_target[(py - radius  ) : (py + radius),:]\n",
    "    array_ausschnitt = array_ausschnitt[:,px - radius : px + radius]\n",
    "    \n",
    "    \n",
    "    # Flatten array\n",
    "    array_flattened = array_ausschnitt.flatten()\n",
    "    \n",
    "    # Add More Features:\n",
    "    return array_flattened\n",
    "\n"
   ]
  },
  {
   "cell_type": "code",
   "execution_count": 76,
   "metadata": {},
   "outputs": [
    {
     "data": {
      "text/plain": [
       "array([ 2.,  2.,  2.,  2., -1.,  0.,  0.,  0.,  2.,  2.,  2.,  2., -1.,\n",
       "       -1., -1.,  0.])"
      ]
     },
     "execution_count": 76,
     "metadata": {},
     "output_type": "execute_result"
    }
   ],
   "source": [
    "create_trainingSX(daten,2)"
   ]
  },
  {
   "cell_type": "code",
   "execution_count": 64,
   "metadata": {},
   "outputs": [
    {
     "data": {
      "text/plain": [
       "array([ 3.,  0.,  0., -1., -1., -1.,  0., -1., -1., -1.,  0.,  1., -1.,\n",
       "        0.,  0.,  3.])"
      ]
     },
     "execution_count": 64,
     "metadata": {},
     "output_type": "execute_result"
    }
   ],
   "source": [
    "np.concatenate([[3],daten[:14],[3]])"
   ]
  },
  {
   "cell_type": "code",
   "execution_count": null,
   "metadata": {
    "collapsed": true
   },
   "outputs": [],
   "source": []
  }
 ],
 "metadata": {
  "kernelspec": {
   "display_name": "Python 3",
   "language": "python",
   "name": "python3"
  },
  "language_info": {
   "codemirror_mode": {
    "name": "ipython",
    "version": 3
   },
   "file_extension": ".py",
   "mimetype": "text/x-python",
   "name": "python",
   "nbconvert_exporter": "python",
   "pygments_lexer": "ipython3",
   "version": "3.6.1"
  }
 },
 "nbformat": 4,
 "nbformat_minor": 2
}

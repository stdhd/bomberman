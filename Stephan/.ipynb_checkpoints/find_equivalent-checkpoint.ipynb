{
 "cells": [
  {
   "cell_type": "code",
   "execution_count": 45,
   "metadata": {
    "collapsed": true
   },
   "outputs": [],
   "source": [
    "import numpy as np"
   ]
  },
  {
   "cell_type": "code",
   "execution_count": 54,
   "metadata": {
    "collapsed": true
   },
   "outputs": [],
   "source": [
    "def find_equivalent(single, collection):\n",
    "    \n",
    "    # SINGLE: Matrix, which is compared to the matrizes in COLLECTION\n",
    "    # return: index of equivalent, or throws exception in case there is no equivalent\n",
    "    \n",
    "    candidates = np.zeros((8, single.shape[0], single.shape[1]))\n",
    "    candidates[0] = single\n",
    "    candidates[1] = single.T\n",
    "    candidates[2] = np.flip(single,0)\n",
    "    candidates[3] = np.flip(single,1)\n",
    "    candidates[4] = np.flip(single.T,0)\n",
    "    candidates[5] = np.flip(single.T,1)\n",
    "    candidates[6] = np.fliplr(np.flip(single,0))\n",
    "    candidates[7] = np.fliplr(np.flip(single.T,0))\n",
    "    \n",
    "    for i in range(collection.shape[0]):\n",
    "        for j in range(8):\n",
    "            if (collection[i] == candidates[j]).all():\n",
    "                return i\n",
    "    \n",
    "    raise ValueError(\"No equivalent found!\")"
   ]
  },
  {
   "cell_type": "code",
   "execution_count": 55,
   "metadata": {},
   "outputs": [
    {
     "data": {
      "text/plain": [
       "0"
      ]
     },
     "execution_count": 55,
     "metadata": {},
     "output_type": "execute_result"
    }
   ],
   "source": [
    "# Test:\n",
    "s = np.array([[1,2,3],[4,5,6],[7,8,9]])\n",
    "c = np.array([[[3,2,1],[6,5,4],[9,8,7]], [[5,6,7],[2,3,4],[7,8,9]]])\n",
    "s.shape[0]\n",
    "np.flip(s,1)\n",
    "find_equivalent(s, c)"
   ]
  },
  {
   "cell_type": "code",
   "execution_count": null,
   "metadata": {
    "collapsed": true
   },
   "outputs": [],
   "source": []
  }
 ],
 "metadata": {
  "kernelspec": {
   "display_name": "Python 3",
   "language": "python",
   "name": "python3"
  },
  "language_info": {
   "codemirror_mode": {
    "name": "ipython",
    "version": 3
   },
   "file_extension": ".py",
   "mimetype": "text/x-python",
   "name": "python",
   "nbconvert_exporter": "python",
   "pygments_lexer": "ipython3",
   "version": "3.6.1"
  }
 },
 "nbformat": 4,
 "nbformat_minor": 2
}

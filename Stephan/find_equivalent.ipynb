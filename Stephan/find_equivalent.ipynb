{
 "cells": [
  {
   "cell_type": "code",
   "execution_count": 45,
   "metadata": {
    "collapsed": true
   },
   "outputs": [],
   "source": [
    "import numpy as np"
   ]
  },
  {
   "cell_type": "code",
   "execution_count": 56,
   "metadata": {
    "collapsed": true
   },
   "outputs": [],
   "source": [
    "def find_equivalent(single, collection):\n",
    "    \n",
    "    # SINGLE: Matrix, which is compared to the matrizes in COLLECTION\n",
    "    # return: index of equivalent, or throws exception in case there is no equivalent\n",
    "    \n",
    "    candidates = np.zeros((8, single.shape[0], single.shape[1]))\n",
    "    candidates[0] = single\n",
    "    candidates[1] = single.T\n",
    "    candidates[2] = np.flip(single,0)\n",
    "    candidates[3] = np.flip(single,1)\n",
    "    candidates[4] = np.flip(single.T,0)\n",
    "    candidates[5] = np.flip(single.T,1)\n",
    "    candidates[6] = np.fliplr(np.flip(single,0))\n",
    "    candidates[7] = np.fliplr(np.flip(single.T,0))\n",
    "    \n",
    "    for i in range(collection.shape[0]):\n",
    "        for j in range(8):\n",
    "            if (collection[i] == candidates[j]).all():\n",
    "                return i\n",
    "    \n",
    "    raise ValueError(\"No equivalent found!\")"
   ]
  },
  {
   "cell_type": "code",
   "execution_count": 58,
   "metadata": {},
   "outputs": [
    {
     "ename": "ValueError",
     "evalue": "No equivalent found!",
     "output_type": "error",
     "traceback": [
      "\u001b[0;31m---------------------------------------------------------------------------\u001b[0m",
      "\u001b[0;31mValueError\u001b[0m                                Traceback (most recent call last)",
      "\u001b[0;32m<ipython-input-58-89d7163ca7e1>\u001b[0m in \u001b[0;36m<module>\u001b[0;34m()\u001b[0m\n\u001b[1;32m      4\u001b[0m \u001b[0ms\u001b[0m\u001b[0;34m.\u001b[0m\u001b[0mshape\u001b[0m\u001b[0;34m[\u001b[0m\u001b[0;36m0\u001b[0m\u001b[0;34m]\u001b[0m\u001b[0;34m\u001b[0m\u001b[0m\n\u001b[1;32m      5\u001b[0m \u001b[0mnp\u001b[0m\u001b[0;34m.\u001b[0m\u001b[0mflip\u001b[0m\u001b[0;34m(\u001b[0m\u001b[0ms\u001b[0m\u001b[0;34m,\u001b[0m\u001b[0;36m1\u001b[0m\u001b[0;34m)\u001b[0m\u001b[0;34m\u001b[0m\u001b[0m\n\u001b[0;32m----> 6\u001b[0;31m \u001b[0mfind_equivalent\u001b[0m\u001b[0;34m(\u001b[0m\u001b[0ms\u001b[0m\u001b[0;34m,\u001b[0m \u001b[0mc\u001b[0m\u001b[0;34m)\u001b[0m\u001b[0;34m\u001b[0m\u001b[0m\n\u001b[0m",
      "\u001b[0;32m<ipython-input-56-8e44d4268d70>\u001b[0m in \u001b[0;36mfind_equivalent\u001b[0;34m(single, collection)\u001b[0m\n\u001b[1;32m     19\u001b[0m                 \u001b[0;32mreturn\u001b[0m \u001b[0mi\u001b[0m\u001b[0;34m\u001b[0m\u001b[0m\n\u001b[1;32m     20\u001b[0m \u001b[0;34m\u001b[0m\u001b[0m\n\u001b[0;32m---> 21\u001b[0;31m     \u001b[0;32mraise\u001b[0m \u001b[0mValueError\u001b[0m\u001b[0;34m(\u001b[0m\u001b[0;34m\"No equivalent found!\"\u001b[0m\u001b[0;34m)\u001b[0m\u001b[0;34m\u001b[0m\u001b[0m\n\u001b[0m",
      "\u001b[0;31mValueError\u001b[0m: No equivalent found!"
     ]
    }
   ],
   "source": [
    "# Test:\n",
    "s = np.array([[2,2,3],[4,5,6],[7,8,9]])\n",
    "c = np.array([[[3,2,1],[6,5,4],[9,8,7]], [[5,6,7],[2,3,4],[7,8,9]]])\n",
    "s.shape[0]\n",
    "np.flip(s,1)\n",
    "find_equivalent(s, c)"
   ]
  },
  {
   "cell_type": "code",
   "execution_count": null,
   "metadata": {
    "collapsed": true
   },
   "outputs": [],
   "source": []
  }
 ],
 "metadata": {
  "kernelspec": {
   "display_name": "Python 3",
   "language": "python",
   "name": "python3"
  },
  "language_info": {
   "codemirror_mode": {
    "name": "ipython",
    "version": 3
   },
   "file_extension": ".py",
   "mimetype": "text/x-python",
   "name": "python",
   "nbconvert_exporter": "python",
   "pygments_lexer": "ipython3",
   "version": "3.6.1"
  }
 },
 "nbformat": 4,
 "nbformat_minor": 2
}

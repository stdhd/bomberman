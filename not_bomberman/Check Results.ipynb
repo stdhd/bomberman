{
 "cells": [
  {
   "cell_type": "code",
   "execution_count": 18,
   "metadata": {},
   "outputs": [],
   "source": [
    "import numpy as np\n",
    "from random import *\n",
    "import matplotlib.pyplot as plt\n",
    "import os"
   ]
  },
  {
   "cell_type": "code",
   "execution_count": 21,
   "metadata": {},
   "outputs": [
    {
     "name": "stdout",
     "output_type": "stream",
     "text": [
      "(12, 2)\n",
      "(12, 6)\n",
      "[[ 5.  3.]\n",
      " [ 5.  1.]\n",
      " [25.  4.]\n",
      " [25.  1.]\n",
      " [ 5.  2.]\n",
      " [25.  3.]\n",
      " [25.  2.]\n",
      " [ 5.  4.]\n",
      " [15.  4.]\n",
      " [15.  2.]\n",
      " [15.  3.]\n",
      " [15.  1.]]\n",
      "[[ 3.84943539e+02 -4.02939113e+02 -2.19462112e+01 -3.22003218e+02\n",
      "   1.64232707e+02  1.75843797e+01]\n",
      " [-1.23056000e+02 -2.37946486e+02 -3.81289774e+00 -3.87840891e+02\n",
      "  -4.46323461e+01 -5.83235030e+00]\n",
      " [ 1.85773300e+01  2.23983765e+02 -1.36556582e+02  4.02755058e+01\n",
      "   1.03854570e+02  2.45908061e+02]\n",
      " [-3.19822807e+02 -2.90651713e+02  2.47757093e+02 -4.03225960e+01\n",
      "  -6.66365986e+01 -5.82736814e+00]\n",
      " [-1.18710415e+02 -1.41335673e+02 -2.76682965e+02  1.38786620e+02\n",
      "  -4.26868115e+01  5.87465523e-02]\n",
      " [ 2.69237152e+02  1.47950039e+02 -1.64936031e+02 -6.57290477e+01\n",
      "   1.13006132e+02  1.94149341e+02]\n",
      " [-1.63460329e+02  1.00441812e+02  1.39680262e+02  2.64248510e+02\n",
      "   1.92700154e+01  1.33998039e+02]\n",
      " [-2.20267549e+02  3.65582945e+02 -1.49942564e+02 -3.10680542e+02\n",
      "  -6.58903568e+01 -8.98403759e+00]\n",
      " [ 0.00000000e+00  1.19918399e+02  1.82063963e+02  0.00000000e+00\n",
      "   0.00000000e+00  0.00000000e+00]\n",
      " [ 1.16116013e+02  0.00000000e+00  0.00000000e+00  0.00000000e+00\n",
      "   0.00000000e+00  4.68778549e+02]\n",
      " [ 0.00000000e+00  0.00000000e+00  0.00000000e+00  0.00000000e+00\n",
      "   0.00000000e+00  6.38694101e+02]\n",
      " [ 1.15335810e+01 -4.98837222e+00  0.00000000e+00 -3.66020127e+00\n",
      "  -5.48591296e+01  0.00000000e+00]]\n"
     ]
    }
   ],
   "source": [
    "observation_db = np.load('C:\\\\Repositories\\\\Master\\\\bomberman\\\\JAKOB_bomberman\\\\bomberman_environment\\\\agent_code\\\\merged_agent\\\\observation-ccdir.npy')\n",
    "q_table = np.load('C:\\\\Repositories\\\\Master\\\\bomberman\\\\JAKOB_bomberman\\\\bomberman_environment\\\\agent_code\\\\merged_agent\\\\q_table-ccdir.npy')\n",
    "\n",
    "#['UP', 'DOWN', 'LEFT', 'RIGHT', 'BOMB', 'WAIT']\n",
    "# left, right, up, down\n",
    "# print(np.where(q_table[:,4] > 0))\n",
    "# print(q_table[:, 4])\n",
    "print(observation_db.shape)\n",
    "print(q_table.shape)\n",
    "print(observation_db)\n",
    "print(q_table)"
   ]
  },
  {
   "cell_type": "code",
   "execution_count": 3,
   "metadata": {},
   "outputs": [
    {
     "name": "stdout",
     "output_type": "stream",
     "text": [
      "(2, 3)\n",
      "[['1' '1' 'r']]\n",
      "[1]\n"
     ]
    }
   ],
   "source": [
    "a = np.array([1,4])\n",
    "b = np.array([[2,3,\"3\"],[1,1,\"r\"]])\n",
    "c = np.empty([0, 3])\n",
    "c = np.append(c, [[1,1,\"r\"]], axis=0)\n",
    "print(b.shape)\n",
    "print(c)\n",
    "observation = np.array([1,1,\"r\"])\n",
    "# print(np.array_equal(b[1], [1,1,\"1\"]))\n",
    "f = np.where((b == observation).all(axis=1))[0]\n",
    "print(f)\n",
    "\n",
    "# print(np.abs(a-b))\n",
    "# np.sum(np.abs(a-b), axis=1)"
   ]
  },
  {
   "cell_type": "code",
   "execution_count": 4,
   "metadata": {},
   "outputs": [
    {
     "name": "stdout",
     "output_type": "stream",
     "text": [
      "False\n"
     ]
    },
    {
     "name": "stderr",
     "output_type": "stream",
     "text": [
      "C:\\dev\\Anaconda\\Installation\\envs\\ml_homework\\lib\\site-packages\\ipykernel_launcher.py:6: FutureWarning: elementwise comparison failed; returning scalar instead, but in the future will perform elementwise comparison\n",
      "  \n",
      "C:\\dev\\Anaconda\\Installation\\envs\\ml_homework\\lib\\site-packages\\ipykernel_launcher.py:7: FutureWarning: elementwise comparison failed; returning scalar instead, but in the future will perform elementwise comparison\n",
      "  import sys\n"
     ]
    },
    {
     "ename": "AttributeError",
     "evalue": "'bool' object has no attribute 'all'",
     "output_type": "error",
     "traceback": [
      "\u001b[1;31m-----------------------------------------------------------------\u001b[0m",
      "\u001b[1;31mAttributeError\u001b[0m                  Traceback (most recent call last)",
      "\u001b[1;32m<ipython-input-4-5aeb18785d8c>\u001b[0m in \u001b[0;36m<module>\u001b[1;34m\u001b[0m\n\u001b[0;32m      5\u001b[0m \u001b[1;33m\u001b[0m\u001b[0m\n\u001b[0;32m      6\u001b[0m \u001b[0mprint\u001b[0m\u001b[1;33m(\u001b[0m\u001b[0ma\u001b[0m \u001b[1;33m==\u001b[0m \u001b[0mc\u001b[0m\u001b[1;33m)\u001b[0m\u001b[1;33m\u001b[0m\u001b[1;33m\u001b[0m\u001b[0m\n\u001b[1;32m----> 7\u001b[1;33m \u001b[0mprint\u001b[0m\u001b[1;33m(\u001b[0m\u001b[1;33m(\u001b[0m\u001b[0ma\u001b[0m \u001b[1;33m==\u001b[0m \u001b[0mc\u001b[0m\u001b[1;33m)\u001b[0m\u001b[1;33m.\u001b[0m\u001b[0mall\u001b[0m\u001b[1;33m(\u001b[0m\u001b[0maxis\u001b[0m\u001b[1;33m=\u001b[0m\u001b[1;36m1\u001b[0m\u001b[1;33m)\u001b[0m\u001b[1;33m)\u001b[0m\u001b[1;33m\u001b[0m\u001b[1;33m\u001b[0m\u001b[0m\n\u001b[0m\u001b[0;32m      8\u001b[0m \u001b[0mprint\u001b[0m\u001b[1;33m(\u001b[0m\u001b[0mnp\u001b[0m\u001b[1;33m.\u001b[0m\u001b[0mwhere\u001b[0m\u001b[1;33m(\u001b[0m\u001b[0ma\u001b[0m \u001b[1;33m==\u001b[0m \u001b[0mc\u001b[0m\u001b[1;33m)\u001b[0m\u001b[1;33m)\u001b[0m\u001b[1;33m\u001b[0m\u001b[1;33m\u001b[0m\u001b[0m\n\u001b[0;32m      9\u001b[0m \u001b[1;33m\u001b[0m\u001b[0m\n",
      "\u001b[1;31mAttributeError\u001b[0m: 'bool' object has no attribute 'all'"
     ]
    }
   ],
   "source": [
    "xlist = [[3, 7, \"j\"]]\n",
    "a = np.asarray(xlist)\n",
    "c = np.array([3,7])\n",
    "# print(np.where(a == [3, 5]))\n",
    "\n",
    "print(a == c)\n",
    "print((a == c).all(axis=1))\n",
    "print(np.where(a == c))\n",
    "\n",
    "# np.where((a == [2., 1.2]).all(axis=1))[0]"
   ]
  },
  {
   "cell_type": "code",
   "execution_count": 17,
   "metadata": {},
   "outputs": [
    {
     "name": "stdout",
     "output_type": "stream",
     "text": [
      "[[False False False False False  True False]\n",
      " [False False False False False False False]\n",
      " [False False False False False False False]\n",
      " [False False False False False False False]\n",
      " [False False False False False False False]\n",
      " [False False False False False False False]\n",
      " [False False False False False False False]]\n",
      "[[False False False False False False False]\n",
      " [ True False False False False False False]\n",
      " [False False False False False False False]\n",
      " [False False False False False False False]\n",
      " [False False False False False False False]\n",
      " [False False False False False False False]\n",
      " [False False False False False False False]]\n",
      "[[False False False False False  True False]\n",
      " [ True False False False False False False]\n",
      " [False False False False False False False]\n",
      " [False False False False False False False]\n",
      " [False False False False False False False]\n",
      " [False False False False False False False]\n",
      " [False False False False False False False]]\n",
      "[[2 4]]\n",
      "[[  0   1   2   3   4   5   6]\n",
      " [  7   8 100  10  11  12  13]\n",
      " [ 14  15  16  17 100  19  20]\n",
      " [ 21  22  23  24  25  26  27]\n",
      " [ 28  29  30  31  32  33  34]\n",
      " [ 35  36  37  38  39  40  41]\n",
      " [ 42  43  44  45  46  47 100]]\n"
     ]
    }
   ],
   "source": [
    "a = np.array([[1,2], [2,4], [6,6]])\n",
    "field = np.arange(49).reshape([7,7])\n",
    "print(field == 5)\n",
    "print(field == 7)\n",
    "print(((field == 5) | (field == 7)))\n",
    "coords = a[((a > 1) & (a < 5)).all(axis=1)]\n",
    "print(coords)\n",
    "field[a[:, 0],a[:, 1]] = 100\n",
    "print(field)\n",
    "first = np.where(a == 2)\n",
    "second = np.where(a == 4)\n",
    "# print(first[0])\n",
    "# print(second[0])\n",
    "# print(np.concatenate((first[0], second[0])))\n",
    "# print(np.concatenate((first[1], second[1])))\n",
    "# print(np.vstack((np.concatenate((first[0], second[0])), np.concatenate((first[1], second[1])))).T)"
   ]
  },
  {
   "cell_type": "code",
   "execution_count": 9,
   "metadata": {},
   "outputs": [
    {
     "name": "stdout",
     "output_type": "stream",
     "text": [
      "(0, 2)\n"
     ]
    }
   ],
   "source": [
    "# coins = np.array([[4, 3], [ 1,  9], [ 2, 11], [ 8,  1],[ 6, 9], [ 9,13], [15,  1], [11,  8], [14, 13]])\n",
    "coins = np.array([[4, 3]])\n",
    "coins = np.delete(coins, np.where((coins == (4,3)).all(axis=1))[0], axis=0)\n",
    "print(coins.shape)"
   ]
  }
 ],
 "metadata": {
  "kernelspec": {
   "display_name": "Python 3",
   "language": "python",
   "name": "python3"
  },
  "language_info": {
   "codemirror_mode": {
    "name": "ipython",
    "version": 3
   },
   "file_extension": ".py",
   "mimetype": "text/x-python",
   "name": "python",
   "nbconvert_exporter": "python",
   "pygments_lexer": "ipython3",
   "version": "3.7.1"
  }
 },
 "nbformat": 4,
 "nbformat_minor": 2
}

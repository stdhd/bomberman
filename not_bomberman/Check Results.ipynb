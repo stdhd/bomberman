{
 "cells": [
  {
   "cell_type": "code",
   "execution_count": 1,
   "metadata": {},
   "outputs": [],
   "source": [
    "import numpy as np\n",
    "from random import *\n",
    "import matplotlib.pyplot as plt\n",
    "import os"
   ]
  },
  {
   "cell_type": "code",
   "execution_count": 2,
   "metadata": {},
   "outputs": [
    {
     "name": "stdout",
     "output_type": "stream",
     "text": [
      "(5, 1)\n",
      "(5, 6)\n",
      "[[1.]\n",
      " [5.]\n",
      " [2.]\n",
      " [4.]\n",
      " [3.]]\n",
      "[[-257.61995065 -204.47869465   51.16052612 -205.68352687 -471.43160455\n",
      "   -52.58524401]\n",
      " [-180.66534303 -117.28581609   -8.8728366  -148.69105899 -500.55063338\n",
      "   -48.84641379]\n",
      " [-125.02113163 -311.92054044 -278.96089861   50.30013922 -523.26899488\n",
      "   -73.33333331]\n",
      " [-136.5975911     5.07053003 -157.62712553 -339.12860873 -470.29680318\n",
      "    -3.29091572]\n",
      " [  38.2387805  -438.23237398 -412.56635831 -456.19042009 -507.12332358\n",
      "   -22.31312959]]\n"
     ]
    }
   ],
   "source": [
    "observation_db = np.load('C:\\\\Repositories\\\\Master\\\\bomberman\\\\JAKOB_bomberman\\\\bomberman_environment\\\\agent_code\\\\merged_agent\\\\observation_db.npy')\n",
    "q_table = np.load('C:\\\\Repositories\\\\Master\\\\bomberman\\\\JAKOB_bomberman\\\\bomberman_environment\\\\agent_code\\\\merged_agent\\\\q_table.npy')\n",
    "\n",
    "#['UP', 'DOWN', 'LEFT', 'RIGHT', 'BOMB', 'WAIT']\n",
    "# left, right, up, down\n",
    "# print(np.where(q_table[:,4] > 0))\n",
    "# print(q_table[:, 4])\n",
    "print(observation_db.shape)\n",
    "print(q_table.shape)\n",
    "print(observation_db)\n",
    "print(q_table)"
   ]
  },
  {
   "cell_type": "code",
   "execution_count": 3,
   "metadata": {},
   "outputs": [
    {
     "name": "stdout",
     "output_type": "stream",
     "text": [
      "(2, 3)\n",
      "[['1' '1' 'r']]\n",
      "[1]\n"
     ]
    }
   ],
   "source": [
    "a = np.array([1,4])\n",
    "b = np.array([[2,3,\"3\"],[1,1,\"r\"]])\n",
    "c = np.empty([0, 3])\n",
    "c = np.append(c, [[1,1,\"r\"]], axis=0)\n",
    "print(b.shape)\n",
    "print(c)\n",
    "observation = np.array([1,1,\"r\"])\n",
    "# print(np.array_equal(b[1], [1,1,\"1\"]))\n",
    "f = np.where((b == observation).all(axis=1))[0]\n",
    "print(f)\n",
    "\n",
    "# print(np.abs(a-b))\n",
    "# np.sum(np.abs(a-b), axis=1)"
   ]
  },
  {
   "cell_type": "code",
   "execution_count": 4,
   "metadata": {},
   "outputs": [
    {
     "name": "stdout",
     "output_type": "stream",
     "text": [
      "False\n"
     ]
    },
    {
     "name": "stderr",
     "output_type": "stream",
     "text": [
      "C:\\dev\\Anaconda\\Installation\\envs\\ml_homework\\lib\\site-packages\\ipykernel_launcher.py:6: FutureWarning: elementwise comparison failed; returning scalar instead, but in the future will perform elementwise comparison\n",
      "  \n",
      "C:\\dev\\Anaconda\\Installation\\envs\\ml_homework\\lib\\site-packages\\ipykernel_launcher.py:7: FutureWarning: elementwise comparison failed; returning scalar instead, but in the future will perform elementwise comparison\n",
      "  import sys\n"
     ]
    },
    {
     "ename": "AttributeError",
     "evalue": "'bool' object has no attribute 'all'",
     "output_type": "error",
     "traceback": [
      "\u001b[1;31m-----------------------------------------------------------------\u001b[0m",
      "\u001b[1;31mAttributeError\u001b[0m                  Traceback (most recent call last)",
      "\u001b[1;32m<ipython-input-4-5aeb18785d8c>\u001b[0m in \u001b[0;36m<module>\u001b[1;34m\u001b[0m\n\u001b[0;32m      5\u001b[0m \u001b[1;33m\u001b[0m\u001b[0m\n\u001b[0;32m      6\u001b[0m \u001b[0mprint\u001b[0m\u001b[1;33m(\u001b[0m\u001b[0ma\u001b[0m \u001b[1;33m==\u001b[0m \u001b[0mc\u001b[0m\u001b[1;33m)\u001b[0m\u001b[1;33m\u001b[0m\u001b[1;33m\u001b[0m\u001b[0m\n\u001b[1;32m----> 7\u001b[1;33m \u001b[0mprint\u001b[0m\u001b[1;33m(\u001b[0m\u001b[1;33m(\u001b[0m\u001b[0ma\u001b[0m \u001b[1;33m==\u001b[0m \u001b[0mc\u001b[0m\u001b[1;33m)\u001b[0m\u001b[1;33m.\u001b[0m\u001b[0mall\u001b[0m\u001b[1;33m(\u001b[0m\u001b[0maxis\u001b[0m\u001b[1;33m=\u001b[0m\u001b[1;36m1\u001b[0m\u001b[1;33m)\u001b[0m\u001b[1;33m)\u001b[0m\u001b[1;33m\u001b[0m\u001b[1;33m\u001b[0m\u001b[0m\n\u001b[0m\u001b[0;32m      8\u001b[0m \u001b[0mprint\u001b[0m\u001b[1;33m(\u001b[0m\u001b[0mnp\u001b[0m\u001b[1;33m.\u001b[0m\u001b[0mwhere\u001b[0m\u001b[1;33m(\u001b[0m\u001b[0ma\u001b[0m \u001b[1;33m==\u001b[0m \u001b[0mc\u001b[0m\u001b[1;33m)\u001b[0m\u001b[1;33m)\u001b[0m\u001b[1;33m\u001b[0m\u001b[1;33m\u001b[0m\u001b[0m\n\u001b[0;32m      9\u001b[0m \u001b[1;33m\u001b[0m\u001b[0m\n",
      "\u001b[1;31mAttributeError\u001b[0m: 'bool' object has no attribute 'all'"
     ]
    }
   ],
   "source": [
    "xlist = [[3, 7, \"j\"]]\n",
    "a = np.asarray(xlist)\n",
    "c = np.array([3,7])\n",
    "# print(np.where(a == [3, 5]))\n",
    "\n",
    "print(a == c)\n",
    "print((a == c).all(axis=1))\n",
    "print(np.where(a == c))\n",
    "\n",
    "# np.where((a == [2., 1.2]).all(axis=1))[0]"
   ]
  },
  {
   "cell_type": "code",
   "execution_count": 66,
   "metadata": {},
   "outputs": [
    {
     "name": "stdout",
     "output_type": "stream",
     "text": [
      "[[ 0  1  2  3  4  5  6]\n",
      " [ 7  8  9 10 11 12 13]\n",
      " [14 15 16 17 18 19 20]\n",
      " [21 22 23 24 25 26 27]\n",
      " [28 29 30 31 32 33 34]\n",
      " [35 36 37 38 39 40 41]\n",
      " [42 43 44 45 46 47 48]]\n",
      "[[2 4]]\n",
      "[[  0   1   2   3   4   5   6]\n",
      " [  7   8 100  10  11  12  13]\n",
      " [ 14  15  16  17 100  19  20]\n",
      " [ 21  22  23  24  25  26  27]\n",
      " [ 28  29  30  31  32  33  34]\n",
      " [ 35  36  37  38  39  40  41]\n",
      " [ 42  43  44  45  46  47 100]]\n"
     ]
    }
   ],
   "source": [
    "a = np.array([[1,2], [2,4], [6,6]])\n",
    "field = np.arange(49).reshape([7,7])\n",
    "print(field)\n",
    "coords = a[((a > 1) & (a < 5)).all(axis=1)]\n",
    "print(coords)\n",
    "field[a[:, 0],a[:, 1]] = 100\n",
    "print(field)\n",
    "first = np.where(a == 2)\n",
    "second = np.where(a == 4)\n",
    "# print(first[0])\n",
    "# print(second[0])\n",
    "# print(np.concatenate((first[0], second[0])))\n",
    "# print(np.concatenate((first[1], second[1])))\n",
    "# print(np.vstack((np.concatenate((first[0], second[0])), np.concatenate((first[1], second[1])))).T)"
   ]
  },
  {
   "cell_type": "code",
   "execution_count": 9,
   "metadata": {},
   "outputs": [
    {
     "name": "stdout",
     "output_type": "stream",
     "text": [
      "(0, 2)\n"
     ]
    }
   ],
   "source": [
    "# coins = np.array([[4, 3], [ 1,  9], [ 2, 11], [ 8,  1],[ 6, 9], [ 9,13], [15,  1], [11,  8], [14, 13]])\n",
    "coins = np.array([[4, 3]])\n",
    "coins = np.delete(coins, np.where((coins == (4,3)).all(axis=1))[0], axis=0)\n",
    "print(coins.shape)"
   ]
  }
 ],
 "metadata": {
  "kernelspec": {
   "display_name": "Python 3",
   "language": "python",
   "name": "python3"
  },
  "language_info": {
   "codemirror_mode": {
    "name": "ipython",
    "version": 3
   },
   "file_extension": ".py",
   "mimetype": "text/x-python",
   "name": "python",
   "nbconvert_exporter": "python",
   "pygments_lexer": "ipython3",
   "version": "3.7.1"
  }
 },
 "nbformat": 4,
 "nbformat_minor": 2
}

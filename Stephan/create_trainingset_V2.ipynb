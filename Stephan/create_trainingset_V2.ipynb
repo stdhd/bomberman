{
 "cells": [
  {
   "cell_type": "code",
   "execution_count": 49,
   "metadata": {
    "collapsed": true
   },
   "outputs": [],
   "source": [
    "import numpy as np"
   ]
  },
  {
   "cell_type": "code",
   "execution_count": 50,
   "metadata": {
    "scrolled": false
   },
   "outputs": [],
   "source": [
    "daten = np.load(\"test_daten.npy\")"
   ]
  },
  {
   "cell_type": "code",
   "execution_count": 69,
   "metadata": {},
   "outputs": [],
   "source": [
    "def create_trainingS(array_source, radius):  \n",
    "    ZEILEN = 17\n",
    "    WALL = 2\n",
    "    CRATE = -1\n",
    "    FREE = 0\n",
    "    COIN = 1\n",
    "    PLAYER = 3\n",
    "    BOMB = 4\n",
    "\n",
    "    array_target = np.zeros([17,17])\n",
    "    array_target[0] = np.full((1,ZEILEN), WALL)\n",
    "    for i in range(8):\n",
    "        #Write Wall-Free Row\n",
    "        array_target[i * 2 + 1] = np.concatenate([[WALL],array_source[:15],[WALL]])\n",
    "        array_source = np.delete(array_source,np.arange(15),0)\n",
    "\n",
    "        #Write Wall-Occupied Row\n",
    "        row = np.zeros([17])\n",
    "        row[0] = WALL\n",
    "        row[16] = WALL\n",
    "        for j in range (15):\n",
    "            if 15%2 == 0:\n",
    "                row[j + 1] = array_source[:1]\n",
    "                array_source = np.delete(0,0)\n",
    "\n",
    "            else:\n",
    "                row[j + 1] = WALL\n",
    "\n",
    "        array_target[i * 2 + 2] = row\n",
    "\n",
    "    #Write Wall-Free Row\n",
    "    array_target[15] = np.concatenate([[WALL],array_source[:15],[WALL]])   \n",
    "    array_target[16] = np.full((1,ZEILEN), WALL)\n",
    "    \n",
    "    return array_target\n",
    "    #Add Player and Bomb coordinates\n",
    "    start = 0\n",
    "    for i in range(4):\n",
    "        px = array_source[start]\n",
    "        py = array_source[start + 1]\n",
    "        target_array[py,px] = PLAYER\n",
    "\n",
    "        bx = array_source[start + 2]\n",
    "        by = array_source[start + 3]\n",
    "        target_array[by,bx] = BOMB\n",
    "\n",
    "        start = start + 3\n",
    "\n",
    "        #TODO: Stimmen die Koordinaten?\n",
    "    \n",
    "    for i in range(radius):\n",
    "        array_target = np.concatenate(np.zeros(17), array_target, 0)\n",
    "        array_target = np.concatenate(array_target, np.zeros(17) , 0 )\n",
    "        \n",
    "        array_target = np.concatenate(array_target, np.zeros(17 + 2* radius), 1)\n",
    "        array_target = np.concatenate(np.zeros(17 + 2* radius), array_target, 1)\n",
    "        \n",
    "    # Sichtbaren Ausschnitt erstellen:\n",
    "    array_ausschnitt = array_target[(py - radius) : (py + radius),:]\n",
    "    array_ausschnitt = array_ausschnitt[:,px - radius : px + radius]\n",
    "    \n",
    "    \n",
    "    # Flatten array\n",
    "    array_flattened = array_ausschnitt.flatten()\n",
    "    \n",
    "    # Add More Features:\n",
    "    return array_flattened\n"
   ]
  },
  {
   "cell_type": "code",
   "execution_count": 88,
   "metadata": {
    "collapsed": true
   },
   "outputs": [],
   "source": [
    "def create_trainingSX(array_source, radius):  \n",
    "    ZEILEN = 17\n",
    "    WALL = 2\n",
    "    CRATE = -1\n",
    "    FREE = 0\n",
    "    COIN = 1\n",
    "    PLAYER = 3\n",
    "    BOMB = 4\n",
    "\n",
    "    array_target = np.zeros([17,17])\n",
    "    array_target[0] = np.full((1,ZEILEN), WALL)\n",
    "    for i in range(8):\n",
    "        #Write Wall-Free Row\n",
    "        array_target[i * 2 + 1] = np.concatenate([[FREE],array_source[:15],[FREE]])\n",
    "        array_source = np.delete(array_source,np.arange(15),0)\n",
    "\n",
    "        #Write Wall-Occupied Row\n",
    "        row = np.zeros([17])\n",
    "        row[0] = WALL\n",
    "        row[16] = WALL\n",
    "        for j in range (15):\n",
    "            if j%2 == 0:\n",
    "                row[j + 1] = array_source[:1]\n",
    "                array_source = np.delete(0,0)\n",
    "\n",
    "            else:\n",
    "                row[j + 1] = WALL\n",
    "\n",
    "        array_target[i * 2 + 2] = row\n",
    "\n",
    "    #Write Wall-Free Row\n",
    "    array_target[15] = np.concatenate([[FREE],array_source[:15],[FREE]])   \n",
    "    array_target[16] = np.full((1,ZEILEN), WALL)\n",
    "    return array_target\n",
    "\n",
    "    px = 10\n",
    "    py = 10\n",
    "        \n",
    "    # Sichtbaren Ausschnitt erstellen:\n",
    "    array_ausschnitt = array_target[(py - radius  ) : (py + radius),:]\n",
    "    #array_ausschnitt = array_ausschnitt[:,px - radius : px + radius]\n",
    "    \n",
    "    \n",
    "    # Flatten array\n",
    "   # array_flattened = array_ausschnitt.flatten()\n",
    "    \n",
    "    # Add More Features:\n",
    "    return array_ausschnitt\n",
    "\n"
   ]
  },
  {
   "cell_type": "code",
   "execution_count": 89,
   "metadata": {},
   "outputs": [
    {
     "ename": "ValueError",
     "evalue": "setting an array element with a sequence.",
     "output_type": "error",
     "traceback": [
      "\u001b[0;31m---------------------------------------------------------------------------\u001b[0m",
      "\u001b[0;31mValueError\u001b[0m                                Traceback (most recent call last)",
      "\u001b[0;32m<ipython-input-89-fffff7e84121>\u001b[0m in \u001b[0;36m<module>\u001b[0;34m()\u001b[0m\n\u001b[0;32m----> 1\u001b[0;31m \u001b[0mcreate_trainingSX\u001b[0m\u001b[0;34m(\u001b[0m\u001b[0mdaten\u001b[0m\u001b[0;34m,\u001b[0m\u001b[0;36m2\u001b[0m\u001b[0;34m)\u001b[0m\u001b[0;34m\u001b[0m\u001b[0m\n\u001b[0m",
      "\u001b[0;32m<ipython-input-88-4aa7c8e5f1ae>\u001b[0m in \u001b[0;36mcreate_trainingSX\u001b[0;34m(array_source, radius)\u001b[0m\n\u001b[1;32m     21\u001b[0m         \u001b[0;32mfor\u001b[0m \u001b[0mj\u001b[0m \u001b[0;32min\u001b[0m \u001b[0mrange\u001b[0m \u001b[0;34m(\u001b[0m\u001b[0;36m15\u001b[0m\u001b[0;34m)\u001b[0m\u001b[0;34m:\u001b[0m\u001b[0;34m\u001b[0m\u001b[0m\n\u001b[1;32m     22\u001b[0m             \u001b[0;32mif\u001b[0m \u001b[0mj\u001b[0m\u001b[0;34m%\u001b[0m\u001b[0;36m2\u001b[0m \u001b[0;34m==\u001b[0m \u001b[0;36m0\u001b[0m\u001b[0;34m:\u001b[0m\u001b[0;34m\u001b[0m\u001b[0m\n\u001b[0;32m---> 23\u001b[0;31m                 \u001b[0mrow\u001b[0m\u001b[0;34m[\u001b[0m\u001b[0mj\u001b[0m \u001b[0;34m+\u001b[0m \u001b[0;36m1\u001b[0m\u001b[0;34m]\u001b[0m \u001b[0;34m=\u001b[0m \u001b[0marray_source\u001b[0m\u001b[0;34m[\u001b[0m\u001b[0;34m:\u001b[0m\u001b[0;36m1\u001b[0m\u001b[0;34m]\u001b[0m\u001b[0;34m\u001b[0m\u001b[0m\n\u001b[0m\u001b[1;32m     24\u001b[0m                 \u001b[0marray_source\u001b[0m \u001b[0;34m=\u001b[0m \u001b[0mnp\u001b[0m\u001b[0;34m.\u001b[0m\u001b[0mdelete\u001b[0m\u001b[0;34m(\u001b[0m\u001b[0;36m0\u001b[0m\u001b[0;34m,\u001b[0m\u001b[0;36m0\u001b[0m\u001b[0;34m)\u001b[0m\u001b[0;34m\u001b[0m\u001b[0m\n\u001b[1;32m     25\u001b[0m \u001b[0;34m\u001b[0m\u001b[0m\n",
      "\u001b[0;31mValueError\u001b[0m: setting an array element with a sequence."
     ]
    }
   ],
   "source": [
    "create_trainingSX(daten,2)"
   ]
  },
  {
   "cell_type": "code",
   "execution_count": 64,
   "metadata": {},
   "outputs": [
    {
     "data": {
      "text/plain": [
       "array([ 3.,  0.,  0., -1., -1., -1.,  0., -1., -1., -1.,  0.,  1., -1.,\n",
       "        0.,  0.,  3.])"
      ]
     },
     "execution_count": 64,
     "metadata": {},
     "output_type": "execute_result"
    }
   ],
   "source": [
    "np.concatenate([[3],daten[:14],[3]])"
   ]
  },
  {
   "cell_type": "code",
   "execution_count": 77,
   "metadata": {},
   "outputs": [
    {
     "data": {
      "text/plain": [
       "array([[ 2.,  2.,  2.,  2.,  2.,  2.,  2.,  2.,  2.,  2.,  2.,  2.,  2.,\n",
       "         2.,  2.,  2.,  2.],\n",
       "       [ 2.,  0.,  0., -1., -1., -1.,  0., -1., -1., -1.,  0.,  1., -1.,\n",
       "         0.,  0.,  0.,  2.],\n",
       "       [ 2.,  2.,  2.,  2.,  2.,  2.,  2.,  2.,  2.,  2.,  2.,  2.,  2.,\n",
       "         2.,  2.,  2.,  2.],\n",
       "       [ 2.,  0., -1., -1., -1.,  0., -1., -1., -1.,  0.,  0.,  1.,  0.,\n",
       "        -1.,  1.,  1.,  2.],\n",
       "       [ 2.,  2.,  2.,  2.,  2.,  2.,  2.,  2.,  2.,  2.,  2.,  2.,  2.,\n",
       "         2.,  2.,  2.,  2.],\n",
       "       [ 2., -1., -1., -1., -1., -1., -1., -1., -1., -1., -1.,  0.,  1.,\n",
       "        -1.,  0., -1.,  2.],\n",
       "       [ 2.,  2.,  2.,  2.,  2.,  2.,  2.,  2.,  2.,  2.,  2.,  2.,  2.,\n",
       "         2.,  2.,  2.,  2.],\n",
       "       [ 2., -1., -1., -1., -1., -1., -1., -1.,  0.,  0., -1., -1., -1.,\n",
       "         0.,  1.,  1.,  2.],\n",
       "       [ 2.,  2.,  2.,  2.,  2.,  2.,  2.,  2.,  2.,  2.,  2.,  2.,  2.,\n",
       "         2.,  2.,  2.,  2.],\n",
       "       [ 2., -1.,  0., -1., -1., -1., -1., -1., -1.,  0.,  0.,  0., -1.,\n",
       "        -1., -1.,  0.,  2.],\n",
       "       [ 2.,  2.,  2.,  2.,  2.,  2.,  2.,  2.,  2.,  2.,  2.,  2.,  2.,\n",
       "         2.,  2.,  2.,  2.],\n",
       "       [ 2., -1., -1., -1., -1., -1., -1.,  0., -1., -1., -1.,  0., -1.,\n",
       "         1.,  1.,  1.,  2.],\n",
       "       [ 2.,  2.,  2.,  2.,  2.,  2.,  2.,  2.,  2.,  2.,  2.,  2.,  2.,\n",
       "         2.,  2.,  2.,  2.],\n",
       "       [ 2., -1., -1., -1.,  1., -1., -1., -1., -1., -1., -1., -1., -1.,\n",
       "         0., -1., -1.,  2.],\n",
       "       [ 2.,  2.,  2.,  2.,  2.,  2.,  2.,  2.,  2.,  2.,  2.,  2.,  2.,\n",
       "         2.,  2.,  2.,  2.],\n",
       "       [ 2.,  0., -1.,  1., -1.,  0.,  1.,  0., -1., -1.,  0., -1., -1.,\n",
       "        -1.,  0., -1.,  2.],\n",
       "       [ 2.,  2.,  2.,  2.,  2.,  2.,  2.,  2.,  2.,  2.,  2.,  2.,  2.,\n",
       "         2.,  2.,  2.,  2.]])"
      ]
     },
     "execution_count": 77,
     "metadata": {},
     "output_type": "execute_result"
    }
   ],
   "source": [
    "create_trainingS(daten,2)"
   ]
  },
  {
   "cell_type": "code",
   "execution_count": null,
   "metadata": {
    "collapsed": true
   },
   "outputs": [],
   "source": []
  }
 ],
 "metadata": {
  "kernelspec": {
   "display_name": "Python 3",
   "language": "python",
   "name": "python3"
  },
  "language_info": {
   "codemirror_mode": {
    "name": "ipython",
    "version": 3
   },
   "file_extension": ".py",
   "mimetype": "text/x-python",
   "name": "python",
   "nbconvert_exporter": "python",
   "pygments_lexer": "ipython3",
   "version": "3.6.1"
  }
 },
 "nbformat": 4,
 "nbformat_minor": 2
}

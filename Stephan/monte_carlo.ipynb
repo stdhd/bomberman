{
 "cells": [
  {
   "cell_type": "code",
   "execution_count": 75,
   "metadata": {
    "collapsed": true
   },
   "outputs": [],
   "source": [
    "import numpy as np\n",
    "import math"
   ]
  },
  {
   "cell_type": "code",
   "execution_count": 90,
   "metadata": {
    "collapsed": true
   },
   "outputs": [],
   "source": [
    "# state definition\n",
    "sample_state_vectors = np.array([[0,1,0,1],[1,0,0,0],[0,1,1,1]])\n",
    "\n",
    "# state_order_per_game\n",
    "sample_state_order = np.array([[0,2,1,0,3,0]])\n",
    "\n",
    "# rewards_per_step_per_game\n",
    "sample_rewards_per_step = np.array([[1,0,0,1,0,1]])"
   ]
  },
  {
   "cell_type": "code",
   "execution_count": 91,
   "metadata": {
    "collapsed": true
   },
   "outputs": [],
   "source": [
    "def add_game(state_vector, state_order, rewards_per_step):\n",
    "    DISCOUNT_FACTOR = 0.7\n",
    "    einzel_values_per_state = np.zeros([state_vector.shape[0], 2])\n",
    "    sum = 0\n",
    "    for i in range(state_order.shape[0] -1 , 0, -1):\n",
    "        sum = sum + rewards_per_step[i]\n",
    "        einzel_values_per_state[state_order[i],0] = einzel_values_per_state[state_order[i],0] + 1\n",
    "        print((math.pow(DISCOUNT_FACTOR, state_order.shape[0]-i) * einzel_values_per_state[state_order[i],1] + sum))\n",
    "        einzel_values_per_state[state_order[i],1] = (math.pow(DISCOUNT_FACTOR, state_order.shape[0]-i) * einzel_values_per_state[state_order[i],1] + sum)\n",
    "        \n",
    "    # Mittelwerte bilden\n",
    "    values_per_state = np.zeros(state_vector.shape[0])\n",
    "    for i in range(einzel_values_per_state.shape[0]):\n",
    "        if not einzel_values_per_state[i, 0] == 0:\n",
    "            values_per_state[i] = einzel_values_per_state[i, 1] / einzel_values_per_state[i, 0]\n",
    "    \n",
    "    return values_per_state"
   ]
  },
  {
   "cell_type": "code",
   "execution_count": 92,
   "metadata": {
    "scrolled": true
   },
   "outputs": [
    {
     "name": "stdout",
     "output_type": "stream",
     "text": [
      "1.0\n",
      "1.0\n",
      "2.343\n",
      "2.0\n",
      "2.0\n"
     ]
    },
    {
     "data": {
      "text/plain": [
       "array([1.1715, 2.    , 2.    , 1.    ])"
      ]
     },
     "execution_count": 92,
     "metadata": {},
     "output_type": "execute_result"
    }
   ],
   "source": [
    "add_game(sample_state_vectors[0], sample_state_order[0], sample_rewards_per_step[0])"
   ]
  },
  {
   "cell_type": "code",
   "execution_count": null,
   "metadata": {
    "collapsed": true
   },
   "outputs": [],
   "source": []
  }
 ],
 "metadata": {
  "kernelspec": {
   "display_name": "Python 3",
   "language": "python",
   "name": "python3"
  },
  "language_info": {
   "codemirror_mode": {
    "name": "ipython",
    "version": 3
   },
   "file_extension": ".py",
   "mimetype": "text/x-python",
   "name": "python",
   "nbconvert_exporter": "python",
   "pygments_lexer": "ipython3",
   "version": "3.6.1"
  }
 },
 "nbformat": 4,
 "nbformat_minor": 2
}

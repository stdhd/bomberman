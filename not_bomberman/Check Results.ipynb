{
 "cells": [
  {
   "cell_type": "code",
   "execution_count": 38,
   "metadata": {},
   "outputs": [],
   "source": [
    "import numpy as np\n",
    "from random import *\n",
    "import matplotlib.pyplot as plt\n",
    "import os"
   ]
  },
  {
   "cell_type": "code",
   "execution_count": 41,
   "metadata": {},
   "outputs": [
    {
     "name": "stdout",
     "output_type": "stream",
     "text": [
      "(1560, 11)\n",
      "(1560, 6)\n",
      "[[-1. -1. -1. ... -1.  4.  2.]\n",
      " [-1.  0.  0. ...  0.  2.  1.]\n",
      " [-1. -1. -1. ... -1.  4.  4.]\n",
      " ...\n",
      " [-1.  3. -1. ... -1.  1.  2.]\n",
      " [ 0.  3. -1. ... -1.  1.  1.]\n",
      " [-1.  3. -1. ... -1.  1.  3.]]\n",
      "[[-492.80498057  -64.23703491 -486.69493135 -148.51494091 -142.97040763\n",
      "    58.92568402]\n",
      " [-553.01163967 -508.0530471  -570.213105   -203.76476478   15.61024553\n",
      "  -399.325597  ]\n",
      " [-200.            6.16751712 -314.97580545    8.37129055 -362.57801555\n",
      "    31.49574475]\n",
      " ...\n",
      " [   0.           70.60681063    0.            0.            0.\n",
      "     0.        ]\n",
      " [   0.            0.            0.            5.01197487    0.\n",
      "     0.        ]\n",
      " [   0.         -186.99129084    0.            0.            0.\n",
      "     0.        ]]\n"
     ]
    }
   ],
   "source": [
    "observation_db = np.load('C:\\\\Repositories\\\\Master\\\\bomberman\\\\JAKOB_bomberman\\\\bomberman_environment\\\\agent_code\\\\merged_agent\\\\observation-ccdir_csfdir.npy')\n",
    "q_table = np.load('C:\\\\Repositories\\\\Master\\\\bomberman\\\\JAKOB_bomberman\\\\bomberman_environment\\\\agent_code\\\\merged_agent\\\\q_table-ccdir_csfdir.npy')\n",
    "\n",
    "#['UP', 'DOWN', 'LEFT', 'RIGHT', 'BOMB', 'WAIT']\n",
    "# left, right, up, down\n",
    "# print(np.where(q_table[:,4] > 0))\n",
    "# print(q_table[:, 4])\n",
    "print(observation_db.shape)\n",
    "print(q_table.shape)\n",
    "print(observation_db)\n",
    "print(q_table)"
   ]
  },
  {
   "cell_type": "code",
   "execution_count": 3,
   "metadata": {},
   "outputs": [
    {
     "name": "stdout",
     "output_type": "stream",
     "text": [
      "(2, 3)\n",
      "[['1' '1' 'r']]\n",
      "[1]\n"
     ]
    }
   ],
   "source": [
    "a = np.array([1,4])\n",
    "b = np.array([[2,3,\"3\"],[1,1,\"r\"]])\n",
    "c = np.empty([0, 3])\n",
    "c = np.append(c, [[1,1,\"r\"]], axis=0)\n",
    "print(b.shape)\n",
    "print(c)\n",
    "observation = np.array([1,1,\"r\"])\n",
    "# print(np.array_equal(b[1], [1,1,\"1\"]))\n",
    "f = np.where((b == observation).all(axis=1))[0]\n",
    "print(f)\n",
    "\n",
    "# print(np.abs(a-b))\n",
    "# np.sum(np.abs(a-b), axis=1)"
   ]
  },
  {
   "cell_type": "code",
   "execution_count": 4,
   "metadata": {},
   "outputs": [
    {
     "name": "stdout",
     "output_type": "stream",
     "text": [
      "False\n"
     ]
    },
    {
     "name": "stderr",
     "output_type": "stream",
     "text": [
      "C:\\dev\\Anaconda\\Installation\\envs\\ml_homework\\lib\\site-packages\\ipykernel_launcher.py:6: FutureWarning: elementwise comparison failed; returning scalar instead, but in the future will perform elementwise comparison\n",
      "  \n",
      "C:\\dev\\Anaconda\\Installation\\envs\\ml_homework\\lib\\site-packages\\ipykernel_launcher.py:7: FutureWarning: elementwise comparison failed; returning scalar instead, but in the future will perform elementwise comparison\n",
      "  import sys\n"
     ]
    },
    {
     "ename": "AttributeError",
     "evalue": "'bool' object has no attribute 'all'",
     "output_type": "error",
     "traceback": [
      "\u001b[1;31m-----------------------------------------------------------------\u001b[0m",
      "\u001b[1;31mAttributeError\u001b[0m                  Traceback (most recent call last)",
      "\u001b[1;32m<ipython-input-4-5aeb18785d8c>\u001b[0m in \u001b[0;36m<module>\u001b[1;34m\u001b[0m\n\u001b[0;32m      5\u001b[0m \u001b[1;33m\u001b[0m\u001b[0m\n\u001b[0;32m      6\u001b[0m \u001b[0mprint\u001b[0m\u001b[1;33m(\u001b[0m\u001b[0ma\u001b[0m \u001b[1;33m==\u001b[0m \u001b[0mc\u001b[0m\u001b[1;33m)\u001b[0m\u001b[1;33m\u001b[0m\u001b[1;33m\u001b[0m\u001b[0m\n\u001b[1;32m----> 7\u001b[1;33m \u001b[0mprint\u001b[0m\u001b[1;33m(\u001b[0m\u001b[1;33m(\u001b[0m\u001b[0ma\u001b[0m \u001b[1;33m==\u001b[0m \u001b[0mc\u001b[0m\u001b[1;33m)\u001b[0m\u001b[1;33m.\u001b[0m\u001b[0mall\u001b[0m\u001b[1;33m(\u001b[0m\u001b[0maxis\u001b[0m\u001b[1;33m=\u001b[0m\u001b[1;36m1\u001b[0m\u001b[1;33m)\u001b[0m\u001b[1;33m)\u001b[0m\u001b[1;33m\u001b[0m\u001b[1;33m\u001b[0m\u001b[0m\n\u001b[0m\u001b[0;32m      8\u001b[0m \u001b[0mprint\u001b[0m\u001b[1;33m(\u001b[0m\u001b[0mnp\u001b[0m\u001b[1;33m.\u001b[0m\u001b[0mwhere\u001b[0m\u001b[1;33m(\u001b[0m\u001b[0ma\u001b[0m \u001b[1;33m==\u001b[0m \u001b[0mc\u001b[0m\u001b[1;33m)\u001b[0m\u001b[1;33m)\u001b[0m\u001b[1;33m\u001b[0m\u001b[1;33m\u001b[0m\u001b[0m\n\u001b[0;32m      9\u001b[0m \u001b[1;33m\u001b[0m\u001b[0m\n",
      "\u001b[1;31mAttributeError\u001b[0m: 'bool' object has no attribute 'all'"
     ]
    }
   ],
   "source": [
    "xlist = [[3, 7, \"j\"]]\n",
    "a = np.asarray(xlist)\n",
    "c = np.array([3,7])\n",
    "# print(np.where(a == [3, 5]))\n",
    "\n",
    "print(a == c)\n",
    "print((a == c).all(axis=1))\n",
    "print(np.where(a == c))\n",
    "\n",
    "# np.where((a == [2., 1.2]).all(axis=1))[0]"
   ]
  },
  {
   "cell_type": "code",
   "execution_count": 14,
   "metadata": {},
   "outputs": [
    {
     "name": "stdout",
     "output_type": "stream",
     "text": [
      "[]\n",
      "[1]\n",
      "[1 0 1]\n",
      "[1 1 0]\n",
      "[[1, 2, 3], [1, 2, 3]]\n"
     ]
    }
   ],
   "source": [
    "a = np.array([[1,2], [2,4], [6,6]])\n",
    "field = np.arange(49).reshape([7,7])\n",
    "# print(((field == 5) | (field == 7)))\n",
    "coords = a[((a > 1) & (a < 5)).all(axis=1)]\n",
    "field[a[:, 0],a[:, 1]] = 100\n",
    "first = np.where(a == 5)\n",
    "second = np.where(a == 4)\n",
    "third = np.where(a == 2)\n",
    "print(first[0])\n",
    "print(second[0])\n",
    "print(np.concatenate((first[0], second[0], third[0])))\n",
    "print(np.concatenate((first[1], second[1], third[1])))\n",
    "# print(np.vstack((np.concatenate((first[0], second[0])), np.concatenate((first[1], second[1])))).T)\n",
    "stack = np.vstack((np.concatenate((first[0], second[0], third[0])), np.concatenate((first[1], second[1], third[1])))).T\n",
    "\n",
    "abc = []\n",
    "abc.append([1,2,3])\n",
    "abc.append([1,2,3])\n",
    "print(abc)"
   ]
  },
  {
   "cell_type": "code",
   "execution_count": 27,
   "metadata": {},
   "outputs": [
    {
     "name": "stdout",
     "output_type": "stream",
     "text": [
      "(array([], dtype=int64),)\n",
      "[[ 0  1]\n",
      " [ 2  3]\n",
      " [ 4  5]\n",
      " [ 6  7]\n",
      " [ 8  9]\n",
      " [10 11]\n",
      " [12 13]\n",
      " [14 15]\n",
      " [16 17]\n",
      " [18 19]]\n",
      "B [1 1 3]\n",
      "[2 2 5]\n",
      "[[1 1 2]\n",
      " [1 1 3]]\n"
     ]
    },
    {
     "name": "stderr",
     "output_type": "stream",
     "text": [
      "C:\\dev\\Anaconda\\Installation\\envs\\ml_homework\\lib\\site-packages\\ipykernel_launcher.py:2: DeprecationWarning: elementwise == comparison failed; this will raise an error in the future.\n",
      "  \n"
     ]
    }
   ],
   "source": [
    "ar = np.arange(20).reshape(10,2)\n",
    "print(np.where((ar == np.array([[18,19], [0,1]])))  )\n",
    "print(ar)\n",
    "\n",
    "A = np.array([[1, 1, 1],[1, 1, 2],[1, 1, 3],[1, 0, 1]])\n",
    "B = np.array([[0, 0, 0],[1, 0, 2],[1, 0, 3],[1, 0, 4],[1, 1, 0],[1, 1, 1],[1, 0, 1]])\n",
    "print(\"B\", A.max(0))\n",
    "dims = np.maximum(B.max(0),A.max(0))+1\n",
    "print(dims)\n",
    "out = A[~np.in1d(np.ravel_multi_index(A.T,dims),np.ravel_multi_index(B.T,dims))]\n",
    "print(out)"
   ]
  },
  {
   "cell_type": "code",
   "execution_count": 33,
   "metadata": {},
   "outputs": [
    {
     "name": "stdout",
     "output_type": "stream",
     "text": [
      "<class 'tuple'>\n",
      "(3, 6)\n"
     ]
    }
   ],
   "source": [
    "abc = (3,6)\n",
    "x = 3\n",
    "y = 5\n",
    "print(type(abc))\n",
    "def tryTupel(bestValue, x, y):\n",
    "    if bestValue == (x, y+1):\n",
    "        print(bestValue)\n",
    "        \n",
    "tryTupel(abc,x,y)"
   ]
  }
 ],
 "metadata": {
  "kernelspec": {
   "display_name": "Python 3",
   "language": "python",
   "name": "python3"
  },
  "language_info": {
   "codemirror_mode": {
    "name": "ipython",
    "version": 3
   },
   "file_extension": ".py",
   "mimetype": "text/x-python",
   "name": "python",
   "nbconvert_exporter": "python",
   "pygments_lexer": "ipython3",
   "version": "3.7.1"
  }
 },
 "nbformat": 4,
 "nbformat_minor": 2
}

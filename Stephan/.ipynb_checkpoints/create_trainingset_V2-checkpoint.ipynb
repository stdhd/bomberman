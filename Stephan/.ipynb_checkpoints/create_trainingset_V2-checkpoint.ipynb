{
 "cells": [
  {
   "cell_type": "code",
   "execution_count": 311,
   "metadata": {
    "collapsed": true
   },
   "outputs": [],
   "source": [
    "import numpy as np\n",
    "#from indices import *\n",
    "import math"
   ]
  },
  {
   "cell_type": "code",
   "execution_count": 114,
   "metadata": {
    "collapsed": true,
    "scrolled": false
   },
   "outputs": [],
   "source": [
    "daten = np.load(\"test_daten.npy\")"
   ]
  },
  {
   "cell_type": "code",
   "execution_count": 117,
   "metadata": {
    "collapsed": true
   },
   "outputs": [],
   "source": [
    "def create_trainingS(array_source, radius, agents_count):  \n",
    "    # Board indices contain: -1 if coin, 1 if crate, 0 otherwise\n",
    "    ZEILEN = 17\n",
    "    WALL = 2\n",
    "    CRATE = 1\n",
    "    FREE = 0\n",
    "    COIN = -1\n",
    "    PLAYER = 3\n",
    "    BOMB = 4\n",
    "    EXPLOSION = 5\n",
    "    AGENT = 6\n",
    "    \n",
    "    row_length = radius * 2 + 1\n",
    "    array_target = np.zeros([row_length, row_length])\n",
    "    #array_target[0] = np.full((1,ZEILEN), WALL)\n",
    "    \n",
    "    mx, my = 8, 8 # Koordinaten des Spielers, Mittelpunkt des Ausschnitts\n",
    "    for i in range(int(math.pow(row_length,2))):\n",
    "        xt = i % row_length\n",
    "        yt = math.floor(i / (row_length))\n",
    "        \n",
    "        x = xt + (mx - radius)\n",
    "        y = yt + (my - radius)\n",
    "        \n",
    "        \n",
    "        try:\n",
    "            index = x_y_to_index(x,y,ZEILEN,ZEILEN)\n",
    "            array_target[yt,xt] = array_source[index]\n",
    "        except:\n",
    "            \n",
    "            array_target[yt,xt] = WALL\n",
    "        \n",
    "    #return array_target\n",
    "    #Add Player and Bomb coordinates\n",
    "    start = 169\n",
    "    borderX = mx + radius\n",
    "    borderY = my + radius\n",
    "    \n",
    "    for i in range(agents_count):\n",
    "        \n",
    "        agentX, agentY = index_to_x_y(daten[start],ZEILEN,ZEILEN)\n",
    "        print(\"X\", daten[start], agentX, agentY)\n",
    "        if not (agentX > borderX or agentY > borderY or agentX < (mx - radius) or agentY < (my - radius)):\n",
    "            print(int(agentX + mx - radius))\n",
    "            print((agentY + my - radius))\n",
    "            array_target[int(agentY - borderY), int(agentX - borderX)] = AGENT\n",
    "        \n",
    "        start = start + 23    \n",
    "            \n",
    "        #bombeX, bombeY = index_to_x_y(daten[start + 2], 17, 17)\n",
    "        #if not (bombeX > borderX or bombeY > borderY or bombeX < (mx - radius) or bombeY < (my - radius)):\n",
    "         #   array_target[(bombeY + my - radius), (bombeX + mx - radius)] = BOMB\n",
    "        \n",
    "        #explosionX, explosionY = index_to_x_y(daten[start + 4], 17, 17)\n",
    "        #if not (explosionX > borderX or explosionY > borderY or explosionX < (mx - radius) or explosionY < (my - radius)):\n",
    "         #   array_target[(explosionY + my - radius), (explosionX + mx - radius)] = EXPLOSION\n",
    "    \n",
    "    return array_target\n"
   ]
  },
  {
   "cell_type": "code",
   "execution_count": 118,
   "metadata": {},
   "outputs": [
    {
     "name": "stdout",
     "output_type": "stream",
     "text": [
      "X 169.0 13.0 13\n",
      "13\n",
      "13\n",
      "X 155.0 -1.0 13\n",
      "X 15.0 3.0 2\n",
      "3\n",
      "2\n",
      "X 1.0 1.0 1\n",
      "1\n",
      "1\n"
     ]
    },
    {
     "data": {
      "text/plain": [
       "array([[ 2.,  2.,  2.,  2.,  2.,  2.,  2.,  2.,  2.,  2.,  2.,  2.,  2.,\n",
       "         2.,  2.,  2.,  2.],\n",
       "       [ 2.,  0.,  1.,  1.,  1.,  1.,  0.,  0.,  0.,  1.,  0.,  1.,  1.,\n",
       "         0.,  0.,  2.,  2.],\n",
       "       [ 2.,  0.,  6.,  0.,  2.,  1.,  2.,  0.,  2.,  0.,  2.,  1.,  2.,\n",
       "         1.,  2.,  2.,  2.],\n",
       "       [ 2.,  1.,  1.,  0.,  6.,  1.,  1.,  1.,  1., -1., -1., -1.,  0.,\n",
       "         1.,  1.,  2.,  2.],\n",
       "       [ 2.,  1.,  2.,  1.,  2.,  1.,  2.,  1.,  2.,  1.,  2.,  1.,  2.,\n",
       "         0.,  2.,  2.,  2.],\n",
       "       [ 2.,  0.,  0.,  1.,  1.,  1.,  1.,  0.,  0., -1.,  0.,  1.,  1.,\n",
       "         1.,  0.,  2.,  2.],\n",
       "       [ 2.,  0.,  2.,  1.,  2.,  1.,  2., -1.,  2.,  1.,  2.,  1.,  2.,\n",
       "        -1.,  2.,  2.,  2.],\n",
       "       [ 2., -1., -1.,  0.,  0.,  1.,  1.,  1.,  1.,  1.,  1.,  1.,  0.,\n",
       "         1.,  1.,  2.,  2.],\n",
       "       [ 2.,  1.,  2.,  1.,  2., -1.,  2.,  1.,  2.,  1.,  2.,  1.,  2.,\n",
       "         1.,  2.,  2.,  2.],\n",
       "       [ 2.,  1.,  1., -1.,  1., -1.,  1.,  1.,  0.,  1.,  1.,  1., -1.,\n",
       "        -1.,  1.,  2.,  2.],\n",
       "       [ 2.,  1.,  2.,  1.,  2.,  1.,  2.,  0.,  2.,  1.,  2.,  0.,  2.,\n",
       "         1.,  2.,  2.,  2.],\n",
       "       [ 2.,  1.,  1.,  0.,  1.,  1.,  0.,  1.,  1.,  1.,  1.,  0.,  1.,\n",
       "         1.,  1.,  2.,  2.],\n",
       "       [ 2.,  1.,  2.,  0.,  2.,  1.,  2.,  1.,  2.,  1.,  2.,  1.,  2.,\n",
       "         1.,  2.,  2.,  2.],\n",
       "       [ 2.,  1.,  1.,  1., -1., -1.,  1.,  1.,  1.,  1.,  1.,  1.,  0.,\n",
       "         1.,  0.,  2.,  2.],\n",
       "       [ 2.,  0.,  2.,  1.,  2., -1.,  2.,  1.,  2.,  1.,  2.,  1.,  2.,\n",
       "         1.,  6.,  2.,  2.],\n",
       "       [ 2.,  2.,  2.,  2.,  2.,  2.,  2.,  2.,  2.,  2.,  2.,  2.,  2.,\n",
       "         2.,  2.,  2.,  2.],\n",
       "       [ 2.,  2.,  2.,  2.,  2.,  2.,  2.,  2.,  2.,  2.,  2.,  2.,  2.,\n",
       "         2.,  2.,  2.,  2.]])"
      ]
     },
     "execution_count": 118,
     "metadata": {},
     "output_type": "execute_result"
    }
   ],
   "source": [
    "create_trainingS(daten,8,4)"
   ]
  },
  {
   "cell_type": "code",
   "execution_count": 80,
   "metadata": {},
   "outputs": [
    {
     "data": {
      "text/plain": [
       "array([  0.,   0.,   1.,   1.,   1.,   1.,   0.,   0.,   0.,   1.,   0.,\n",
       "         1.,   1.,   0.,   0.,   0.,   1.,   0.,   0.,   1.,   1.,   1.,\n",
       "         0.,   0.,   1.,   1.,   1.,   1.,  -1.,  -1.,  -1.,   0.,   1.,\n",
       "         1.,   1.,   1.,   1.,   1.,   1.,   0.,   0.,   1.,   1.,   1.,\n",
       "         1.,   0.,   0.,  -1.,   0.,   1.,   1.,   1.,   0.,   1.,   1.,\n",
       "        -1.,   1.,   1.,  -1.,  -1.,   0.,   0.,   1.,   1.,   1.,   1.,\n",
       "         1.,   1.,   1.,   0.,   1.,   1.,   1.,  -1.,   1.,   1.,   1.,\n",
       "         1.,   1.,  -1.,   1.,  -1.,   1.,   1.,   0.,   1.,   1.,   1.,\n",
       "        -1.,  -1.,   1.,   1.,   1.,   0.,   1.,   0.,   1.,   1.,   0.,\n",
       "         1.,   1.,   0.,   1.,   1.,   1.,   1.,   0.,   1.,   1.,   1.,\n",
       "         0.,   1.,   1.,   1.,   1.,   1.,   1.,   1.,  -1.,  -1.,   1.,\n",
       "         1.,   1.,   1.,   1.,   1.,   0.,   1.,   0.,   1.,  -1.,   1.,\n",
       "         1.,   1.,   1.,  -1.,   1.,   1.,   1.,   0.,   1.,   1.,   1.,\n",
       "         0.,   1.,   1.,   0.,   1.,  -1.,  -1.,   1.,   1.,   1.,   1.,\n",
       "         1.,   1.,   1.,   1.,   1.,   1.,   0.,   1.,   1.,  -1.,   1.,\n",
       "         1.,   1.,   1.,   1., 169.,   0.,   0.,   0.,   0.,   0.,   0.,\n",
       "         0.,   0.,   0.,   0.,   0.,   0.,   0.,   0.,   0.,   0.,   0.,\n",
       "         0.,   0.,   0.,   0.,   0., 155.,   0.,   0.,   0.,   0.,   0.,\n",
       "         0.,   0.,   0.,   0.,   0.,   0.,   0.,   0.,   0.,   0.,   0.,\n",
       "         0.,   0.,   0.,   0.,   0.,   0.,  15.,   0.,   0.,   0.,   0.,\n",
       "         0.,   0.,   0.,   0.,   0.,   0.,   0.,   0.,   0.,   0.,   0.,\n",
       "         0.,   0.,   0.,   0.,   0.,   0.,   0.,   1.,   0.,   0.,   0.,\n",
       "         0.,   0.,   0.,   0.,   0.,   0.,   0.,   0.,   0.,   0.,   0.,\n",
       "         0.,   0.,   0.,   0.,   0.,   0.,   0.,   0.,   1.])"
      ]
     },
     "execution_count": 80,
     "metadata": {},
     "output_type": "execute_result"
    }
   ],
   "source": [
    "daten"
   ]
  },
  {
   "cell_type": "code",
   "execution_count": 64,
   "metadata": {},
   "outputs": [
    {
     "data": {
      "text/plain": [
       "array([ 3.,  0.,  0., -1., -1., -1.,  0., -1., -1., -1.,  0.,  1., -1.,\n",
       "        0.,  0.,  3.])"
      ]
     },
     "execution_count": 64,
     "metadata": {},
     "output_type": "execute_result"
    }
   ],
   "source": [
    "np.concatenate([[3],daten[:14],[3]])"
   ]
  },
  {
   "cell_type": "code",
   "execution_count": 77,
   "metadata": {},
   "outputs": [
    {
     "data": {
      "text/plain": [
       "array([[ 2.,  2.,  2.,  2.,  2.,  2.,  2.,  2.,  2.,  2.,  2.,  2.,  2.,\n",
       "         2.,  2.,  2.,  2.],\n",
       "       [ 2.,  0.,  0., -1., -1., -1.,  0., -1., -1., -1.,  0.,  1., -1.,\n",
       "         0.,  0.,  0.,  2.],\n",
       "       [ 2.,  2.,  2.,  2.,  2.,  2.,  2.,  2.,  2.,  2.,  2.,  2.,  2.,\n",
       "         2.,  2.,  2.,  2.],\n",
       "       [ 2.,  0., -1., -1., -1.,  0., -1., -1., -1.,  0.,  0.,  1.,  0.,\n",
       "        -1.,  1.,  1.,  2.],\n",
       "       [ 2.,  2.,  2.,  2.,  2.,  2.,  2.,  2.,  2.,  2.,  2.,  2.,  2.,\n",
       "         2.,  2.,  2.,  2.],\n",
       "       [ 2., -1., -1., -1., -1., -1., -1., -1., -1., -1., -1.,  0.,  1.,\n",
       "        -1.,  0., -1.,  2.],\n",
       "       [ 2.,  2.,  2.,  2.,  2.,  2.,  2.,  2.,  2.,  2.,  2.,  2.,  2.,\n",
       "         2.,  2.,  2.,  2.],\n",
       "       [ 2., -1., -1., -1., -1., -1., -1., -1.,  0.,  0., -1., -1., -1.,\n",
       "         0.,  1.,  1.,  2.],\n",
       "       [ 2.,  2.,  2.,  2.,  2.,  2.,  2.,  2.,  2.,  2.,  2.,  2.,  2.,\n",
       "         2.,  2.,  2.,  2.],\n",
       "       [ 2., -1.,  0., -1., -1., -1., -1., -1., -1.,  0.,  0.,  0., -1.,\n",
       "        -1., -1.,  0.,  2.],\n",
       "       [ 2.,  2.,  2.,  2.,  2.,  2.,  2.,  2.,  2.,  2.,  2.,  2.,  2.,\n",
       "         2.,  2.,  2.,  2.],\n",
       "       [ 2., -1., -1., -1., -1., -1., -1.,  0., -1., -1., -1.,  0., -1.,\n",
       "         1.,  1.,  1.,  2.],\n",
       "       [ 2.,  2.,  2.,  2.,  2.,  2.,  2.,  2.,  2.,  2.,  2.,  2.,  2.,\n",
       "         2.,  2.,  2.,  2.],\n",
       "       [ 2., -1., -1., -1.,  1., -1., -1., -1., -1., -1., -1., -1., -1.,\n",
       "         0., -1., -1.,  2.],\n",
       "       [ 2.,  2.,  2.,  2.,  2.,  2.,  2.,  2.,  2.,  2.,  2.,  2.,  2.,\n",
       "         2.,  2.,  2.,  2.],\n",
       "       [ 2.,  0., -1.,  1., -1.,  0.,  1.,  0., -1., -1.,  0., -1., -1.,\n",
       "        -1.,  0., -1.,  2.],\n",
       "       [ 2.,  2.,  2.,  2.,  2.,  2.,  2.,  2.,  2.,  2.,  2.,  2.,  2.,\n",
       "         2.,  2.,  2.,  2.]])"
      ]
     },
     "execution_count": 77,
     "metadata": {},
     "output_type": "execute_result"
    }
   ],
   "source": [
    "create_trainingS(daten,2)"
   ]
  },
  {
   "cell_type": "code",
   "execution_count": 153,
   "metadata": {},
   "outputs": [
    {
     "data": {
      "text/plain": [
       "(1, 1)"
      ]
     },
     "execution_count": 153,
     "metadata": {},
     "output_type": "execute_result"
    }
   ],
   "source": [
    "index_to_x_y(1,17,17)"
   ]
  },
  {
   "cell_type": "code",
   "execution_count": 155,
   "metadata": {},
   "outputs": [
    {
     "data": {
      "text/plain": [
       "(15, 1)"
      ]
     },
     "execution_count": 155,
     "metadata": {},
     "output_type": "execute_result"
    }
   ],
   "source": [
    "index_to_x_y(15,17,17)"
   ]
  },
  {
   "cell_type": "code",
   "execution_count": 154,
   "metadata": {},
   "outputs": [
    {
     "data": {
      "text/plain": [
       "(5, 11)"
      ]
     },
     "execution_count": 154,
     "metadata": {},
     "output_type": "execute_result"
    }
   ],
   "source": [
    "index_to_x_y(155,17,17)"
   ]
  },
  {
   "cell_type": "code",
   "execution_count": 157,
   "metadata": {
    "scrolled": true
   },
   "outputs": [
    {
     "data": {
      "text/plain": [
       "(5, 12)"
      ]
     },
     "execution_count": 157,
     "metadata": {},
     "output_type": "execute_result"
    }
   ],
   "source": [
    "index_to_x_y(168,17,17)"
   ]
  },
  {
   "cell_type": "code",
   "execution_count": 353,
   "metadata": {
    "collapsed": true
   },
   "outputs": [],
   "source": [
    "def index_to_x_y(ind, ncols, nrows):\n",
    "    \"\"\"\n",
    "    Convert a given coordinate index into its x, y representation. Indices start at 1 !\n",
    "    :param ind: Index of coordinate to represent as x, y\n",
    "    :param ncols: Number of\n",
    "    :param nrows:\n",
    "    :return: x, y coordinates\n",
    "    \"\"\"\n",
    "\n",
    "    y = 1\n",
    "\n",
    "    while True:\n",
    "        # Volle Reihe\n",
    "        if ind <= ncols - 2:\n",
    "            x = ind\n",
    "            return x, y\n",
    "        ind -= ncols - 2\n",
    "        y += 1\n",
    "        \n",
    "        # Halbe Reihe\n",
    "        if ind <= ((ncols - 2) // 2 + 1):\n",
    "            x = 2 * ind - 1\n",
    "            return x, y\n",
    "        ind -= ((ncols - 2) // 2 + 1)\n",
    "        y += 1\n",
    "\n",
    "\n",
    "\n"
   ]
  },
  {
   "cell_type": "code",
   "execution_count": 256,
   "metadata": {},
   "outputs": [
    {
     "data": {
      "text/plain": [
       "(15, 2)"
      ]
     },
     "execution_count": 256,
     "metadata": {},
     "output_type": "execute_result"
    }
   ],
   "source": [
    "x_y(23,17,17)"
   ]
  },
  {
   "cell_type": "code",
   "execution_count": 260,
   "metadata": {},
   "outputs": [
    {
     "data": {
      "text/plain": [
       "(4, 13)"
      ]
     },
     "execution_count": 260,
     "metadata": {},
     "output_type": "execute_result"
    }
   ],
   "source": [
    "x_y(142,17,17)"
   ]
  },
  {
   "cell_type": "code",
   "execution_count": 259,
   "metadata": {},
   "outputs": [
    {
     "data": {
      "text/plain": [
       "(15, 15)"
      ]
     },
     "execution_count": 259,
     "metadata": {},
     "output_type": "execute_result"
    }
   ],
   "source": [
    "x_y(176,17,17)"
   ]
  },
  {
   "cell_type": "code",
   "execution_count": 347,
   "metadata": {
    "collapsed": true
   },
   "outputs": [],
   "source": [
    "def x_y_to_index(x, y, ncols, nrows):\n",
    "    \"\"\"\n",
    "    Return the index of a free grid from x, y coordinates. Indices start at 1 !\n",
    "\n",
    "    Indexing starts at x, y = 0, 0 and increases row by row. Higher y value => Higher index\n",
    "\n",
    "    Raises ValueError for wall coordinates!\n",
    "    :param x: x coordinate\n",
    "    :param y: y coordinate\n",
    "    :return: Index of square x, y coords point to\n",
    "    \"\"\"\n",
    "\n",
    "    if x >= ncols or x <= 0 or y >= nrows or y <= 0:\n",
    "        raise ValueError(\"Coordinates outside of game grid\")\n",
    "    if (x + 1) * (y + 1) % 2 == 1:\n",
    "        raise ValueError(\"Received wall coordinates!\")\n",
    "\n",
    "    else:\n",
    "        # find full and half full rows below x, y coords\n",
    "        ind = 0\n",
    "        full_rows = y // 2\n",
    "        half_rows = (y - 1) // 2\n",
    "\n",
    "        ind += full_rows * (ncols - 2)\n",
    "        ind += half_rows * ((ncols - 2) // 2 + 1)\n",
    "        ind += (x)\n",
    "\n",
    "        return ind\n",
    "\n",
    "\n"
   ]
  },
  {
   "cell_type": "code",
   "execution_count": 335,
   "metadata": {},
   "outputs": [
    {
     "data": {
      "text/plain": [
       "25"
      ]
     },
     "execution_count": 335,
     "metadata": {},
     "output_type": "execute_result"
    }
   ],
   "source": [
    "x_y_to_index(2, 3, 17, 17)"
   ]
  },
  {
   "cell_type": "code",
   "execution_count": 303,
   "metadata": {},
   "outputs": [
    {
     "data": {
      "text/plain": [
       "(4, 13)"
      ]
     },
     "execution_count": 303,
     "metadata": {},
     "output_type": "execute_result"
    }
   ],
   "source": [
    "x_y(142,17,17)"
   ]
  },
  {
   "cell_type": "code",
   "execution_count": 254,
   "metadata": {},
   "outputs": [
    {
     "data": {
      "text/plain": [
       "7"
      ]
     },
     "execution_count": 254,
     "metadata": {},
     "output_type": "execute_result"
    }
   ],
   "source": [
    "(17 - 2) // 2"
   ]
  },
  {
   "cell_type": "code",
   "execution_count": 283,
   "metadata": {},
   "outputs": [
    {
     "data": {
      "text/plain": [
       "7"
      ]
     },
     "execution_count": 283,
     "metadata": {},
     "output_type": "execute_result"
    }
   ],
   "source": [
    "15 // 2"
   ]
  },
  {
   "cell_type": "code",
   "execution_count": 325,
   "metadata": {},
   "outputs": [
    {
     "data": {
      "text/plain": [
       "1"
      ]
     },
     "execution_count": 325,
     "metadata": {},
     "output_type": "execute_result"
    }
   ],
   "source": [
    "x_y_to_index(1,2, 17, 17)"
   ]
  },
  {
   "cell_type": "code",
   "execution_count": 305,
   "metadata": {},
   "outputs": [
    {
     "data": {
      "text/plain": [
       "(15, 15)"
      ]
     },
     "execution_count": 305,
     "metadata": {},
     "output_type": "execute_result"
    }
   ],
   "source": [
    "x_y(176,17,17)"
   ]
  },
  {
   "cell_type": "code",
   "execution_count": 336,
   "metadata": {
    "collapsed": true
   },
   "outputs": [],
   "source": [
    "def x_y_to_index_Jakob(x, y, ncols, nrows):\n",
    "    \"\"\"\n",
    "    Return the index of a free grid from x, y coordinates. Indices start at 1 !\n",
    "\n",
    "    Indexing starts at x, y = 0, 0 and increases row by row. Higher y value => Higher index\n",
    "\n",
    "    Raises ValueError for wall coordinates!\n",
    "    :param x: x coordinate\n",
    "    :param y: y coordinate\n",
    "    :return: Index of square x, y coords point to\n",
    "    \"\"\"\n",
    "\n",
    "    if x >= ncols or x <= 0 or y >= nrows or y <= 0:\n",
    "        raise ValueError(\"Coordinates outside of game grid\")\n",
    "    if (x + 1) * (y + 1) % 2 == 1:\n",
    "        raise ValueError(\"Received wall coordinates!\")\n",
    "\n",
    "    else:\n",
    "        # find full and half full rows below x, y coords\n",
    "        ind = 0\n",
    "        full_rows = y // 2\n",
    "        half_rows = (y - 1) // 2\n",
    "\n",
    "        ind += full_rows * (ncols - 2)\n",
    "        ind += half_rows * np.ceil((ncols - 2) / 2)\n",
    "\n",
    "        ind += (x + 1) // 2 if (full_rows + half_rows) % 2 == 1 else x\n",
    "\n",
    "        return ind"
   ]
  },
  {
   "cell_type": "code",
   "execution_count": 348,
   "metadata": {},
   "outputs": [
    {
     "data": {
      "text/plain": [
       "16"
      ]
     },
     "execution_count": 348,
     "metadata": {},
     "output_type": "execute_result"
    }
   ],
   "source": [
    "x_y_to_index(1,2,17,17)"
   ]
  },
  {
   "cell_type": "code",
   "execution_count": 349,
   "metadata": {},
   "outputs": [
    {
     "ename": "ValueError",
     "evalue": "Received wall coordinates!",
     "output_type": "error",
     "traceback": [
      "\u001b[0;31m---------------------------------------------------------------------------\u001b[0m",
      "\u001b[0;31mValueError\u001b[0m                                Traceback (most recent call last)",
      "\u001b[0;32m<ipython-input-349-cff37337d5c6>\u001b[0m in \u001b[0;36m<module>\u001b[0;34m()\u001b[0m\n\u001b[1;32m      1\u001b[0m \u001b[0;32mfor\u001b[0m \u001b[0mi\u001b[0m \u001b[0;32min\u001b[0m \u001b[0mrange\u001b[0m\u001b[0;34m(\u001b[0m\u001b[0;36m1\u001b[0m\u001b[0;34m,\u001b[0m \u001b[0;36m15\u001b[0m\u001b[0;34m,\u001b[0m \u001b[0;36m1\u001b[0m\u001b[0;34m)\u001b[0m\u001b[0;34m:\u001b[0m\u001b[0;34m\u001b[0m\u001b[0m\n\u001b[1;32m      2\u001b[0m     \u001b[0;32mfor\u001b[0m \u001b[0mj\u001b[0m \u001b[0;32min\u001b[0m \u001b[0mrange\u001b[0m\u001b[0;34m(\u001b[0m\u001b[0;36m1\u001b[0m\u001b[0;34m,\u001b[0m \u001b[0;36m15\u001b[0m\u001b[0;34m,\u001b[0m \u001b[0;36m1\u001b[0m\u001b[0;34m)\u001b[0m\u001b[0;34m:\u001b[0m\u001b[0;34m\u001b[0m\u001b[0m\n\u001b[0;32m----> 3\u001b[0;31m         \u001b[0;32mif\u001b[0m \u001b[0;32mnot\u001b[0m \u001b[0mx_y_to_index_Jakob\u001b[0m\u001b[0;34m(\u001b[0m\u001b[0mi\u001b[0m\u001b[0;34m,\u001b[0m\u001b[0mj\u001b[0m\u001b[0;34m,\u001b[0m\u001b[0;36m17\u001b[0m\u001b[0;34m,\u001b[0m\u001b[0;36m17\u001b[0m\u001b[0;34m)\u001b[0m \u001b[0;34m==\u001b[0m \u001b[0mx_y_to_index\u001b[0m\u001b[0;34m(\u001b[0m\u001b[0mi\u001b[0m\u001b[0;34m,\u001b[0m\u001b[0mj\u001b[0m\u001b[0;34m,\u001b[0m\u001b[0;36m17\u001b[0m\u001b[0;34m,\u001b[0m\u001b[0;36m17\u001b[0m\u001b[0;34m)\u001b[0m\u001b[0;34m:\u001b[0m\u001b[0;34m\u001b[0m\u001b[0m\n\u001b[0m\u001b[1;32m      4\u001b[0m             \u001b[0mprint\u001b[0m\u001b[0;34m(\u001b[0m\u001b[0;34m\"Falsch\"\u001b[0m\u001b[0;34m,\u001b[0m \u001b[0mi\u001b[0m\u001b[0;34m,\u001b[0m \u001b[0mj\u001b[0m\u001b[0;34m)\u001b[0m\u001b[0;34m\u001b[0m\u001b[0m\n",
      "\u001b[0;32m<ipython-input-336-c9fd6b7ed7a4>\u001b[0m in \u001b[0;36mx_y_to_index_Jakob\u001b[0;34m(x, y, ncols, nrows)\u001b[0m\n\u001b[1;32m     14\u001b[0m         \u001b[0;32mraise\u001b[0m \u001b[0mValueError\u001b[0m\u001b[0;34m(\u001b[0m\u001b[0;34m\"Coordinates outside of game grid\"\u001b[0m\u001b[0;34m)\u001b[0m\u001b[0;34m\u001b[0m\u001b[0m\n\u001b[1;32m     15\u001b[0m     \u001b[0;32mif\u001b[0m \u001b[0;34m(\u001b[0m\u001b[0mx\u001b[0m \u001b[0;34m+\u001b[0m \u001b[0;36m1\u001b[0m\u001b[0;34m)\u001b[0m \u001b[0;34m*\u001b[0m \u001b[0;34m(\u001b[0m\u001b[0my\u001b[0m \u001b[0;34m+\u001b[0m \u001b[0;36m1\u001b[0m\u001b[0;34m)\u001b[0m \u001b[0;34m%\u001b[0m \u001b[0;36m2\u001b[0m \u001b[0;34m==\u001b[0m \u001b[0;36m1\u001b[0m\u001b[0;34m:\u001b[0m\u001b[0;34m\u001b[0m\u001b[0m\n\u001b[0;32m---> 16\u001b[0;31m         \u001b[0;32mraise\u001b[0m \u001b[0mValueError\u001b[0m\u001b[0;34m(\u001b[0m\u001b[0;34m\"Received wall coordinates!\"\u001b[0m\u001b[0;34m)\u001b[0m\u001b[0;34m\u001b[0m\u001b[0m\n\u001b[0m\u001b[1;32m     17\u001b[0m \u001b[0;34m\u001b[0m\u001b[0m\n\u001b[1;32m     18\u001b[0m     \u001b[0;32melse\u001b[0m\u001b[0;34m:\u001b[0m\u001b[0;34m\u001b[0m\u001b[0m\n",
      "\u001b[0;31mValueError\u001b[0m: Received wall coordinates!"
     ]
    }
   ],
   "source": [
    "for i in range(1, 15, 1):\n",
    "    for j in range(1, 15, 1):\n",
    "        if not x_y_to_index_Jakob(i,j,17,17) == x_y_to_index(i,j,17,17):\n",
    "            print(\"Falsch\", i, j)"
   ]
  },
  {
   "cell_type": "code",
   "execution_count": 352,
   "metadata": {
    "collapsed": true
   },
   "outputs": [],
   "source": [
    "def index_to_x_y_Jakob(ind, ncols, nrows):\n",
    "    \"\"\"\n",
    "    Convert a given coordinate index into its x, y representation. Indices start at 1 !\n",
    "    :param ind: Index of coordinate to represent as x, y\n",
    "    :param ncols: Number of\n",
    "    :param nrows:\n",
    "    :return: x, y coordinates\n",
    "    \"\"\"\n",
    "\n",
    "    y = 1\n",
    "\n",
    "    full = True\n",
    "\n",
    "    while ind > ncols - 2 and full == True:\n",
    "        ind -= ncols - 2\n",
    "        y += 1\n",
    "        full = False\n",
    "\n",
    "        while ind > np.ceil((ncols - 2) / 2) and full == False:\n",
    "            ind -= np.ceil((ncols - 2) / 2)\n",
    "            y += 1\n",
    "            full = True\n",
    "\n",
    "    if full:\n",
    "        x = ind\n",
    "\n",
    "    else:\n",
    "        x = 2 * ind - 1\n",
    "\n",
    "    return x, y"
   ]
  },
  {
   "cell_type": "code",
   "execution_count": 358,
   "metadata": {},
   "outputs": [],
   "source": [
    "for i in range(1, 176, 1):\n",
    "\n",
    "    if not index_to_x_y_Jakob(i,17,17) == index_to_x_y(i,17,17):\n",
    "        print(\"Falsch\", i)"
   ]
  },
  {
   "cell_type": "code",
   "execution_count": null,
   "metadata": {
    "collapsed": true
   },
   "outputs": [],
   "source": []
  }
 ],
 "metadata": {
  "kernelspec": {
   "display_name": "Python 3",
   "language": "python",
   "name": "python3"
  },
  "language_info": {
   "codemirror_mode": {
    "name": "ipython",
    "version": 3
   },
   "file_extension": ".py",
   "mimetype": "text/x-python",
   "name": "python",
   "nbconvert_exporter": "python",
   "pygments_lexer": "ipython3",
   "version": "3.6.1"
  }
 },
 "nbformat": 4,
 "nbformat_minor": 2
}

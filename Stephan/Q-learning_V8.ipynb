{
 "cells": [
  {
   "cell_type": "code",
   "execution_count": 205,
   "metadata": {
    "collapsed": true
   },
   "outputs": [],
   "source": [
    "import numpy as np\n",
    "from random import *"
   ]
  },
  {
   "cell_type": "code",
   "execution_count": 206,
   "metadata": {
    "collapsed": true
   },
   "outputs": [],
   "source": [
    "# taler = 1\n",
    "\n",
    "learned = np.zeros([0,4])\n",
    "obs = np.zeros([0,5])\n",
    "epsilon = 0.1"
   ]
  },
  {
   "cell_type": "code",
   "execution_count": 217,
   "metadata": {
    "collapsed": true
   },
   "outputs": [],
   "source": [
    "spielfeld = np.zeros([10,10])\n",
    "spielfeld[0,:] = 2\n",
    "spielfeld[9,:] = 2\n",
    "spielfeld[:,0] = 2\n",
    "spielfeld[:,9] = 2\n",
    "spielfeld[8,8] = 1\n",
    "spielfeld[4,2] = 1\n",
    "spielfeld[6,4] = 1\n",
    "spielfeld[3,7] = 1\n",
    "spielfeld[5,6] = 1\n",
    "spielfeld = spielfeld.astype(int)\n",
    "state = [1,1]"
   ]
  },
  {
   "cell_type": "code",
   "execution_count": 218,
   "metadata": {},
   "outputs": [
    {
     "name": "stdout",
     "output_type": "stream",
     "text": [
      "COIN COLLECTED 47\n",
      "COIN COLLECTED 55\n",
      "COIN COLLECTED 60\n",
      "COIN COLLECTED 93\n",
      "COIN COLLECTED 129\n",
      "learned:\n",
      "[[-1.14508584e+02 -1.16054924e+03 -7.00000000e+02 -7.00000000e-01]\n",
      " [-5.67406916e+02 -5.66220563e+02 -7.00000000e+02 -7.00000000e-01]\n",
      " [ 0.00000000e+00  0.00000000e+00  0.00000000e+00  0.00000000e+00]\n",
      " [ 0.00000000e+00  0.00000000e+00  0.00000000e+00  0.00000000e+00]\n",
      " [-1.16815533e+02 -8.40616498e+02 -7.00000000e-01 -7.00000000e-01]\n",
      " [-6.81882196e+02 -4.61015369e+02 -7.00000000e-01 -7.00000000e-01]\n",
      " [ 0.00000000e+00  0.00000000e+00  0.00000000e+00  0.00000000e+00]\n",
      " [-1.19563274e+02 -1.39458725e+03 -7.00000000e-01 -7.00000000e-01]\n",
      " [-5.84484951e+02 -6.56038669e+02 -7.00000000e-01 -7.00000000e-01]\n",
      " [ 0.00000000e+00  0.00000000e+00  0.00000000e+00  0.00000000e+00]\n",
      " [-6.30082216e+02 -1.20744216e+03 -7.00000000e-01 -7.00000000e-01]\n",
      " [ 4.69191200e+02 -4.59193362e+02 -7.00000000e-01 -7.00000000e-01]\n",
      " [ 0.00000000e+00  0.00000000e+00  0.00000000e+00  5.60000000e+02]\n",
      " [-1.08277169e+03 -1.41080466e+02 -7.00000000e-01 -7.00000000e-01]\n",
      " [-1.11655196e+02 -5.66252149e+02 -7.00000000e-01 -7.00000000e-01]\n",
      " [-1.09760000e+00 -1.59621985e+02 -6.99998208e-01  6.99999928e+02]\n",
      " [-1.12000000e+03  0.00000000e+00 -7.00000000e-01 -7.00000000e-01]\n",
      " [ 0.00000000e+00  1.34382080e+02 -6.99999642e-01 -6.99999986e-01]\n",
      " [ 0.00000000e+00  0.00000000e+00 -5.60000000e-01 -5.60000000e-01]\n",
      " [ 0.00000000e+00 -5.11807355e+02 -6.99999986e-01 -6.99999997e-01]\n",
      " [-1.00419200e+03  0.00000000e+00  6.94400000e+02 -6.99776000e-01]\n",
      " [ 0.00000000e+00  0.00000000e+00  0.00000000e+00  0.00000000e+00]\n",
      " [-5.99104614e+02 -4.60388299e+02 -7.00000000e-01 -7.00000000e+02]\n",
      " [ 0.00000000e+00  0.00000000e+00  0.00000000e+00  0.00000000e+00]\n",
      " [-6.99581030e+02 -1.26429481e+03 -7.00000000e-01 -7.00000000e+02]\n",
      " [-2.40274861e+01 -1.56983873e+02 -7.00000000e-01 -7.00000000e+02]\n",
      " [ 0.00000000e+00  0.00000000e+00 -6.72000000e-01  6.94400000e+02]\n",
      " [-3.68439394e+02 -2.29435064e+01 -5.60000000e-01 -5.60000000e+02]\n",
      " [-9.40316913e+02 -5.60560000e+02 -6.99999997e-01 -6.72000000e+02]\n",
      " [-1.14266857e+02 -5.60560000e+02 -7.00000000e-01 -7.00000000e+02]\n",
      " [ 0.00000000e+00  0.00000000e+00  0.00000000e+00  0.00000000e+00]\n",
      " [ 0.00000000e+00  0.00000000e+00  0.00000000e+00  0.00000000e+00]\n",
      " [-9.77887807e+02 -1.17191876e+02 -7.00000000e-01 -7.00000000e+02]\n",
      " [-7.36469750e+02 -4.77388085e+02 -7.00000000e-01 -7.00000000e-01]\n",
      " [ 0.00000000e+00  0.00000000e+00  0.00000000e+00  0.00000000e+00]\n",
      " [-5.61774080e+02 -1.34400000e+00 -6.99999997e+02 -7.00000000e-01]\n",
      " [-1.41942221e+02 -1.09977708e+02 -7.00000000e+02 -7.00000000e-01]\n",
      " [ 0.00000000e+00  0.00000000e+00  0.00000000e+00  0.00000000e+00]\n",
      " [-5.85531671e+02 -7.38623352e+01 -6.99999986e+02 -6.99955200e-01]\n",
      " [ 0.00000000e+00  0.00000000e+00  0.00000000e+00  0.00000000e+00]\n",
      " [ 0.00000000e+00  0.00000000e+00  0.00000000e+00  0.00000000e+00]\n",
      " [ 0.00000000e+00  0.00000000e+00  0.00000000e+00  0.00000000e+00]\n",
      " [ 0.00000000e+00 -5.60560000e+02 -6.72000000e-01 -6.72000000e+02]\n",
      " [-5.69176281e+02 -7.95743134e+02 -7.00000000e-01 -7.00000000e-01]\n",
      " [ 0.00000000e+00  0.00000000e+00  0.00000000e+00  0.00000000e+00]\n",
      " [-1.12000000e+00 -1.36330416e+03 -7.00000000e-01 -6.99999986e+02]\n",
      " [-1.12000000e+00  0.00000000e+00 -6.99999928e+02 -6.98880000e-01]]\n",
      "observations:\n",
      "[[3. 2. 2. 0. 0.]\n",
      " [3. 2. 0. 0. 0.]\n",
      " [3. 2. 2. 2. 0.]\n",
      " [3. 2. 2. 0. 2.]\n",
      " [2. 0. 2. 0. 0.]\n",
      " [2. 0. 0. 0. 0.]\n",
      " [2. 2. 2. 2. 0.]\n",
      " [1. 0. 2. 0. 0.]\n",
      " [1. 0. 0. 0. 0.]\n",
      " [1. 2. 2. 2. 0.]\n",
      " [3. 0. 2. 0. 0.]\n",
      " [2. 0. 0. 0. 1.]\n",
      " [3. 2. 0. 1. 0.]\n",
      " [0. 0. 0. 0. 0.]\n",
      " [3. 0. 0. 0. 0.]\n",
      " [3. 0. 0. 1. 0.]\n",
      " [3. 0. 0. 0. 2.]\n",
      " [4. 0. 1. 0. 0.]\n",
      " [4. 0. 0. 0. 2.]\n",
      " [1. 0. 0. 0. 2.]\n",
      " [1. 1. 0. 0. 0.]\n",
      " [4. 0. 0. 0. 0.]\n",
      " [1. 0. 0. 2. 0.]\n",
      " [1. 0. 2. 2. 2.]\n",
      " [1. 0. 2. 2. 0.]\n",
      " [2. 0. 0. 2. 0.]\n",
      " [3. 0. 0. 1. 2.]\n",
      " [2. 0. 0. 2. 1.]\n",
      " [0. 0. 0. 2. 2.]\n",
      " [2. 0. 2. 2. 0.]\n",
      " [3. 2. 0. 2. 2.]\n",
      " [0. 2. 0. 2. 2.]\n",
      " [0. 0. 0. 2. 0.]\n",
      " [0. 0. 0. 0. 2.]\n",
      " [0. 0. 2. 2. 2.]\n",
      " [0. 2. 0. 0. 2.]\n",
      " [0. 2. 0. 0. 0.]\n",
      " [0. 2. 2. 0. 2.]\n",
      " [3. 2. 0. 0. 2.]\n",
      " [1. 1. 0. 2. 0.]\n",
      " [1. 2. 0. 2. 2.]\n",
      " [4. 2. 0. 2. 2.]\n",
      " [1. 0. 0. 2. 2.]\n",
      " [0. 0. 2. 0. 0.]\n",
      " [0. 2. 2. 2. 0.]\n",
      " [0. 0. 2. 2. 0.]\n",
      " [0. 2. 2. 0. 0.]]\n"
     ]
    }
   ],
   "source": [
    "learned, obs = do_action(state, spielfeld, learned, epsilon, obs)\n",
    "# 1. Richtung des nächsten Coins: (1,2,3,4:links,oben,rechts,unten)\n",
    "# 2.-5. Direkte Umgebung: (links, oben, rechts, unten; 0=frei, 1 = Coin, 2 = Wand)\n",
    "# Actions: \"down\", \"up\", \"left\", \"right\", \"wait\"\n",
    "# [3. 2. 2. 0. 0.]"
   ]
  },
  {
   "cell_type": "code",
   "execution_count": 168,
   "metadata": {
    "collapsed": true
   },
   "outputs": [],
   "source": [
    "def do_action(state, spielfeld, learned, epsilon, obs):\n",
    "    actions = np.array([\"down\", \"up\", \"left\", \"right\"])\n",
    "    discount = 0.7\n",
    "    learning_rate = 0.8\n",
    "    \n",
    "    for i in range(1000):\n",
    "        n_state = [0,0]\n",
    "        if False:\n",
    "            print(\"+++++++++++++++++++\")\n",
    "        else:\n",
    "            indices = np.array([])\n",
    "            possible_actions = np.array([])\n",
    "            current_obs = get_observation(spielfeld,state[0],state[1])\n",
    "            #print(state[0],state[1], current_obs)\n",
    "            # print(current_obs)\n",
    "            obs, index_current, learned = update_and_get_obs(obs, current_obs, learned)\n",
    "            \n",
    "            for j in range(actions.shape[0]):\n",
    "                f_state = get_following_state(state, spielfeld, actions[j], actions, False)\n",
    "                # print(f_state)\n",
    "                new_obs = get_observation(spielfeld,f_state[0],f_state[1])\n",
    "                obs, to_add, learned = update_and_get_obs(obs, new_obs, learned)\n",
    "                indices = np.arange(actions.shape[0])\n",
    "            \n",
    "            possible_actions = actions\n",
    "            indices = indices.astype(int)\n",
    "            values = learned[indices,:]\n",
    "\n",
    "            if epsilon > uniform(0,1):\n",
    "                # epsilon -= 0.001\n",
    "                # print(\"RANDOM\")\n",
    "                b = values.flatten()\n",
    "                optima = np.random.choice(np.flatnonzero(b))\n",
    "                best_choice = possible_actions[optima // actions.shape[0]]\n",
    "                best_value = values.flatten()[optima]\n",
    "            else:\n",
    "                b = values.flatten()\n",
    "                optima = np.random.choice(np.flatnonzero(b == b.max()))\n",
    "                best_choice = possible_actions[optima // actions.shape[0]]\n",
    "                best_value = values.flatten()[optima]\n",
    "\n",
    "            n_state = get_following_state(state, spielfeld, best_choice, actions, True)\n",
    "            action_index = optima // actions.shape[0]\n",
    "                \n",
    "            # print(best_choice)\n",
    "            # print(state[0],state[1], best_choice)\n",
    "            reward, spielfeld = get_reward(state,spielfeld,best_choice, i)\n",
    "            learned[index_current, action_index] = (1-learning_rate) * learned[index_current,action_index] + learning_rate * (best_value + discount * reward)\n",
    "            state = n_state\n",
    "    print(\"learned:\")\n",
    "    print(learned)\n",
    "    print(\"observations:\")\n",
    "    print(obs)\n",
    "    return learned, obs"
   ]
  },
  {
   "cell_type": "code",
   "execution_count": 123,
   "metadata": {
    "collapsed": true
   },
   "outputs": [],
   "source": [
    "def get_following_state(state, spielfeld, choice, actions, wall_sensitive):\n",
    "    n_state = np.array([0,0])\n",
    "    if(choice == \"down\"):\n",
    "        n_state[0] = state[0] + 1\n",
    "        n_state[1] = state[1]\n",
    "    elif(choice == \"up\"):\n",
    "        n_state[0] = state[0] - 1\n",
    "        n_state[1] = state[1]\n",
    "    elif(choice == \"left\"):\n",
    "        n_state[0] = state[0]\n",
    "        n_state[1] = state[1] - 1\n",
    "    elif(choice == \"right\"):\n",
    "        n_state[0] = state[0]\n",
    "        n_state[1] = state[1] + 1\n",
    "    elif(choice == \"wait\"):\n",
    "        n_state[0] = state[0]\n",
    "        n_state[1] = state[1]\n",
    "        \n",
    "    if wall_sensitive and spielfeld[n_state[0], n_state[1]] == 2:\n",
    "        # return old state if action is not possible\n",
    "        return state\n",
    "    \n",
    "    return n_state\n",
    "\n",
    "def get_reward(state,spielfeld,action, step):\n",
    "    x,y = 0,0\n",
    "    if action == \"left\":\n",
    "        x = -1\n",
    "    if action == \"right\":\n",
    "        x = 1\n",
    "    if action == \"down\":\n",
    "        y = 1\n",
    "    if action == \"up\":\n",
    "        y = -1\n",
    "    \n",
    "    y +=state[0]\n",
    "    x +=state[1] \n",
    "    \n",
    "    copy = np.copy(spielfeld)\n",
    "    copy[state[0], state[1]] = 8\n",
    "    # print(copy)\n",
    "    if spielfeld[y,x] == 1:\n",
    "        # collect coin\n",
    "        print(\"COIN COLLECTED \" + str(step))\n",
    "        spielfeld[y,x] = 0\n",
    "        return 1000, spielfeld\n",
    "    elif spielfeld[y,x] == 2:\n",
    "        # Mauer\n",
    "        return -1000, spielfeld\n",
    "    else:\n",
    "        return -1, spielfeld"
   ]
  },
  {
   "cell_type": "code",
   "execution_count": 124,
   "metadata": {
    "collapsed": true
   },
   "outputs": [],
   "source": [
    "def get_observation(spielfeld, y, x):\n",
    "    # Suche den Coin, der am nächsten ist (manhattan distance)\n",
    "    coinsY, coinsX = np.where(spielfeld == 1)\n",
    "    distancesY = np.abs(coinsY - y)\n",
    "    distancesX = np.abs(coinsX - x)\n",
    "    observation = np.array([0, 0,0,0,0]) \n",
    "    # 1. Richtung des nächsten Coins: (1,2,3,4:links,oben,rechts,unten)\n",
    "    # 2. Direkte Umgebung: (links, oben, rechts, unten; 0=frei, 1 = Coin, 2 = Wand)\n",
    " \n",
    "    if not distancesY.shape[0] == 0:\n",
    "        distances = distancesY + distancesX\n",
    "        coinY = coinsY[np.argmin(distances)]\n",
    "        coinX = coinsX[np.argmin(distances)]\n",
    "        # setze observation flags:\n",
    "        if coinX < x:\n",
    "            observation[0] = 1\n",
    "        elif coinX > x:\n",
    "            observation[0] = 3\n",
    "        elif coinY > y:\n",
    "            observation[0] = 2\n",
    "        elif coinY < y:\n",
    "            observation[0] = 4\n",
    "    \n",
    "    \n",
    "    observation[1] = get_spielfeld(y, x - 1,spielfeld)\n",
    "    observation[2] = get_spielfeld(y - 1, x,spielfeld)\n",
    "    observation[3] = get_spielfeld(y, x + 1,spielfeld)\n",
    "    observation[4] = get_spielfeld(y + 1, x,spielfeld)\n",
    "    # links, oben, rechts, unten\n",
    "    # print(x,y, observation)\n",
    "    return observation\n",
    "\n",
    "def update_and_get_obs(db, new_obs, learned):\n",
    "    temp = -1\n",
    "    for i in range(db.shape[0]):\n",
    "        if np.array_equal(db[i], new_obs):\n",
    "            return db, i, learned\n",
    "    db = np.append(db,np.array([new_obs]), axis = 0)\n",
    "    learned = np.append(learned, np.zeros([1,learned.shape[1]]), axis = 0)\n",
    "    return db, (db.shape[0] - 1), learned\n",
    "\n",
    "def get_spielfeld(y,x,spielfeld):\n",
    "    if y > spielfeld.shape[0] - 1 or x > spielfeld.shape[1] - 1 or y < 0 or x < 0:\n",
    "        #print(\"collision\")\n",
    "        return 2\n",
    "    else:\n",
    "        return spielfeld[y,x]"
   ]
  },
  {
   "cell_type": "code",
   "execution_count": 29,
   "metadata": {},
   "outputs": [
    {
     "data": {
      "text/plain": [
       "2"
      ]
     },
     "execution_count": 29,
     "metadata": {},
     "output_type": "execute_result"
    }
   ],
   "source": [
    "get_spielfeld(1,0,spielfeld)"
   ]
  },
  {
   "cell_type": "code",
   "execution_count": 489,
   "metadata": {},
   "outputs": [
    {
     "name": "stdout",
     "output_type": "stream",
     "text": [
      "[[  1   3   2]\n",
      " [  4 455   6]\n",
      " [  2   6   8]]\n",
      "[1 6 8]\n",
      "new\n"
     ]
    }
   ],
   "source": [
    "db, y, learned = update_and_get_obs(db, new,learned)"
   ]
  },
  {
   "cell_type": "code",
   "execution_count": 490,
   "metadata": {},
   "outputs": [
    {
     "data": {
      "text/plain": [
       "array([[  1,   3,   2],\n",
       "       [  4, 455,   6],\n",
       "       [  2,   6,   8],\n",
       "       [  1,   6,   8]])"
      ]
     },
     "execution_count": 490,
     "metadata": {},
     "output_type": "execute_result"
    }
   ],
   "source": [
    "db"
   ]
  },
  {
   "cell_type": "code",
   "execution_count": 491,
   "metadata": {},
   "outputs": [
    {
     "data": {
      "text/plain": [
       "array([[2., 3., 6., 6.],\n",
       "       [4., 3., 6., 6.],\n",
       "       [0., 0., 0., 0.],\n",
       "       [0., 0., 0., 0.]])"
      ]
     },
     "execution_count": 491,
     "metadata": {},
     "output_type": "execute_result"
    }
   ],
   "source": [
    "learned"
   ]
  },
  {
   "cell_type": "code",
   "execution_count": 94,
   "metadata": {},
   "outputs": [
    {
     "name": "stdout",
     "output_type": "stream",
     "text": [
      "collision\n",
      "8 0 [0 2 2 2 0]\n"
     ]
    },
    {
     "data": {
      "text/plain": [
       "array([0, 2, 2, 2, 0])"
      ]
     },
     "execution_count": 94,
     "metadata": {},
     "output_type": "execute_result"
    }
   ],
   "source": [
    "get_observation(spielfeld,0,8)"
   ]
  },
  {
   "cell_type": "code",
   "execution_count": null,
   "metadata": {
    "collapsed": true
   },
   "outputs": [],
   "source": []
  }
 ],
 "metadata": {
  "kernelspec": {
   "display_name": "Python 3",
   "language": "python",
   "name": "python3"
  },
  "language_info": {
   "codemirror_mode": {
    "name": "ipython",
    "version": 3
   },
   "file_extension": ".py",
   "mimetype": "text/x-python",
   "name": "python",
   "nbconvert_exporter": "python",
   "pygments_lexer": "ipython3",
   "version": "3.6.7"
  }
 },
 "nbformat": 4,
 "nbformat_minor": 2
}

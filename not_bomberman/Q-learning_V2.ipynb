{
 "cells": [
  {
   "cell_type": "code",
   "execution_count": 62,
   "metadata": {},
   "outputs": [],
   "source": [
    "import numpy as np\n",
    "from random import *"
   ]
  },
  {
   "cell_type": "code",
   "execution_count": 166,
   "metadata": {},
   "outputs": [
    {
     "name": "stdout",
     "output_type": "stream",
     "text": [
      "[[0 0 0 0 0]\n",
      " [0 2 2 2 0]\n",
      " [0 2 2 2 0]\n",
      " [0 2 2 2 0]\n",
      " [0 0 0 0 1]]\n"
     ]
    }
   ],
   "source": [
    "# taler = 1\n",
    "spielfeld = np.zeros([5,5])\n",
    "spielfeld[4,4] = 1\n",
    "spielfeld[1:4,1:4] = 2\n",
    "# spielfeld[2,1:4] = 2\n",
    "# spielfeld[1,2] = 2\n",
    "# spielfeld[1,3] = 2\n",
    "spielfeld = spielfeld.astype(int)\n",
    "print(spielfeld)\n",
    "\n",
    "state = [0,0]\n",
    "learned = np.zeros([25,4])\n",
    "learned[24,:] = 1000\n",
    "epsilon = 0\n",
    "gamma = 0.3"
   ]
  },
  {
   "cell_type": "code",
   "execution_count": 167,
   "metadata": {},
   "outputs": [],
   "source": [
    "def train(state, spielfeld, learned, epsilon, gamma):\n",
    "    for i in range(10):\n",
    "        actions = [\"down\", \"up\", \"left\", \"right\"]\n",
    "        n_state = [0,0]\n",
    "        if epsilon > uniform(0,1):\n",
    "            # Random Choice\n",
    "            choice = np.random.choice(actions)\n",
    "        else:\n",
    "            index_current = state[0]*5 + state[1]\n",
    "            indices = np.array([])\n",
    "            possible_actions = np.array([])\n",
    "\n",
    "            if not state[0] == 4:\n",
    "                # darf nach unten gehen\n",
    "                indices = np.append(indices,[index_current + 5])\n",
    "                possible_actions = np.append(possible_actions,[\"down\"])\n",
    "            if not state[0] == 0:\n",
    "                #darf nach oben gehen\n",
    "                indices = np.append(indices,[index_current - 5])\n",
    "                possible_actions = np.append(possible_actions,[\"up\"])\n",
    "            if not state[1] == 0:\n",
    "                # darf nach links gehen\n",
    "                indices = np.append(indices,[index_current - 1])\n",
    "                possible_actions = np.append(possible_actions,[\"left\"])\n",
    "            if not state[1] == 4:\n",
    "                # darf nach rechts gehen\n",
    "                indices = np.append(indices,[index_current + 1])\n",
    "                possible_actions = np.append(possible_actions,[\"right\"])\n",
    "\n",
    "            # Hole Werte der möglichen Folgezustände\n",
    "            values = learned[indices.astype(int),:]\n",
    "#             print(values)\n",
    "           # optima = np.argmax(values.flatten(), axis = 0)\n",
    "            b = values.flatten()\n",
    "            optima = np.random.choice(np.flatnonzero(b == b.max()))\n",
    "#             print(\"Optima:\", optima)\n",
    "            \n",
    "            best_choice = possible_actions[optima // 4]\n",
    "            best_value = values.flatten()[optima]\n",
    "            print(best_choice, state)\n",
    "\n",
    "            # get Reward\n",
    "            if(best_choice == \"down\"):\n",
    "                action_index = 0\n",
    "                n_state[0] = state[0] + 1\n",
    "                n_state[1] = state[1]\n",
    "            elif(best_choice == \"up\"):\n",
    "                action_index = 1\n",
    "                n_state[0] = state[0] - 1\n",
    "                n_state[1] = state[1]\n",
    "            elif(best_choice == \"left\"):\n",
    "                action_index = 2\n",
    "                n_state[0] = state[0]\n",
    "                n_state[1] = state[1] - 1\n",
    "            elif(best_choice == \"right\"):\n",
    "                action_index = 3\n",
    "                n_state[0] = state[0]\n",
    "                n_state[1] = state[1] + 1\n",
    "\n",
    "            learned[index_current, action_index] = learned[index_current,action_index] + gamma * best_value + get_reward(state,spielfeld,best_choice)\n",
    "            #print(learned)\n",
    "            state = n_state\n",
    "            if state == [4,4]:\n",
    "                state = [0,0]\n",
    "                learned[24, :] = learned[24, :] + np.max(learned[23, :]) + np.max(learned[19, :])\n",
    "                print(\"-----------found!\")\n",
    "    print(\"-------- Down -------- Up -------- Left -------- Right\")\n",
    "    print(learned)"
   ]
  },
  {
   "cell_type": "code",
   "execution_count": 168,
   "metadata": {},
   "outputs": [],
   "source": [
    "def get_reward(state,spielfeld,action):\n",
    "    x,y = 0,0\n",
    "    if action == \"left\":\n",
    "        x = -1\n",
    "    elif action == \"right\":\n",
    "        x = 1\n",
    "    elif action == \"down\":\n",
    "        y = 1\n",
    "    elif action == \"up\":\n",
    "        y = -1\n",
    "        \n",
    "    x +=state[1]    \n",
    "    y +=state[0]\n",
    "#   1 = Coin, 2 = Enemy\n",
    "    if spielfeld[y,x] == 1:\n",
    "        return 10\n",
    "    elif spielfeld[y,x] == 2:\n",
    "        return -10\n",
    "    else:\n",
    "        return -1"
   ]
  },
  {
   "cell_type": "code",
   "execution_count": 169,
   "metadata": {},
   "outputs": [],
   "source": [
    "def test(state, spielfeld, learned):\n",
    "    actions = [\"down\", \"up\", \"left\", \"right\"]\n",
    "    n_state = [0,0]\n",
    "    for i in range(40):    \n",
    "        index_current = state[0]*5 + state[1]\n",
    "        action_index = np.array([])\n",
    "        possible_actions = np.array([])\n",
    "\n",
    "        if not state[0] == 4:\n",
    "            # darf nach unten gehen\n",
    "            possible_actions = np.append(possible_actions,[\"down\"])\n",
    "            action_index = np.append(action_index, 0)\n",
    "        if not state[0] == 0:\n",
    "            #darf nach oben gehen\n",
    "            possible_actions = np.append(possible_actions,[\"up\"])\n",
    "            action_index = np.append(action_index, 1)\n",
    "        if not state[1] == 0:\n",
    "            # darf nach links gehen\n",
    "            possible_actions = np.append(possible_actions,[\"left\"])\n",
    "            action_index = np.append(action_index, 2)\n",
    "        if not state[1] == 4:\n",
    "            # darf nach rechts gehen\n",
    "            possible_actions = np.append(possible_actions,[\"right\"])\n",
    "            action_index = np.append(action_index, 3)\n",
    "\n",
    "        # Hole maximalen Wert aus learned\n",
    "        chosen_action_index = np.argmax(learned[index_current, action_index.astype(int)])\n",
    "        best_choice = possible_actions[chosen_action_index]\n",
    "        print(state, best_choice)\n",
    "\n",
    "        # get Reward\n",
    "        if(best_choice == \"down\"):\n",
    "            n_state[0] = state[0] + 1\n",
    "            n_state[1] = state[1]\n",
    "        elif(best_choice == \"up\"):\n",
    "            n_state[0] = state[0] - 1\n",
    "            n_state[1] = state[1]\n",
    "        elif(best_choice == \"left\"):\n",
    "            n_state[0] = state[0]\n",
    "            n_state[1] = state[1] - 1\n",
    "        elif(best_choice == \"right\"):\n",
    "            n_state[0] = state[0]\n",
    "            n_state[1] = state[1] + 1\n",
    "\n",
    "        state = n_state\n",
    "        if state == [4,4]:\n",
    "            state = [0,0]\n",
    "            learned[24, :] = learned[24, :] + np.max(learned[23, :]) + np.max(learned[19, :])\n",
    "            print(\"-----------found!\")"
   ]
  },
  {
   "cell_type": "code",
   "execution_count": 246,
   "metadata": {},
   "outputs": [
    {
     "name": "stdout",
     "output_type": "stream",
     "text": [
      "right [0, 0]\n",
      "left [0, 1]\n",
      "right [0, 0]\n",
      "left [0, 1]\n",
      "right [0, 0]\n",
      "left [0, 1]\n",
      "right [0, 0]\n",
      "left [0, 1]\n",
      "right [0, 0]\n",
      "left [0, 1]\n",
      "-------- Down -------- Up -------- Left -------- Right\n",
      "[[-3.70000000e+01  0.00000000e+00  0.00000000e+00  2.39174750e+19]\n",
      " [-4.00000000e+01  0.00000000e+00  2.77726711e+19  1.06515659e+06]\n",
      " [-4.00000000e+01  0.00000000e+00 -5.00000000e+00  1.09604828e+06]\n",
      " [ 0.00000000e+00  0.00000000e+00 -4.00000000e+00  3.05820276e+06]\n",
      " [ 8.07110668e+06  0.00000000e+00 -5.00000000e+00  0.00000000e+00]\n",
      " [-1.10000000e+01 -2.50000000e+01  0.00000000e+00 -4.00000000e+01]\n",
      " [-2.00000000e+01 -1.00000000e+00 -1.00000000e+00 -4.00000000e+01]\n",
      " [-5.00000000e+01 -1.00000000e+00 -1.00000000e+01 -3.00000000e+01]\n",
      " [-1.00000000e+01 -1.00000000e+00 -1.00000000e+01 -1.00000000e+00]\n",
      " [ 2.03170418e+07  0.00000000e+00 -1.00000000e+01  0.00000000e+00]\n",
      " [-3.80960000e+00 -2.00000000e+00  0.00000000e+00 -3.00000000e+01]\n",
      " [-1.00000000e+01 -1.00000000e+01 -2.00000000e+00 -1.00000000e+01]\n",
      " [-1.00000000e+01 -1.00000000e+01  0.00000000e+00 -3.00000000e+01]\n",
      " [ 0.00000000e+00 -2.00000000e+01 -1.00000000e+01 -1.00000000e+00]\n",
      " [ 4.95413554e+07  0.00000000e+00  0.00000000e+00  0.00000000e+00]\n",
      " [ 2.17183000e+01  0.00000000e+00  0.00000000e+00 -1.00000000e+01]\n",
      " [ 0.00000000e+00  0.00000000e+00 -1.00000000e+00 -1.00000000e+01]\n",
      " [-2.00000000e+00  0.00000000e+00  0.00000000e+00  0.00000000e+00]\n",
      " [ 0.00000000e+00  0.00000000e+00  0.00000000e+00  0.00000000e+00]\n",
      " [ 1.19060972e+08  0.00000000e+00  0.00000000e+00  0.00000000e+00]\n",
      " [ 0.00000000e+00  0.00000000e+00  0.00000000e+00  1.77972490e+02]\n",
      " [ 0.00000000e+00  0.00000000e+00  0.00000000e+00  9.43768990e+02]\n",
      " [ 0.00000000e+00  0.00000000e+00  0.00000000e+00  4.40081979e+03]\n",
      " [ 0.00000000e+00  0.00000000e+00  0.00000000e+00  5.23508046e+04]\n",
      " [ 2.85034510e+08  2.85034510e+08  2.85034510e+08  2.85034510e+08]]\n"
     ]
    }
   ],
   "source": [
    "train(state,spielfeld,learned,epsilon, gamma)"
   ]
  },
  {
   "cell_type": "code",
   "execution_count": 212,
   "metadata": {},
   "outputs": [
    {
     "name": "stdout",
     "output_type": "stream",
     "text": [
      "[0, 0] down\n",
      "[1, 0] down\n",
      "[2, 0] up\n",
      "[1, 0] down\n",
      "[2, 0] up\n",
      "[1, 0] down\n",
      "[2, 0] up\n",
      "[1, 0] down\n",
      "[2, 0] up\n",
      "[1, 0] down\n",
      "[2, 0] up\n",
      "[1, 0] down\n",
      "[2, 0] up\n",
      "[1, 0] down\n",
      "[2, 0] up\n",
      "[1, 0] down\n",
      "[2, 0] up\n",
      "[1, 0] down\n",
      "[2, 0] up\n",
      "[1, 0] down\n",
      "[2, 0] up\n",
      "[1, 0] down\n",
      "[2, 0] up\n",
      "[1, 0] down\n",
      "[2, 0] up\n",
      "[1, 0] down\n",
      "[2, 0] up\n",
      "[1, 0] down\n",
      "[2, 0] up\n",
      "[1, 0] down\n",
      "[2, 0] up\n",
      "[1, 0] down\n",
      "[2, 0] up\n",
      "[1, 0] down\n",
      "[2, 0] up\n",
      "[1, 0] down\n",
      "[2, 0] up\n",
      "[1, 0] down\n",
      "[2, 0] up\n",
      "[1, 0] down\n"
     ]
    }
   ],
   "source": [
    "test(state,spielfeld,learned)"
   ]
  },
  {
   "cell_type": "code",
   "execution_count": 117,
   "metadata": {},
   "outputs": [
    {
     "name": "stdout",
     "output_type": "stream",
     "text": [
      "4\n",
      "[False  True False False False False False]\n"
     ]
    },
    {
     "data": {
      "text/plain": [
       "array([1], dtype=int64)"
      ]
     },
     "execution_count": 117,
     "metadata": {},
     "output_type": "execute_result"
    }
   ],
   "source": [
    "b = np.array([-1,0,0,-1,0,0,-1])\n",
    "print(b == b.max())\n",
    "np.flatnonzero(b == b.max())\n",
    "            "
   ]
  },
  {
   "cell_type": "code",
   "execution_count": 33,
   "metadata": {},
   "outputs": [
    {
     "data": {
      "text/plain": [
       "1"
      ]
     },
     "execution_count": 33,
     "metadata": {},
     "output_type": "execute_result"
    }
   ],
   "source": [
    "4 // 4"
   ]
  },
  {
   "cell_type": "code",
   "execution_count": 99,
   "metadata": {},
   "outputs": [
    {
     "data": {
      "text/plain": [
       "array([[-1.00e+00,  0.00e+00,  0.00e+00, -3.00e+00],\n",
       "       [-1.00e+00,  0.00e+00, -1.00e+00, -2.00e+00],\n",
       "       [-1.00e+00,  0.00e+00, -1.00e+00,  0.00e+00],\n",
       "       [ 0.00e+00,  0.00e+00,  0.00e+00,  0.00e+00],\n",
       "       [ 0.00e+00,  0.00e+00,  0.00e+00,  0.00e+00],\n",
       "       [ 0.00e+00, -1.00e+00,  0.00e+00,  0.00e+00],\n",
       "       [-1.00e+00,  0.00e+00,  0.00e+00,  0.00e+00],\n",
       "       [ 0.00e+00,  0.00e+00, -1.00e+00,  0.00e+00],\n",
       "       [ 0.00e+00,  0.00e+00,  0.00e+00,  0.00e+00],\n",
       "       [ 0.00e+00,  0.00e+00,  0.00e+00,  0.00e+00],\n",
       "       [-1.00e+00,  0.00e+00,  0.00e+00,  0.00e+00],\n",
       "       [ 0.00e+00,  0.00e+00, -1.00e+00,  0.00e+00],\n",
       "       [ 0.00e+00,  0.00e+00,  0.00e+00,  0.00e+00],\n",
       "       [ 0.00e+00,  0.00e+00,  0.00e+00,  0.00e+00],\n",
       "       [ 0.00e+00,  0.00e+00,  0.00e+00,  0.00e+00],\n",
       "       [ 0.00e+00,  0.00e+00,  0.00e+00, -1.00e+00],\n",
       "       [ 0.00e+00,  0.00e+00,  0.00e+00, -1.00e+00],\n",
       "       [ 0.00e+00,  0.00e+00,  0.00e+00, -1.00e+00],\n",
       "       [-1.00e+00,  0.00e+00,  0.00e+00,  0.00e+00],\n",
       "       [ 0.00e+00,  0.00e+00,  0.00e+00,  0.00e+00],\n",
       "       [ 0.00e+00,  0.00e+00,  0.00e+00,  0.00e+00],\n",
       "       [ 0.00e+00,  0.00e+00,  0.00e+00,  0.00e+00],\n",
       "       [ 0.00e+00,  0.00e+00,  0.00e+00,  0.00e+00],\n",
       "       [ 0.00e+00,  0.00e+00,  0.00e+00,  3.10e+02],\n",
       "       [ 1.31e+03,  1.31e+03,  1.31e+03,  1.31e+03]])"
      ]
     },
     "execution_count": 99,
     "metadata": {},
     "output_type": "execute_result"
    }
   ],
   "source": [
    "learned"
   ]
  }
 ],
 "metadata": {
  "kernelspec": {
   "display_name": "Python 3",
   "language": "python",
   "name": "python3"
  },
  "language_info": {
   "codemirror_mode": {
    "name": "ipython",
    "version": 3
   },
   "file_extension": ".py",
   "mimetype": "text/x-python",
   "name": "python",
   "nbconvert_exporter": "python",
   "pygments_lexer": "ipython3",
   "version": "3.7.1"
  }
 },
 "nbformat": 4,
 "nbformat_minor": 2
}

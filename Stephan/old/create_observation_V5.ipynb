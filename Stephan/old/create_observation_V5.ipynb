{
 "cells": [
  {
   "cell_type": "code",
   "execution_count": 1,
   "metadata": {
    "collapsed": true
   },
   "outputs": [],
   "source": [
    "import numpy as np\n",
    "from indices import *\n",
    "import math"
   ]
  },
  {
   "cell_type": "code",
   "execution_count": 2,
   "metadata": {
    "collapsed": true,
    "scrolled": false
   },
   "outputs": [],
   "source": [
    "daten = np.load(\"test_daten.npy\")"
   ]
  },
  {
   "cell_type": "code",
   "execution_count": 3,
   "metadata": {},
   "outputs": [],
   "source": [
    "def create_window(array_source, radius, agents_count):  \n",
    "    ZEILEN = 17\n",
    "    WALL = 2\n",
    "    CRATE = 1\n",
    "    FREE = 0\n",
    "    COIN = -1\n",
    "    PLAYER = 3\n",
    "    BOMB = 4\n",
    "    EXPLOSION = 5\n",
    "    AGENT = 6\n",
    "    INDEX_LENGTH = 176\n",
    "    \n",
    "    row_length = radius * 2 + 1\n",
    "    array_target = np.zeros([agents_count, row_length, row_length])\n",
    "    \n",
    "    #Add Player and Bomb coordinates\n",
    "    startX = INDEX_LENGTH\n",
    "    for l in range(agents_count):\n",
    "        mx, my = index_to_x_y(int(daten[int(startX)]),ZEILEN,ZEILEN) # Koordinaten des Spielers, Mittelpunkt des Ausschnitts\n",
    "        borderX = mx + radius\n",
    "        borderY = my + radius\n",
    "        \n",
    "        start = INDEX_LENGTH\n",
    "        for i in range(agents_count):\n",
    "            agentX, agentY = index_to_x_y(int(daten[int(start)]),ZEILEN,ZEILEN)\n",
    "            if not (agentX > borderX or agentY > borderY or agentX < (mx - radius) or agentY < (my - radius)):\n",
    "                array_target[l,int(agentY - (my - radius)), int(agentX - (mx - radius))] = AGENT\n",
    "\n",
    "\n",
    "            start += 2\n",
    "            if not daten[int(start)] == 0:\n",
    "                bombeX, bombeY = index_to_x_y(int(daten[int(start)]),ZEILEN,ZEILEN)\n",
    "                if not (bombeX > borderX or bombeY > borderY or bombeX < (mx - radius) or bombeY < (my - radius)):\n",
    "                    array_target[l,int(bombeY - (my - radius)), int(bombeX - (mx - radius))] = BOMB\n",
    "            start = start + 19 \n",
    "    \n",
    "   \n",
    "        for i in range(int(math.pow(row_length,2))):\n",
    "            xt = i % row_length\n",
    "            yt = math.floor(i / (row_length))\n",
    "            if not(array_target[l, int(yt),int(xt)] == AGENT or array_target[l, int(yt),int(xt)] == BOMB):\n",
    "                x = xt + (mx - radius)\n",
    "                y = yt + (my - radius)\n",
    "                try:\n",
    "                    index = x_y_to_index(int(x),int(y),ZEILEN,ZEILEN)\n",
    "                    array_target[l, int(yt),int(xt)] = daten[int(index)]\n",
    "                except Exception as e:\n",
    "                    array_target[l,yt,xt] = WALL\n",
    "                \n",
    "        startX = startX + 21\n",
    "\n",
    "    return array_target\n"
   ]
  },
  {
   "cell_type": "code",
   "execution_count": 45,
   "metadata": {},
   "outputs": [
    {
     "data": {
      "text/plain": [
       "array([[[2., 2., 2., 2., 2.],\n",
       "        [2., 2., 2., 2., 2.],\n",
       "        [2., 2., 6., 0., 0.],\n",
       "        [2., 2., 1., 2., 1.],\n",
       "        [2., 2., 1., 1., 1.]],\n",
       "\n",
       "       [[2., 2., 2., 2., 2.],\n",
       "        [2., 2., 2., 2., 2.],\n",
       "        [0., 0., 6., 2., 2.],\n",
       "        [0., 2., 0., 2., 2.],\n",
       "        [1., 1., 0., 2., 2.]],\n",
       "\n",
       "       [[2., 2., 1., 1., 1.],\n",
       "        [2., 2., 1., 2., 1.],\n",
       "        [2., 2., 6., 1., 1.],\n",
       "        [2., 2., 2., 2., 2.],\n",
       "        [2., 2., 2., 2., 2.]],\n",
       "\n",
       "       [[1., 1., 0., 2., 2.],\n",
       "        [0., 2., 0., 2., 2.],\n",
       "        [0., 0., 6., 2., 2.],\n",
       "        [2., 2., 2., 2., 2.],\n",
       "        [2., 2., 2., 2., 2.]]])"
      ]
     },
     "execution_count": 45,
     "metadata": {},
     "output_type": "execute_result"
    }
   ],
   "source": [
    "create_window(daten,2,4)"
   ]
  },
  {
   "cell_type": "code",
   "execution_count": 42,
   "metadata": {
    "collapsed": true
   },
   "outputs": [],
   "source": [
    "def create_observation_vectors(array_source, window_radius, agents_count):\n",
    "    window_vector = create_window(array_source, window_radius, agents_count)\n",
    "    observation_vector = np.zeros([agents_count, window_vector[0].flatten().shape[0]])\n",
    "    # TODO: Add more derived observations:\n",
    "    # ...\n",
    "    \n",
    "    # concatenate observations so far and window observations\n",
    "    for i in range(agents_count):\n",
    "        observation_vector[i,:] = window_vector[i].flatten()\n",
    "    return observation_vector"
   ]
  },
  {
   "cell_type": "code",
   "execution_count": 43,
   "metadata": {},
   "outputs": [
    {
     "data": {
      "text/plain": [
       "array([[2., 2., 2., 2., 2., 2., 2., 2., 2., 2., 2., 2., 6., 0., 0., 2.,\n",
       "        2., 1., 2., 1., 2., 2., 1., 1., 1.],\n",
       "       [2., 2., 2., 2., 2., 2., 2., 2., 2., 2., 0., 0., 6., 2., 2., 0.,\n",
       "        2., 0., 2., 2., 1., 1., 0., 2., 2.],\n",
       "       [2., 2., 1., 1., 1., 2., 2., 1., 2., 1., 2., 2., 6., 1., 1., 2.,\n",
       "        2., 2., 2., 2., 2., 2., 2., 2., 2.],\n",
       "       [1., 1., 0., 2., 2., 0., 2., 0., 2., 2., 0., 0., 6., 2., 2., 2.,\n",
       "        2., 2., 2., 2., 2., 2., 2., 2., 2.]])"
      ]
     },
     "execution_count": 43,
     "metadata": {},
     "output_type": "execute_result"
    }
   ],
   "source": [
    "create_observation_vectors(daten, 2, 4)"
   ]
  },
  {
   "cell_type": "code",
   "execution_count": 46,
   "metadata": {},
   "outputs": [
    {
     "data": {
      "text/plain": [
       "array([  0.,   0.,   0.,   0.,   1.,   1.,   1.,   1.,   0.,   1.,   0.,\n",
       "         1.,   3.,   0.,   0.,   0.,   1.,   1.,   1.,   1.,   1.,   0.,\n",
       "         0.,   0.,   1.,   1.,   1.,   1.,   1.,   1.,   1.,   0.,   1.,\n",
       "         1.,   1.,   1.,   1.,   1.,   0.,   1.,   3.,   3.,   0.,   0.,\n",
       "         1.,   0.,   0.,   1.,   1.,   0.,   1.,   1.,   1.,   1.,   1.,\n",
       "         1.,   1.,   1.,   1.,   1.,   1.,   1.,   1.,   1.,   1.,   1.,\n",
       "         0.,   1.,   1.,   1.,   1.,   1.,   1.,   1.,   1.,   1.,   1.,\n",
       "         0.,   1.,   1.,   1.,   1.,   1.,   1.,   1.,   3.,   1.,   0.,\n",
       "         1.,   1.,   1.,   1.,   1.,   1.,   1.,   1.,   1.,   0.,   1.,\n",
       "         1.,   1.,   0.,   3.,   0.,   1.,   0.,   1.,   1.,   0.,   1.,\n",
       "         3.,   1.,   0.,   1.,   0.,   0.,   1.,   1.,   3.,   1.,   1.,\n",
       "         0.,   3.,   1.,   0.,   3.,   1.,   0.,   1.,   1.,   1.,   1.,\n",
       "         1.,   0.,   1.,   0.,   1.,   1.,   1.,   1.,   1.,   1.,   1.,\n",
       "         1.,   1.,   1.,   0.,   1.,   1.,   1.,   1.,   1.,   1.,   0.,\n",
       "         1.,   1.,   1.,   1.,   1.,   1.,   0.,   0.,   0.,   1.,   1.,\n",
       "         1.,   1.,   1.,   1.,   1.,   1.,   0.,   1.,   1.,   0.,   0.,\n",
       "         1.,   0.,   0.,   0.,   0.,   0.,   0.,   0.,   0.,   0.,   0.,\n",
       "         0.,   0.,   0.,   0.,   0.,   0.,   0.,   0.,   0.,   0.,  15.,\n",
       "         0.,   0.,   0.,   0.,   0.,   0.,   0.,   0.,   0.,   0.,   0.,\n",
       "         0.,   0.,   0.,   0.,   0.,   0.,   0.,   0.,   0., 162.,   0.,\n",
       "         0.,   0.,   0.,   0.,   0.,   0.,   0.,   0.,   0.,   0.,   0.,\n",
       "         0.,   0.,   0.,   0.,   0.,   0.,   0.,   0., 176.,   0.,   0.,\n",
       "         0.,   0.,   0.,   0.,   0.,   0.,   0.,   0.,   0.,   0.,   0.,\n",
       "         0.,   0.,   0.,   0.,   0.,   0.,   0.,   1.])"
      ]
     },
     "execution_count": 46,
     "metadata": {},
     "output_type": "execute_result"
    }
   ],
   "source": [
    "daten"
   ]
  },
  {
   "cell_type": "code",
   "execution_count": null,
   "metadata": {
    "collapsed": true
   },
   "outputs": [],
   "source": []
  }
 ],
 "metadata": {
  "kernelspec": {
   "display_name": "Python 3",
   "language": "python",
   "name": "python3"
  },
  "language_info": {
   "codemirror_mode": {
    "name": "ipython",
    "version": 3
   },
   "file_extension": ".py",
   "mimetype": "text/x-python",
   "name": "python",
   "nbconvert_exporter": "python",
   "pygments_lexer": "ipython3",
   "version": "3.6.1"
  }
 },
 "nbformat": 4,
 "nbformat_minor": 2
}

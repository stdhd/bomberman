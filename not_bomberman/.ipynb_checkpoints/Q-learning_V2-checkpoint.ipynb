{
 "cells": [
  {
   "cell_type": "code",
   "execution_count": 1,
   "metadata": {},
   "outputs": [],
   "source": [
    "import numpy as np\n",
    "from random import *"
   ]
  },
  {
   "cell_type": "code",
   "execution_count": 29,
   "metadata": {},
   "outputs": [],
   "source": [
    "# taler = 1\n",
    "spielfeld = np.zeros([5,5])\n",
    "spielfeld[4,4] = 1\n",
    "spielfeld = spielfeld.astype(int)"
   ]
  },
  {
   "cell_type": "code",
   "execution_count": 38,
   "metadata": {},
   "outputs": [],
   "source": [
    "state = [0,0]\n",
    "learned = np.zeros([25,4])\n",
    "learned[24,:] = 1000\n",
    "epsilon = 0"
   ]
  },
  {
   "cell_type": "code",
   "execution_count": 39,
   "metadata": {},
   "outputs": [],
   "source": [
    "def do_action(state, spielfeld, learned, epsilon):\n",
    "    for i in range(10):\n",
    "        spielfeld[state[0], state[1]] = 2\n",
    "        actions = [\"down\", \"up\", \"left\", \"right\"]\n",
    "        n_state = [0,0]\n",
    "        if epsilon > uniform(0,1):\n",
    "            # Random Choice\n",
    "            choice = np.random.choice(actions)\n",
    "        else:\n",
    "            index_current = state[0]*5 + state[1]\n",
    "            indices = np.array([])\n",
    "            possible_actions = np.array([])\n",
    "\n",
    "            if not state[0] == 4:\n",
    "                # darf nach unten gehen\n",
    "                indices = np.append(indices,[index_current + 5])\n",
    "                possible_actions = np.append(possible_actions,[\"down\"])\n",
    "            if not state[0] == 0:\n",
    "                #darf nach oben gehen\n",
    "                indices = np.append(indices,[index_current - 5])\n",
    "                possible_actions = np.append(possible_actions,[\"up\"])\n",
    "            if not state[1] == 0:\n",
    "                # darf nach links gehen\n",
    "                indices = np.append(indices,[index_current - 1])\n",
    "                possible_actions = np.append(possible_actions,[\"left\"])\n",
    "            if not state[1] == 4:\n",
    "                # darf nach rechts gehen\n",
    "                indices = np.append(indices,[index_current + 1])\n",
    "                possible_actions = np.append(possible_actions,[\"right\"])\n",
    "\n",
    "            # Hole Werte der möglichen Folgezustände\n",
    "            values = learned[indices.astype(int),:]\n",
    "            print(values)\n",
    "           # optima = np.argmax(values.flatten(), axis = 0)\n",
    "            b = values.flatten()\n",
    "            optima = np.random.choice(np.flatnonzero(b == b.max()))\n",
    "            print(\"Optima:\", optima)\n",
    "            \n",
    "            best_choice = possible_actions[optima // 4]\n",
    "            best_value = values.flatten()[optima]\n",
    "            print(best_choice, state)\n",
    "\n",
    "            # get Reward\n",
    "            if(best_choice == \"down\"):\n",
    "                action_index = 0\n",
    "                n_state[0] = state[0] + 1\n",
    "                n_state[1] = state[1]\n",
    "            elif(best_choice == \"up\"):\n",
    "                action_index = 1\n",
    "                n_state[0] = state[0] - 1\n",
    "                n_state[1] = state[1]\n",
    "            elif(best_choice == \"left\"):\n",
    "                action_index = 2\n",
    "                n_state[0] = state[0]\n",
    "                n_state[1] = state[1] - 1\n",
    "            elif(best_choice == \"right\"):\n",
    "                action_index = 3\n",
    "                n_state[0] = state[0]\n",
    "                n_state[1] = state[1] + 1\n",
    "\n",
    "            learned[index_current, action_index] = learned[index_current,action_index] + best_value + get_reward(state,spielfeld,best_choice)\n",
    "            #print(learned)\n",
    "            state = n_state\n",
    "            if state == [4,4]:\n",
    "                state = [0,0]\n",
    "                print(\"-----------found!\")\n",
    "            else:\n",
    "                spielfeld[state[0], state[1]] = 0\n",
    "    print(learned)"
   ]
  },
  {
   "cell_type": "code",
   "execution_count": 40,
   "metadata": {},
   "outputs": [],
   "source": [
    "def get_reward(state,spielfeld,action):\n",
    "    x,y = 0,0\n",
    "    if action == \"left\":\n",
    "        x = -1\n",
    "    elif action == \"right\":\n",
    "        x = 1\n",
    "    elif action == \"down\":\n",
    "        y = 1\n",
    "    elif action == \"up\":\n",
    "        y = -1\n",
    "        \n",
    "    x +=state[1]    \n",
    "    y +=state[0]\n",
    "    if spielfeld[y,x] == 1:\n",
    "        return 10\n",
    "    else:\n",
    "        return -1"
   ]
  },
  {
   "cell_type": "code",
   "execution_count": 41,
   "metadata": {},
   "outputs": [
    {
     "name": "stdout",
     "output_type": "stream",
     "text": [
      "[[0. 0. 0. 0.]\n",
      " [0. 0. 0. 0.]]\n",
      "Optima: 3\n",
      "down [0, 0]\n",
      "[[-1.  0.  0.  0.]\n",
      " [ 0.  0.  0.  0.]\n",
      " [ 0.  0.  0.  0.]]\n",
      "Optima: 5\n",
      "down [1, 0]\n",
      "[[-1.  0.  0.  0.]\n",
      " [ 0.  0.  0.  0.]\n",
      " [ 0.  0.  0.  0.]]\n",
      "Optima: 10\n",
      "right [2, 0]\n",
      "[[ 0.  0.  0.  0.]\n",
      " [ 0.  0.  0.  0.]\n",
      " [ 0.  0.  0. -1.]\n",
      " [ 0.  0.  0.  0.]]\n",
      "Optima: 2\n",
      "up [2, 1]\n",
      "[[ 0.  0.  0.  0.]\n",
      " [ 0. -1.  0.  0.]\n",
      " [-1.  0.  0.  0.]\n",
      " [ 0.  0.  0.  0.]]\n",
      "Optima: 10\n",
      "left [1, 1]\n",
      "[[-1.  0.  0.  0.]\n",
      " [ 0.  0.  0. -1.]\n",
      " [ 0.  0. -1.  0.]]\n",
      "Optima: 4\n",
      "down [1, 0]\n",
      "[[-2.  0.  0.  0.]\n",
      " [ 0.  0.  0.  0.]\n",
      " [ 0. -1.  0.  0.]]\n",
      "Optima: 11\n",
      "right [2, 0]\n",
      "[[ 0.  0. -1.  0.]\n",
      " [ 0.  0.  0.  0.]\n",
      " [ 0.  0.  0. -2.]\n",
      " [ 0.  0.  0.  0.]]\n",
      "Optima: 9\n",
      "left [2, 1]\n",
      "[[-2.  0.  0.  0.]\n",
      " [ 0.  0.  0.  0.]\n",
      " [ 0. -1. -1.  0.]]\n",
      "Optima: 3\n",
      "up [2, 0]\n",
      "[[-1.  0.  0.  0.]\n",
      " [ 0. -1.  0. -2.]\n",
      " [ 0.  0. -1.  0.]]\n",
      "Optima: 2\n",
      "up [1, 0]\n",
      "[[  -1.    0.    0.    0.]\n",
      " [   0.    0.    0.    0.]\n",
      " [   0.    0.    0.    0.]\n",
      " [   0.    0.    0.    0.]\n",
      " [   0.    0.    0.    0.]\n",
      " [  -2.   -1.    0.    0.]\n",
      " [   0.    0.   -1.    0.]\n",
      " [   0.    0.    0.    0.]\n",
      " [   0.    0.    0.    0.]\n",
      " [   0.    0.    0.    0.]\n",
      " [   0.   -1.    0.   -2.]\n",
      " [   0.   -1.   -1.    0.]\n",
      " [   0.    0.    0.    0.]\n",
      " [   0.    0.    0.    0.]\n",
      " [   0.    0.    0.    0.]\n",
      " [   0.    0.    0.    0.]\n",
      " [   0.    0.    0.    0.]\n",
      " [   0.    0.    0.    0.]\n",
      " [   0.    0.    0.    0.]\n",
      " [   0.    0.    0.    0.]\n",
      " [   0.    0.    0.    0.]\n",
      " [   0.    0.    0.    0.]\n",
      " [   0.    0.    0.    0.]\n",
      " [   0.    0.    0.    0.]\n",
      " [1000. 1000. 1000. 1000.]]\n"
     ]
    }
   ],
   "source": [
    "do_action(state,spielfeld,learned,epsilon)"
   ]
  },
  {
   "cell_type": "code",
   "execution_count": 18,
   "metadata": {},
   "outputs": [
    {
     "name": "stdout",
     "output_type": "stream",
     "text": [
      "[False  True  True False  True  True False]\n"
     ]
    },
    {
     "data": {
      "text/plain": [
       "array([1, 2, 4, 5], dtype=int64)"
      ]
     },
     "execution_count": 18,
     "metadata": {},
     "output_type": "execute_result"
    }
   ],
   "source": [
    "b = np.array([-1,0,0,-1,0,0,-1])\n",
    "print(b == b.max())\n",
    "np.flatnonzero(b == b.max())\n",
    "            "
   ]
  },
  {
   "cell_type": "code",
   "execution_count": 34,
   "metadata": {},
   "outputs": [
    {
     "data": {
      "text/plain": [
       "1"
      ]
     },
     "execution_count": 34,
     "metadata": {},
     "output_type": "execute_result"
    }
   ],
   "source": [
    "4 // 4"
   ]
  }
 ],
 "metadata": {
  "kernelspec": {
   "display_name": "Python 3",
   "language": "python",
   "name": "python3"
  },
  "language_info": {
   "codemirror_mode": {
    "name": "ipython",
    "version": 3
   },
   "file_extension": ".py",
   "mimetype": "text/x-python",
   "name": "python",
   "nbconvert_exporter": "python",
   "pygments_lexer": "ipython3",
   "version": "3.7.1"
  }
 },
 "nbformat": 4,
 "nbformat_minor": 2
}

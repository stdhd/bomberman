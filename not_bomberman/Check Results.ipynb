{
 "cells": [
  {
   "cell_type": "code",
   "execution_count": 2,
   "metadata": {},
   "outputs": [],
   "source": [
    "import numpy as np\n",
    "from random import *\n",
    "import matplotlib.pyplot as plt\n",
    "import os"
   ]
  },
  {
   "cell_type": "code",
   "execution_count": 108,
   "metadata": {},
   "outputs": [
    {
     "name": "stdout",
     "output_type": "stream",
     "text": [
      "Entries with wait > 0: 0\n",
      "Entries with wait < 0: 104\n",
      "(340, 11)\n",
      "(340, 6)\n",
      "[[-1.  0. -1. ... -1.  3.  6.]\n",
      " [ 3. -1.  0. ... -1.  3.  6.]\n",
      " [-1.  0. -1. ... -1.  3. 24.]\n",
      " ...\n",
      " [ 0.  0. -1. ... -1.  2.  6.]\n",
      " [ 0. -1.  0. ...  0.  3. 32.]\n",
      " [ 0. -1.  0. ...  0.  3. 24.]]\n",
      "[ -200.             0.             0.             0.\n",
      "     0.             0.          -200.             0.\n",
      "  -200.          -200.             0.             0.\n",
      "  -200.         -1476.97241257     0.          -376.\n",
      "     0.             0.             0.          -200.\n",
      "     0.          -200.         -4200.          -200.\n",
      "  -200.             0.          -200.             0.\n",
      "  -200.         -4200.         -2720.             0.\n",
      "     0.          -200.             0.          -200.\n",
      "  -200.             0.         -4200.          -200.\n",
      "     0.          -200.             0.          -200.\n",
      " -4200.          -320.             0.             0.\n",
      "     0.             0.             0.             0.\n",
      "  -200.             0.             0.          -200.\n",
      "     0.             0.             0.             0.\n",
      "     0.          -200.             0.             0.\n",
      "  -200.             0.          -200.             0.\n",
      "  -200.             0.             0.             0.\n",
      "     0.          -325.6            0.             0.\n",
      "     0.          -200.         -4200.             0.\n",
      "  -200.             0.             0.             0.\n",
      "  -200.             0.             0.         -4320.\n",
      "     0.          -200.             0.             0.\n",
      " -4200.          -200.             0.         -4200.\n",
      "     0.          -200.          -200.             0.        ]\n"
     ]
    }
   ],
   "source": [
    "observation_db = np.load('C:\\\\Repositories\\\\Master\\\\bomberman\\\\JAKOB_bomberman\\\\bomberman_environment\\\\agent_code\\\\merged_agent\\\\observation-r1_ccdir_csfdir.npy')\n",
    "q_table = np.load('C:\\\\Repositories\\\\Master\\\\bomberman\\\\JAKOB_bomberman\\\\bomberman_environment\\\\agent_code\\\\merged_agent\\\\q_table-r1_ccdir_csfdir.npy')\n",
    "\n",
    "#['UP', 'DOWN', 'LEFT', 'RIGHT', 'BOMB', 'WAIT']\n",
    "# left, right, up, down\n",
    "start = 0\n",
    "ziel = 100\n",
    "print(\"Entries with wait > 0:\", np.where(q_table[:, 5] > 0)[0].shape[0])\n",
    "print(\"Entries with wait < 0:\", np.where(q_table[:, 5] < 0)[0].shape[0])\n",
    "print(observation_db.shape)\n",
    "print(q_table.shape)\n",
    "print(observation_db[start:ziel,:])\n",
    "print(q_table[start:ziel,5])"
   ]
  },
  {
   "cell_type": "code",
   "execution_count": 3,
   "metadata": {},
   "outputs": [
    {
     "name": "stdout",
     "output_type": "stream",
     "text": [
      "(2, 3)\n",
      "[['1' '1' 'r']]\n",
      "[1]\n"
     ]
    }
   ],
   "source": [
    "a = np.array([1,4])\n",
    "b = np.array([[2,3,\"3\"],[1,1,\"r\"]])\n",
    "c = np.empty([0, 3])\n",
    "c = np.append(c, [[1,1,\"r\"]], axis=0)\n",
    "print(b.shape)\n",
    "print(c)\n",
    "observation = np.array([1,1,\"r\"])\n",
    "# print(np.array_equal(b[1], [1,1,\"1\"]))\n",
    "f = np.where((b == observation).all(axis=1))[0]\n",
    "print(f)\n",
    "\n",
    "# print(np.abs(a-b))\n",
    "# np.sum(np.abs(a-b), axis=1)"
   ]
  },
  {
   "cell_type": "code",
   "execution_count": 4,
   "metadata": {},
   "outputs": [
    {
     "name": "stdout",
     "output_type": "stream",
     "text": [
      "False\n"
     ]
    },
    {
     "name": "stderr",
     "output_type": "stream",
     "text": [
      "C:\\dev\\Anaconda\\Installation\\envs\\ml_homework\\lib\\site-packages\\ipykernel_launcher.py:6: FutureWarning: elementwise comparison failed; returning scalar instead, but in the future will perform elementwise comparison\n",
      "  \n",
      "C:\\dev\\Anaconda\\Installation\\envs\\ml_homework\\lib\\site-packages\\ipykernel_launcher.py:7: FutureWarning: elementwise comparison failed; returning scalar instead, but in the future will perform elementwise comparison\n",
      "  import sys\n"
     ]
    },
    {
     "ename": "AttributeError",
     "evalue": "'bool' object has no attribute 'all'",
     "output_type": "error",
     "traceback": [
      "\u001b[1;31m-----------------------------------------------------------------\u001b[0m",
      "\u001b[1;31mAttributeError\u001b[0m                  Traceback (most recent call last)",
      "\u001b[1;32m<ipython-input-4-5aeb18785d8c>\u001b[0m in \u001b[0;36m<module>\u001b[1;34m\u001b[0m\n\u001b[0;32m      5\u001b[0m \u001b[1;33m\u001b[0m\u001b[0m\n\u001b[0;32m      6\u001b[0m \u001b[0mprint\u001b[0m\u001b[1;33m(\u001b[0m\u001b[0ma\u001b[0m \u001b[1;33m==\u001b[0m \u001b[0mc\u001b[0m\u001b[1;33m)\u001b[0m\u001b[1;33m\u001b[0m\u001b[1;33m\u001b[0m\u001b[0m\n\u001b[1;32m----> 7\u001b[1;33m \u001b[0mprint\u001b[0m\u001b[1;33m(\u001b[0m\u001b[1;33m(\u001b[0m\u001b[0ma\u001b[0m \u001b[1;33m==\u001b[0m \u001b[0mc\u001b[0m\u001b[1;33m)\u001b[0m\u001b[1;33m.\u001b[0m\u001b[0mall\u001b[0m\u001b[1;33m(\u001b[0m\u001b[0maxis\u001b[0m\u001b[1;33m=\u001b[0m\u001b[1;36m1\u001b[0m\u001b[1;33m)\u001b[0m\u001b[1;33m)\u001b[0m\u001b[1;33m\u001b[0m\u001b[1;33m\u001b[0m\u001b[0m\n\u001b[0m\u001b[0;32m      8\u001b[0m \u001b[0mprint\u001b[0m\u001b[1;33m(\u001b[0m\u001b[0mnp\u001b[0m\u001b[1;33m.\u001b[0m\u001b[0mwhere\u001b[0m\u001b[1;33m(\u001b[0m\u001b[0ma\u001b[0m \u001b[1;33m==\u001b[0m \u001b[0mc\u001b[0m\u001b[1;33m)\u001b[0m\u001b[1;33m)\u001b[0m\u001b[1;33m\u001b[0m\u001b[1;33m\u001b[0m\u001b[0m\n\u001b[0;32m      9\u001b[0m \u001b[1;33m\u001b[0m\u001b[0m\n",
      "\u001b[1;31mAttributeError\u001b[0m: 'bool' object has no attribute 'all'"
     ]
    }
   ],
   "source": [
    "xlist = [[3, 7, \"j\"]]\n",
    "a = np.asarray(xlist)\n",
    "c = np.array([3,7])\n",
    "# print(np.where(a == [3, 5]))\n",
    "\n",
    "print(a == c)\n",
    "print((a == c).all(axis=1))\n",
    "print(np.where(a == c))\n",
    "\n",
    "# np.where((a == [2., 1.2]).all(axis=1))[0]"
   ]
  },
  {
   "cell_type": "code",
   "execution_count": 14,
   "metadata": {},
   "outputs": [
    {
     "name": "stdout",
     "output_type": "stream",
     "text": [
      "[]\n",
      "[1]\n",
      "[1 0 1]\n",
      "[1 1 0]\n",
      "[[1, 2, 3], [1, 2, 3]]\n"
     ]
    }
   ],
   "source": [
    "a = np.array([[1,2], [2,4], [6,6]])\n",
    "field = np.arange(49).reshape([7,7])\n",
    "# print(((field == 5) | (field == 7)))\n",
    "coords = a[((a > 1) & (a < 5)).all(axis=1)]\n",
    "field[a[:, 0],a[:, 1]] = 100\n",
    "first = np.where(a == 5)\n",
    "second = np.where(a == 4)\n",
    "third = np.where(a == 2)\n",
    "print(first[0])\n",
    "print(second[0])\n",
    "print(np.concatenate((first[0], second[0], third[0])))\n",
    "print(np.concatenate((first[1], second[1], third[1])))\n",
    "# print(np.vstack((np.concatenate((first[0], second[0])), np.concatenate((first[1], second[1])))).T)\n",
    "stack = np.vstack((np.concatenate((first[0], second[0], third[0])), np.concatenate((first[1], second[1], third[1])))).T\n",
    "\n",
    "abc = []\n",
    "abc.append([1,2,3])\n",
    "abc.append([1,2,3])\n",
    "print(abc)"
   ]
  },
  {
   "cell_type": "code",
   "execution_count": 27,
   "metadata": {},
   "outputs": [
    {
     "name": "stdout",
     "output_type": "stream",
     "text": [
      "(array([], dtype=int64),)\n",
      "[[ 0  1]\n",
      " [ 2  3]\n",
      " [ 4  5]\n",
      " [ 6  7]\n",
      " [ 8  9]\n",
      " [10 11]\n",
      " [12 13]\n",
      " [14 15]\n",
      " [16 17]\n",
      " [18 19]]\n",
      "B [1 1 3]\n",
      "[2 2 5]\n",
      "[[1 1 2]\n",
      " [1 1 3]]\n"
     ]
    },
    {
     "name": "stderr",
     "output_type": "stream",
     "text": [
      "C:\\dev\\Anaconda\\Installation\\envs\\ml_homework\\lib\\site-packages\\ipykernel_launcher.py:2: DeprecationWarning: elementwise == comparison failed; this will raise an error in the future.\n",
      "  \n"
     ]
    }
   ],
   "source": [
    "ar = np.arange(20).reshape(10,2)\n",
    "print(np.where((ar == np.array([[18,19], [0,1]])))  )\n",
    "print(ar)\n",
    "\n",
    "A = np.array([[1, 1, 1],[1, 1, 2],[1, 1, 3],[1, 0, 1]])\n",
    "B = np.array([[0, 0, 0],[1, 0, 2],[1, 0, 3],[1, 0, 4],[1, 1, 0],[1, 1, 1],[1, 0, 1]])\n",
    "print(\"B\", A.max(0))\n",
    "dims = np.maximum(B.max(0),A.max(0))+1\n",
    "print(dims)\n",
    "out = A[~np.in1d(np.ravel_multi_index(A.T,dims),np.ravel_multi_index(B.T,dims))]\n",
    "print(out)"
   ]
  },
  {
   "cell_type": "code",
   "execution_count": 8,
   "metadata": {},
   "outputs": [
    {
     "data": {
      "text/plain": [
       "False"
      ]
     },
     "execution_count": 8,
     "metadata": {},
     "output_type": "execute_result"
    }
   ],
   "source": [
    "abc = np.array([0,0,0,0])\n",
    "abc.any()"
   ]
  },
  {
   "cell_type": "code",
   "execution_count": null,
   "metadata": {},
   "outputs": [],
   "source": []
  },
  {
   "cell_type": "code",
   "execution_count": null,
   "metadata": {},
   "outputs": [],
   "source": [
    "def d_closest_safe_field_dir(self):\n",
    "        \"\"\"\n",
    "        Direction to next safe field.\n",
    "        Bomb on arena: (16), 8, 4, 2\n",
    "        Bomb and enemy on arena: 80, 40, 20, 10\n",
    "        \"\"\"\n",
    "        x, y = self.player.me_loc[0], self.player.me_loc[1]\n",
    "        # If there are no bombs on the field the direction should indicate this by turning off this feature (return 4)\n",
    "        if not self.bomb_locs.any(): \n",
    "            return self._determine_direction(None, x, y)\n",
    "        is_on_danger_zone_factor = 0\n",
    "        arena = self.arena        \n",
    "        danger_zone_coords = []\n",
    "        down, up, left, right = True, True, True, True\n",
    "        # for x_bomb, y_bomb in np.vstack((x_bombs, y_bombs)).T:\n",
    "        for bomb_loc in self.bomb_locs:\n",
    "            if bomb_loc != 0:\n",
    "                x_bomb, y_bomb = index_to_x_y(bomb_loc)\n",
    "                danger_zone_coords.append([x_bomb, y_bomb])\n",
    "                for i in range(3):\n",
    "                    if down and arena[x_bomb, y_bomb + (i + 1)] == -1: down = False\n",
    "                    if up and arena[x_bomb, y_bomb - (i + 1)] == -1: up = False\n",
    "                    if left and arena[x_bomb - (i + 1), y_bomb] == -1: left = False\n",
    "                    if right and arena[x_bomb + (i + 1), y_bomb] == -1: right = False\n",
    "\n",
    "                    if down: danger_zone_coords.append([x_bomb, y_bomb + (i + 1)]) \n",
    "                    if up: danger_zone_coords.append([x_bomb, y_bomb - (i + 1)])\n",
    "                    if left: danger_zone_coords.append([x_bomb - (i + 1), y_bomb])\n",
    "                    if right: danger_zone_coords.append([x_bomb + (i + 1), y_bomb])\n",
    "        \n",
    "        # If agent is on danger zone indicate this by turning off feature (return 4)\n",
    "        if [x,y] not in danger_zone_coords:\n",
    "            return self._determine_direction(None, x, y)\n",
    "        danger_zone_coords = np.array(danger_zone_coords)\n",
    "        free_space = (arena == 0) | (arena == 3)\n",
    "        free_space_calc = np.copy(free_space)\n",
    "        if danger_zone_coords.shape[0] != 0:\n",
    "            free_space_calc[danger_zone_coords[:,0], danger_zone_coords[:, 1]] = False\n",
    "        free_space_ind = np.where(free_space_calc == True)\n",
    "        free_space_coords = np.vstack((free_space_ind[0], free_space_ind[1])).T\n",
    "\n",
    "        best_step = self._look_for_targets(free_space, (x, y), free_space_coords, None)\n",
    "        \n",
    "def _look_for_targets(self, free_space, start, targets, logger):\n",
    "        \"\"\"Find direction of closest target that can be reached via free tiles.\n",
    "\n",
    "        Performs a breadth-first search of the reachable free tiles until a target is encountered.\n",
    "        If no target can be reached, the path that takes the agent closest to any target is chosen.\n",
    "\n",
    "        Args:\n",
    "            free_space: Boolean numpy array. True for free tiles and False for obstacles.\n",
    "            start: the coordinate from which to begin the search.\n",
    "            targets: list or array holding the coordinates of all target tiles.\n",
    "            logger: optional logger object for debugging.\n",
    "        Returns:\n",
    "            coordinate of first step towards closest target or towards tile closest to any target.\n",
    "        \"\"\"\n",
    "        if len(targets) == 0: return None\n",
    "        frontier = [start]\n",
    "        parent_dict = {start: start}\n",
    "        dist_so_far = {start: 0}\n",
    "        best = start\n",
    "        best_dist = np.sum(np.abs(np.subtract(targets, start)), axis=1).min()\n",
    "\n",
    "        while len(frontier) > 0:\n",
    "            current = frontier.pop(0)\n",
    "            # Find distance from current position to all targets, track closest\n",
    "            d = np.sum(np.abs(np.subtract(targets, current)), axis=1).min()\n",
    "            if d + dist_so_far[current] <= best_dist:\n",
    "                best = current\n",
    "                best_dist = d + dist_so_far[current]\n",
    "            if d == 0:\n",
    "                # Found path to a target's exact position, mission accomplished!\n",
    "                best = current\n",
    "                break\n",
    "            # Add unexplored free neighboring tiles to the queue in a random order\n",
    "            x, y = current\n",
    "            neighbors = [(x,y) for (x,y) in [(x+1,y), (x-1,y), (x,y+1), (x,y-1)] if free_space[x,y]]\n",
    "            shuffle(neighbors)\n",
    "            for neighbor in neighbors:\n",
    "                if neighbor not in parent_dict:\n",
    "                    frontier.append(neighbor)\n",
    "                    parent_dict[neighbor] = current\n",
    "                    dist_so_far[neighbor] = dist_so_far[current] + 1\n",
    "        if logger: logger.debug(f'Suitable target found at {best}')\n",
    "        # Determine the first step towards the best found target tile\n",
    "        current = best\n",
    "        while True:\n",
    "            if parent_dict[current] == start: return current\n",
    "            current = parent_dict[current]"
   ]
  }
 ],
 "metadata": {
  "kernelspec": {
   "display_name": "Python 3",
   "language": "python",
   "name": "python3"
  },
  "language_info": {
   "codemirror_mode": {
    "name": "ipython",
    "version": 3
   },
   "file_extension": ".py",
   "mimetype": "text/x-python",
   "name": "python",
   "nbconvert_exporter": "python",
   "pygments_lexer": "ipython3",
   "version": "3.7.1"
  }
 },
 "nbformat": 4,
 "nbformat_minor": 2
}

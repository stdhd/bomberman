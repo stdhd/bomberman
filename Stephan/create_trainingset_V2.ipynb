{
 "cells": [
  {
   "cell_type": "code",
   "execution_count": 113,
   "metadata": {},
   "outputs": [],
   "source": [
    "import numpy as np\n",
    "from indices import *\n",
    "import math"
   ]
  },
  {
   "cell_type": "code",
   "execution_count": 114,
   "metadata": {
    "collapsed": true,
    "scrolled": false
   },
   "outputs": [],
   "source": [
    "daten = np.load(\"test_daten.npy\")"
   ]
  },
  {
   "cell_type": "code",
   "execution_count": 117,
   "metadata": {
    "collapsed": true
   },
   "outputs": [],
   "source": [
    "def create_trainingS(array_source, radius, agents_count):  \n",
    "    # Board indices contain: -1 if coin, 1 if crate, 0 otherwise\n",
    "    ZEILEN = 17\n",
    "    WALL = 2\n",
    "    CRATE = 1\n",
    "    FREE = 0\n",
    "    COIN = -1\n",
    "    PLAYER = 3\n",
    "    BOMB = 4\n",
    "    EXPLOSION = 5\n",
    "    AGENT = 6\n",
    "    \n",
    "    row_length = radius * 2 + 1\n",
    "    array_target = np.zeros([row_length, row_length])\n",
    "    #array_target[0] = np.full((1,ZEILEN), WALL)\n",
    "    \n",
    "    mx, my = 8, 8 # Koordinaten des Spielers, Mittelpunkt des Ausschnitts\n",
    "    for i in range(int(math.pow(row_length,2))):\n",
    "        xt = i % row_length\n",
    "        yt = math.floor(i / (row_length))\n",
    "        \n",
    "        x = xt + (mx - radius)\n",
    "        y = yt + (my - radius)\n",
    "        \n",
    "        \n",
    "        try:\n",
    "            index = x_y_to_index(x,y,ZEILEN,ZEILEN)\n",
    "            array_target[yt,xt] = array_source[index]\n",
    "        except:\n",
    "            \n",
    "            array_target[yt,xt] = WALL\n",
    "        \n",
    "    #return array_target\n",
    "    #Add Player and Bomb coordinates\n",
    "    start = 169\n",
    "    borderX = mx + radius\n",
    "    borderY = my + radius\n",
    "    \n",
    "    for i in range(agents_count):\n",
    "        \n",
    "        agentX, agentY = index_to_x_y(daten[start],ZEILEN,ZEILEN)\n",
    "        print(\"X\", daten[start], agentX, agentY)\n",
    "        if not (agentX > borderX or agentY > borderY or agentX < (mx - radius) or agentY < (my - radius)):\n",
    "            print(int(agentX + mx - radius))\n",
    "            print((agentY + my - radius))\n",
    "            array_target[int(agentY - borderY), int(agentX - borderX)] = AGENT\n",
    "        \n",
    "        start = start + 23    \n",
    "            \n",
    "        #bombeX, bombeY = index_to_x_y(daten[start + 2], 17, 17)\n",
    "        #if not (bombeX > borderX or bombeY > borderY or bombeX < (mx - radius) or bombeY < (my - radius)):\n",
    "         #   array_target[(bombeY + my - radius), (bombeX + mx - radius)] = BOMB\n",
    "        \n",
    "        #explosionX, explosionY = index_to_x_y(daten[start + 4], 17, 17)\n",
    "        #if not (explosionX > borderX or explosionY > borderY or explosionX < (mx - radius) or explosionY < (my - radius)):\n",
    "         #   array_target[(explosionY + my - radius), (explosionX + mx - radius)] = EXPLOSION\n",
    "    \n",
    "    return array_target\n"
   ]
  },
  {
   "cell_type": "code",
   "execution_count": 118,
   "metadata": {},
   "outputs": [
    {
     "name": "stdout",
     "output_type": "stream",
     "text": [
      "X 169.0 13.0 13\n",
      "13\n",
      "13\n",
      "X 155.0 -1.0 13\n",
      "X 15.0 3.0 2\n",
      "3\n",
      "2\n",
      "X 1.0 1.0 1\n",
      "1\n",
      "1\n"
     ]
    },
    {
     "data": {
      "text/plain": [
       "array([[ 2.,  2.,  2.,  2.,  2.,  2.,  2.,  2.,  2.,  2.,  2.,  2.,  2.,\n",
       "         2.,  2.,  2.,  2.],\n",
       "       [ 2.,  0.,  1.,  1.,  1.,  1.,  0.,  0.,  0.,  1.,  0.,  1.,  1.,\n",
       "         0.,  0.,  2.,  2.],\n",
       "       [ 2.,  0.,  6.,  0.,  2.,  1.,  2.,  0.,  2.,  0.,  2.,  1.,  2.,\n",
       "         1.,  2.,  2.,  2.],\n",
       "       [ 2.,  1.,  1.,  0.,  6.,  1.,  1.,  1.,  1., -1., -1., -1.,  0.,\n",
       "         1.,  1.,  2.,  2.],\n",
       "       [ 2.,  1.,  2.,  1.,  2.,  1.,  2.,  1.,  2.,  1.,  2.,  1.,  2.,\n",
       "         0.,  2.,  2.,  2.],\n",
       "       [ 2.,  0.,  0.,  1.,  1.,  1.,  1.,  0.,  0., -1.,  0.,  1.,  1.,\n",
       "         1.,  0.,  2.,  2.],\n",
       "       [ 2.,  0.,  2.,  1.,  2.,  1.,  2., -1.,  2.,  1.,  2.,  1.,  2.,\n",
       "        -1.,  2.,  2.,  2.],\n",
       "       [ 2., -1., -1.,  0.,  0.,  1.,  1.,  1.,  1.,  1.,  1.,  1.,  0.,\n",
       "         1.,  1.,  2.,  2.],\n",
       "       [ 2.,  1.,  2.,  1.,  2., -1.,  2.,  1.,  2.,  1.,  2.,  1.,  2.,\n",
       "         1.,  2.,  2.,  2.],\n",
       "       [ 2.,  1.,  1., -1.,  1., -1.,  1.,  1.,  0.,  1.,  1.,  1., -1.,\n",
       "        -1.,  1.,  2.,  2.],\n",
       "       [ 2.,  1.,  2.,  1.,  2.,  1.,  2.,  0.,  2.,  1.,  2.,  0.,  2.,\n",
       "         1.,  2.,  2.,  2.],\n",
       "       [ 2.,  1.,  1.,  0.,  1.,  1.,  0.,  1.,  1.,  1.,  1.,  0.,  1.,\n",
       "         1.,  1.,  2.,  2.],\n",
       "       [ 2.,  1.,  2.,  0.,  2.,  1.,  2.,  1.,  2.,  1.,  2.,  1.,  2.,\n",
       "         1.,  2.,  2.,  2.],\n",
       "       [ 2.,  1.,  1.,  1., -1., -1.,  1.,  1.,  1.,  1.,  1.,  1.,  0.,\n",
       "         1.,  0.,  2.,  2.],\n",
       "       [ 2.,  0.,  2.,  1.,  2., -1.,  2.,  1.,  2.,  1.,  2.,  1.,  2.,\n",
       "         1.,  6.,  2.,  2.],\n",
       "       [ 2.,  2.,  2.,  2.,  2.,  2.,  2.,  2.,  2.,  2.,  2.,  2.,  2.,\n",
       "         2.,  2.,  2.,  2.],\n",
       "       [ 2.,  2.,  2.,  2.,  2.,  2.,  2.,  2.,  2.,  2.,  2.,  2.,  2.,\n",
       "         2.,  2.,  2.,  2.]])"
      ]
     },
     "execution_count": 118,
     "metadata": {},
     "output_type": "execute_result"
    }
   ],
   "source": [
    "create_trainingS(daten,8,4)"
   ]
  },
  {
   "cell_type": "code",
   "execution_count": 80,
   "metadata": {},
   "outputs": [
    {
     "data": {
      "text/plain": [
       "array([  0.,   0.,   1.,   1.,   1.,   1.,   0.,   0.,   0.,   1.,   0.,\n",
       "         1.,   1.,   0.,   0.,   0.,   1.,   0.,   0.,   1.,   1.,   1.,\n",
       "         0.,   0.,   1.,   1.,   1.,   1.,  -1.,  -1.,  -1.,   0.,   1.,\n",
       "         1.,   1.,   1.,   1.,   1.,   1.,   0.,   0.,   1.,   1.,   1.,\n",
       "         1.,   0.,   0.,  -1.,   0.,   1.,   1.,   1.,   0.,   1.,   1.,\n",
       "        -1.,   1.,   1.,  -1.,  -1.,   0.,   0.,   1.,   1.,   1.,   1.,\n",
       "         1.,   1.,   1.,   0.,   1.,   1.,   1.,  -1.,   1.,   1.,   1.,\n",
       "         1.,   1.,  -1.,   1.,  -1.,   1.,   1.,   0.,   1.,   1.,   1.,\n",
       "        -1.,  -1.,   1.,   1.,   1.,   0.,   1.,   0.,   1.,   1.,   0.,\n",
       "         1.,   1.,   0.,   1.,   1.,   1.,   1.,   0.,   1.,   1.,   1.,\n",
       "         0.,   1.,   1.,   1.,   1.,   1.,   1.,   1.,  -1.,  -1.,   1.,\n",
       "         1.,   1.,   1.,   1.,   1.,   0.,   1.,   0.,   1.,  -1.,   1.,\n",
       "         1.,   1.,   1.,  -1.,   1.,   1.,   1.,   0.,   1.,   1.,   1.,\n",
       "         0.,   1.,   1.,   0.,   1.,  -1.,  -1.,   1.,   1.,   1.,   1.,\n",
       "         1.,   1.,   1.,   1.,   1.,   1.,   0.,   1.,   1.,  -1.,   1.,\n",
       "         1.,   1.,   1.,   1., 169.,   0.,   0.,   0.,   0.,   0.,   0.,\n",
       "         0.,   0.,   0.,   0.,   0.,   0.,   0.,   0.,   0.,   0.,   0.,\n",
       "         0.,   0.,   0.,   0.,   0., 155.,   0.,   0.,   0.,   0.,   0.,\n",
       "         0.,   0.,   0.,   0.,   0.,   0.,   0.,   0.,   0.,   0.,   0.,\n",
       "         0.,   0.,   0.,   0.,   0.,   0.,  15.,   0.,   0.,   0.,   0.,\n",
       "         0.,   0.,   0.,   0.,   0.,   0.,   0.,   0.,   0.,   0.,   0.,\n",
       "         0.,   0.,   0.,   0.,   0.,   0.,   0.,   1.,   0.,   0.,   0.,\n",
       "         0.,   0.,   0.,   0.,   0.,   0.,   0.,   0.,   0.,   0.,   0.,\n",
       "         0.,   0.,   0.,   0.,   0.,   0.,   0.,   0.,   1.])"
      ]
     },
     "execution_count": 80,
     "metadata": {},
     "output_type": "execute_result"
    }
   ],
   "source": [
    "daten"
   ]
  },
  {
   "cell_type": "code",
   "execution_count": 64,
   "metadata": {},
   "outputs": [
    {
     "data": {
      "text/plain": [
       "array([ 3.,  0.,  0., -1., -1., -1.,  0., -1., -1., -1.,  0.,  1., -1.,\n",
       "        0.,  0.,  3.])"
      ]
     },
     "execution_count": 64,
     "metadata": {},
     "output_type": "execute_result"
    }
   ],
   "source": [
    "np.concatenate([[3],daten[:14],[3]])"
   ]
  },
  {
   "cell_type": "code",
   "execution_count": 77,
   "metadata": {},
   "outputs": [
    {
     "data": {
      "text/plain": [
       "array([[ 2.,  2.,  2.,  2.,  2.,  2.,  2.,  2.,  2.,  2.,  2.,  2.,  2.,\n",
       "         2.,  2.,  2.,  2.],\n",
       "       [ 2.,  0.,  0., -1., -1., -1.,  0., -1., -1., -1.,  0.,  1., -1.,\n",
       "         0.,  0.,  0.,  2.],\n",
       "       [ 2.,  2.,  2.,  2.,  2.,  2.,  2.,  2.,  2.,  2.,  2.,  2.,  2.,\n",
       "         2.,  2.,  2.,  2.],\n",
       "       [ 2.,  0., -1., -1., -1.,  0., -1., -1., -1.,  0.,  0.,  1.,  0.,\n",
       "        -1.,  1.,  1.,  2.],\n",
       "       [ 2.,  2.,  2.,  2.,  2.,  2.,  2.,  2.,  2.,  2.,  2.,  2.,  2.,\n",
       "         2.,  2.,  2.,  2.],\n",
       "       [ 2., -1., -1., -1., -1., -1., -1., -1., -1., -1., -1.,  0.,  1.,\n",
       "        -1.,  0., -1.,  2.],\n",
       "       [ 2.,  2.,  2.,  2.,  2.,  2.,  2.,  2.,  2.,  2.,  2.,  2.,  2.,\n",
       "         2.,  2.,  2.,  2.],\n",
       "       [ 2., -1., -1., -1., -1., -1., -1., -1.,  0.,  0., -1., -1., -1.,\n",
       "         0.,  1.,  1.,  2.],\n",
       "       [ 2.,  2.,  2.,  2.,  2.,  2.,  2.,  2.,  2.,  2.,  2.,  2.,  2.,\n",
       "         2.,  2.,  2.,  2.],\n",
       "       [ 2., -1.,  0., -1., -1., -1., -1., -1., -1.,  0.,  0.,  0., -1.,\n",
       "        -1., -1.,  0.,  2.],\n",
       "       [ 2.,  2.,  2.,  2.,  2.,  2.,  2.,  2.,  2.,  2.,  2.,  2.,  2.,\n",
       "         2.,  2.,  2.,  2.],\n",
       "       [ 2., -1., -1., -1., -1., -1., -1.,  0., -1., -1., -1.,  0., -1.,\n",
       "         1.,  1.,  1.,  2.],\n",
       "       [ 2.,  2.,  2.,  2.,  2.,  2.,  2.,  2.,  2.,  2.,  2.,  2.,  2.,\n",
       "         2.,  2.,  2.,  2.],\n",
       "       [ 2., -1., -1., -1.,  1., -1., -1., -1., -1., -1., -1., -1., -1.,\n",
       "         0., -1., -1.,  2.],\n",
       "       [ 2.,  2.,  2.,  2.,  2.,  2.,  2.,  2.,  2.,  2.,  2.,  2.,  2.,\n",
       "         2.,  2.,  2.,  2.],\n",
       "       [ 2.,  0., -1.,  1., -1.,  0.,  1.,  0., -1., -1.,  0., -1., -1.,\n",
       "        -1.,  0., -1.,  2.],\n",
       "       [ 2.,  2.,  2.,  2.,  2.,  2.,  2.,  2.,  2.,  2.,  2.,  2.,  2.,\n",
       "         2.,  2.,  2.,  2.]])"
      ]
     },
     "execution_count": 77,
     "metadata": {},
     "output_type": "execute_result"
    }
   ],
   "source": [
    "create_trainingS(daten,2)"
   ]
  },
  {
   "cell_type": "code",
   "execution_count": 153,
   "metadata": {},
   "outputs": [
    {
     "data": {
      "text/plain": [
       "(1, 1)"
      ]
     },
     "execution_count": 153,
     "metadata": {},
     "output_type": "execute_result"
    }
   ],
   "source": [
    "index_to_x_y(1,17,17)"
   ]
  },
  {
   "cell_type": "code",
   "execution_count": 155,
   "metadata": {},
   "outputs": [
    {
     "data": {
      "text/plain": [
       "(15, 1)"
      ]
     },
     "execution_count": 155,
     "metadata": {},
     "output_type": "execute_result"
    }
   ],
   "source": [
    "index_to_x_y(15,17,17)"
   ]
  },
  {
   "cell_type": "code",
   "execution_count": 154,
   "metadata": {},
   "outputs": [
    {
     "data": {
      "text/plain": [
       "(5, 11)"
      ]
     },
     "execution_count": 154,
     "metadata": {},
     "output_type": "execute_result"
    }
   ],
   "source": [
    "index_to_x_y(155,17,17)"
   ]
  },
  {
   "cell_type": "code",
   "execution_count": 157,
   "metadata": {
    "scrolled": true
   },
   "outputs": [
    {
     "data": {
      "text/plain": [
       "(5, 12)"
      ]
     },
     "execution_count": 157,
     "metadata": {},
     "output_type": "execute_result"
    }
   ],
   "source": [
    "index_to_x_y(168,17,17)"
   ]
  },
  {
   "cell_type": "code",
   "execution_count": 255,
   "metadata": {
    "collapsed": true
   },
   "outputs": [],
   "source": [
    "def x_y(ind, ncols, nrows):\n",
    "    \"\"\"\n",
    "    Convert a given coordinate index into its x, y representation. Indices start at 1 !\n",
    "    :param ind: Index of coordinate to represent as x, y\n",
    "    :param ncols: Number of\n",
    "    :param nrows:\n",
    "    :return: x, y coordinates\n",
    "    \"\"\"\n",
    "\n",
    "    y = 1\n",
    "\n",
    "    while True:\n",
    "        # Volle Reihe\n",
    "        if ind <= ncols - 2:\n",
    "            x = ind\n",
    "            return x, y\n",
    "        ind -= ncols - 2\n",
    "        y += 1\n",
    "        \n",
    "        # Halbe Reihe\n",
    "        if ind <= ((ncols - 2) // 2 + 1):\n",
    "            x = 2 * ind - 1\n",
    "            return x, y\n",
    "        ind -= ((ncols - 2) // 2 + 1)\n",
    "        y += 1\n",
    "\n",
    "\n",
    "\n"
   ]
  },
  {
   "cell_type": "code",
   "execution_count": 256,
   "metadata": {},
   "outputs": [
    {
     "data": {
      "text/plain": [
       "(15, 2)"
      ]
     },
     "execution_count": 256,
     "metadata": {},
     "output_type": "execute_result"
    }
   ],
   "source": [
    "x_y(23,17,17)"
   ]
  },
  {
   "cell_type": "code",
   "execution_count": 260,
   "metadata": {},
   "outputs": [
    {
     "data": {
      "text/plain": [
       "(4, 13)"
      ]
     },
     "execution_count": 260,
     "metadata": {},
     "output_type": "execute_result"
    }
   ],
   "source": [
    "x_y(142,17,17)"
   ]
  },
  {
   "cell_type": "code",
   "execution_count": 259,
   "metadata": {},
   "outputs": [
    {
     "data": {
      "text/plain": [
       "(15, 15)"
      ]
     },
     "execution_count": 259,
     "metadata": {},
     "output_type": "execute_result"
    }
   ],
   "source": [
    "x_y(176,17,17)"
   ]
  },
  {
   "cell_type": "code",
   "execution_count": 299,
   "metadata": {
    "collapsed": true
   },
   "outputs": [],
   "source": [
    "def x_y_to_index(x, y, ncols, nrows):\n",
    "    \"\"\"\n",
    "    Return the index of a free grid from x, y coordinates. Indices start at 1 !\n",
    "\n",
    "    Indexing starts at x, y = 0, 0 and increases row by row. Higher y value => Higher index\n",
    "\n",
    "    Raises ValueError for wall coordinates!\n",
    "    :param x: x coordinate\n",
    "    :param y: y coordinate\n",
    "    :return: Index of square x, y coords point to\n",
    "    \"\"\"\n",
    "\n",
    "    if x >= ncols or x <= 0 or y >= nrows or y <= 0:\n",
    "        raise ValueError(\"Coordinates outside of game grid\")\n",
    "    if (x + 1) * (y + 1) % 2 == 1:\n",
    "        raise ValueError(\"Received wall coordinates!\")\n",
    "\n",
    "    else:\n",
    "        # find full and half full rows below x, y coords\n",
    "        ind = 0\n",
    "        full_rows = (y - 1) // 2\n",
    "        if y % 2 == 0:\n",
    "            half_rows = (y - 1) // 2 - 1\n",
    "        else:\n",
    "            half_rows = (y - 1) // 2\n",
    "\n",
    "        ind += full_rows * (ncols - 2)\n",
    "        ind += half_rows * ((ncols - 2) // 2 + 1)\n",
    "        ind += (x)\n",
    "\n",
    "        return ind\n",
    "\n",
    "\n"
   ]
  },
  {
   "cell_type": "code",
   "execution_count": 301,
   "metadata": {},
   "outputs": [
    {
     "data": {
      "text/plain": [
       "142"
      ]
     },
     "execution_count": 301,
     "metadata": {},
     "output_type": "execute_result"
    }
   ],
   "source": [
    "x_y_to_index(4, 13, 17, 17)"
   ]
  },
  {
   "cell_type": "code",
   "execution_count": 252,
   "metadata": {},
   "outputs": [
    {
     "data": {
      "text/plain": [
       "(3, 2)"
      ]
     },
     "execution_count": 252,
     "metadata": {},
     "output_type": "execute_result"
    }
   ],
   "source": [
    "x_y(17,17,17)"
   ]
  },
  {
   "cell_type": "code",
   "execution_count": 254,
   "metadata": {},
   "outputs": [
    {
     "data": {
      "text/plain": [
       "7"
      ]
     },
     "execution_count": 254,
     "metadata": {},
     "output_type": "execute_result"
    }
   ],
   "source": [
    "(17 - 2) // 2"
   ]
  },
  {
   "cell_type": "code",
   "execution_count": 283,
   "metadata": {},
   "outputs": [
    {
     "data": {
      "text/plain": [
       "7"
      ]
     },
     "execution_count": 283,
     "metadata": {},
     "output_type": "execute_result"
    }
   ],
   "source": [
    "15 // 2"
   ]
  },
  {
   "cell_type": "code",
   "execution_count": null,
   "metadata": {
    "collapsed": true
   },
   "outputs": [],
   "source": []
  }
 ],
 "metadata": {
  "kernelspec": {
   "display_name": "Python 3",
   "language": "python",
   "name": "python3"
  },
  "language_info": {
   "codemirror_mode": {
    "name": "ipython",
    "version": 3
   },
   "file_extension": ".py",
   "mimetype": "text/x-python",
   "name": "python",
   "nbconvert_exporter": "python",
   "pygments_lexer": "ipython3",
   "version": "3.6.1"
  }
 },
 "nbformat": 4,
 "nbformat_minor": 2
}

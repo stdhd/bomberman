{
 "cells": [
  {
   "cell_type": "code",
   "execution_count": 61,
   "metadata": {
    "collapsed": true
   },
   "outputs": [],
   "source": [
    "import numpy as np\n",
    "from random import *\n",
    "import matplotlib.pyplot as plt"
   ]
  },
  {
   "cell_type": "code",
   "execution_count": 62,
   "metadata": {
    "collapsed": true
   },
   "outputs": [],
   "source": [
    "spielfeld = np.zeros([10,10])\n",
    "spielfeld[0,:] = 2\n",
    "spielfeld[9,:] = 2\n",
    "spielfeld[:,0] = 2\n",
    "spielfeld[:,9] = 2\n",
    "spielfeld[8,8] = 1\n",
    "spielfeld[4,2] = 1\n",
    "spielfeld[6,4] = 1\n",
    "spielfeld[3,7] = 1\n",
    "spielfeld[5,6] = 1\n",
    "spielfeld = spielfeld.astype(int)"
   ]
  },
  {
   "cell_type": "code",
   "execution_count": 63,
   "metadata": {
    "collapsed": true
   },
   "outputs": [],
   "source": [
    "def train_and_test(epsilon, learning_rate, discount, spielfeld):\n",
    "    reihe = np.array([0])\n",
    "    learned = np.zeros([0,4])\n",
    "    obs = np.zeros([0,5])\n",
    "    print(\"Training:\")\n",
    "    for i in range(1000):\n",
    "        state = [np.random.choice(np.arange(8)) + 1,np.random.choice(np.arange(8)) + 1]\n",
    "        learned, obs, reihe = do_action(state, np.copy(spielfeld), learned, np.copy(epsilon), obs, reihe, False, learning_rate, discount)\n",
    "        epsilon *= 0.99\n",
    "    plt.plot(reihe)\n",
    "    plt.ylim((0, 100))\n",
    "    plt.show()\n",
    "    \n",
    "    reihe = np.array([0])\n",
    "    print(\"Learned Observations: \" + str(learned.shape[0]))\n",
    "    print(\"Test:\")\n",
    "    for i in range(100):\n",
    "        state = [np.random.choice(np.arange(8)) + 1,np.random.choice(np.arange(8)) + 1]\n",
    "        learned, obs, reihe = do_action(state, np.copy(spielfeld), learned, np.copy(epsilon), obs, reihe, True, learning_rate, discount)\n",
    "\n",
    "    plt.plot(reihe)\n",
    "    plt.show()\n",
    "    "
   ]
  },
  {
   "cell_type": "code",
   "execution_count": 64,
   "metadata": {},
   "outputs": [],
   "source": [
    "def do_action(state, spielfeld, learned, epsilon, obs, reihe, testmodus, learning_rate, discount):\n",
    "    actions = np.array([\"down\", \"up\", \"left\", \"right\"])\n",
    "    last_action_index = -1\n",
    "    last_index = -1\n",
    "    last_reward = -1\n",
    "    coins_found = 0\n",
    "    reihenvalue = 0\n",
    "    \n",
    "    #  FIXME\n",
    "    \n",
    "    for i in range(1000):\n",
    "        #epsilon *= 0.9\n",
    "        n_state = [0,0]\n",
    "        \n",
    "        current_obs = get_observation(spielfeld,state[0],state[1])\n",
    "        obs, index_current, learned = update_and_get_obs(obs, current_obs, learned)\n",
    "        if epsilon > uniform(0,1) and not testmodus:\n",
    "            choice = np.random.choice(np.arange(actions.shape[0]))\n",
    "        else:\n",
    "            choice = np.random.choice(np.flatnonzero(learned[index_current] == learned[index_current].max()))\n",
    "                \n",
    "        my_best_value = np.max(learned[index_current])\n",
    "        # print(actions[choice])\n",
    "        n_state = get_following_state(state, spielfeld, actions[choice], actions, True)\n",
    "        if (not last_index == -1) and (not testmodus):\n",
    "            learned[last_index, last_action_index] = (1-learning_rate) * learned[last_index, last_action_index] + learning_rate * (last_reward + discount * my_best_value)\n",
    "            \n",
    "        last_reward, spielfeld, coins_found = get_reward(state,spielfeld,actions[choice], i, coins_found)\n",
    "        last_action_index = choice\n",
    "        last_index = index_current\n",
    "        state = n_state\n",
    "        # print(actions[choice])\n",
    "        if coins_found == 5:\n",
    "            reihenvalue = i\n",
    "            break\n",
    "                \n",
    "    reihe = np.append(reihe, np.array([reihenvalue]))\n",
    "    return learned, obs, reihe"
   ]
  },
  {
   "cell_type": "code",
   "execution_count": 65,
   "metadata": {
    "collapsed": true
   },
   "outputs": [],
   "source": [
    "def get_following_state(state, spielfeld, choice, actions, wall_sensitive):\n",
    "    n_state = np.array([0,0])\n",
    "    if(choice == \"down\"):\n",
    "        n_state[0] = state[0] + 1\n",
    "        n_state[1] = state[1]\n",
    "    elif(choice == \"up\"):\n",
    "        n_state[0] = state[0] - 1\n",
    "        n_state[1] = state[1]\n",
    "    elif(choice == \"left\"):\n",
    "        n_state[0] = state[0]\n",
    "        n_state[1] = state[1] - 1\n",
    "    elif(choice == \"right\"):\n",
    "        n_state[0] = state[0]\n",
    "        n_state[1] = state[1] + 1\n",
    "    elif(choice == \"wait\"):\n",
    "        n_state[0] = state[0]\n",
    "        n_state[1] = state[1]\n",
    "        \n",
    "    if wall_sensitive and spielfeld[n_state[0], n_state[1]] == 2:\n",
    "        # return old state if action is not possible\n",
    "        return state\n",
    "    \n",
    "    return n_state\n",
    "\n",
    "def get_reward(state,spielfeld,action, step, coins_found):\n",
    "    x,y = 0,0\n",
    "    if action == \"left\":\n",
    "        x = -1\n",
    "    if action == \"right\":\n",
    "        x = 1\n",
    "    if action == \"down\":\n",
    "        y = 1\n",
    "    if action == \"up\":\n",
    "        y = -1\n",
    "    \n",
    "    y +=state[0]\n",
    "    x +=state[1] \n",
    "    \n",
    "    copy = np.copy(spielfeld)\n",
    "    copy[state[0], state[1]] = 8\n",
    "    # print(copy)\n",
    "    if spielfeld[y,x] == 1:\n",
    "        # collect coin\n",
    "        # print(\"COIN COLLECTED \" + str(step))\n",
    "        spielfeld[y,x] = 0\n",
    "        return 1000, spielfeld, coins_found+1\n",
    "    elif spielfeld[y,x] == 2:\n",
    "        # Mauer\n",
    "        return -10, spielfeld, coins_found\n",
    "    else:\n",
    "        return -1, spielfeld, coins_found"
   ]
  },
  {
   "cell_type": "code",
   "execution_count": 66,
   "metadata": {
    "collapsed": true
   },
   "outputs": [],
   "source": [
    "def get_observation(spielfeld, y, x):\n",
    "    # Suche den Coin, der am nächsten ist (manhattan distance)\n",
    "    coinsY, coinsX = np.where(spielfeld == 1)\n",
    "    distancesY = np.abs(coinsY - y)\n",
    "    distancesX = np.abs(coinsX - x)\n",
    "    observation = np.array([0, 0,0,0,0]) \n",
    "    # 1. Richtung des nächsten Coins: (1,2,3,4:links,oben,rechts,unten)\n",
    "    # 2. Direkte Umgebung: (links, oben, rechts, unten; 0=frei, 1 = Coin, 2 = Wand)\n",
    " \n",
    "    if not distancesY.shape[0] == 0:\n",
    "        distances = distancesY + distancesX\n",
    "        coinY = coinsY[np.argmin(distances)]\n",
    "        coinX = coinsX[np.argmin(distances)]\n",
    "        # setze observation flags:\n",
    "        if coinX < x:\n",
    "            observation[0] = 1\n",
    "        elif coinX > x:\n",
    "            observation[0] = 3\n",
    "        elif coinY > y:\n",
    "            observation[0] = 2\n",
    "        elif coinY < y:\n",
    "            observation[0] = 4\n",
    "    \n",
    "    \n",
    "    observation[1] = get_spielfeld(y, x - 1,spielfeld)\n",
    "    observation[2] = get_spielfeld(y - 1, x,spielfeld)\n",
    "    observation[3] = get_spielfeld(y, x + 1,spielfeld)\n",
    "    observation[4] = get_spielfeld(y + 1, x,spielfeld)\n",
    "    # links, oben, rechts, unten\n",
    "    # print(x,y, observation)\n",
    "    return observation\n",
    "\n",
    "def update_and_get_obs(db, new_obs, learned):\n",
    "    temp = -1\n",
    "    for i in range(db.shape[0]):\n",
    "        if np.array_equal(db[i], new_obs):\n",
    "            return db, i, learned\n",
    "    db = np.append(db,np.array([new_obs]), axis = 0)\n",
    "    learned = np.append(learned, np.zeros([1,learned.shape[1]]), axis = 0)\n",
    "    return db, (db.shape[0] - 1), learned\n",
    "\n",
    "def get_spielfeld(y,x,spielfeld):\n",
    "    if y > spielfeld.shape[0] - 1 or x > spielfeld.shape[1] - 1 or y < 0 or x < 0:\n",
    "        #print(\"collision\")\n",
    "        return 2\n",
    "    else:\n",
    "        return spielfeld[y,x]"
   ]
  },
  {
   "cell_type": "code",
   "execution_count": 67,
   "metadata": {},
   "outputs": [
    {
     "name": "stdout",
     "output_type": "stream",
     "text": [
      "Training:\n"
     ]
    },
    {
     "data": {
      "image/png": "[encoded data removed]",
      "text/plain": [
       "<Figure size 432x288 with 1 Axes>"
      ]
     },
     "metadata": {},
     "output_type": "display_data"
    },
    {
     "name": "stdout",
     "output_type": "stream",
     "text": [
      "Learned Observations: 28\n",
      "Test:\n"
     ]
    },
    {
     "data": {
      "image/png": "[encoded data removed]",
      "text/plain": [
       "<Figure size 432x288 with 1 Axes>"
      ]
     },
     "metadata": {},
     "output_type": "display_data"
    }
   ],
   "source": [
    "train_and_test(0.9, 0.7, 0.6, spielfeld)"
   ]
  },
  {
   "cell_type": "code",
   "execution_count": null,
   "metadata": {
    "collapsed": true
   },
   "outputs": [],
   "source": []
  },
  {
   "cell_type": "code",
   "execution_count": null,
   "metadata": {
    "collapsed": true
   },
   "outputs": [],
   "source": []
  },
  {
   "cell_type": "code",
   "execution_count": null,
   "metadata": {
    "collapsed": true
   },
   "outputs": [],
   "source": []
  },
  {
   "cell_type": "code",
   "execution_count": null,
   "metadata": {
    "collapsed": true
   },
   "outputs": [],
   "source": []
  },
  {
   "cell_type": "code",
   "execution_count": null,
   "metadata": {
    "collapsed": true
   },
   "outputs": [],
   "source": []
  }
 ],
 "metadata": {
  "kernelspec": {
   "display_name": "Python 3",
   "language": "python",
   "name": "python3"
  },
  "language_info": {
   "codemirror_mode": {
    "name": "ipython",
    "version": 3
   },
   "file_extension": ".py",
   "mimetype": "text/x-python",
   "name": "python",
   "nbconvert_exporter": "python",
   "pygments_lexer": "ipython3",
   "version": "3.6.7"
  }
 },
 "nbformat": 4,
 "nbformat_minor": 2
}

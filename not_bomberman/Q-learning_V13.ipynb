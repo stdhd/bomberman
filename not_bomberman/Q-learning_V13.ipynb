{
 "cells": [
  {
   "cell_type": "code",
   "execution_count": 1,
   "metadata": {},
   "outputs": [],
   "source": [
    "import numpy as np\n",
    "from random import *\n",
    "import matplotlib.pyplot as plt"
   ]
  },
  {
   "cell_type": "code",
   "execution_count": 175,
   "metadata": {},
   "outputs": [],
   "source": [
    "def resetSpielfeld():\n",
    "    spielfeld = np.zeros([10,10])\n",
    "    spielfeld[0,:] = 2\n",
    "    spielfeld[9,:] = 2\n",
    "    spielfeld[:,0] = 2\n",
    "    spielfeld[:,9] = 2\n",
    "    return spielfeld.astype(int)\n",
    "\n",
    "def placeCoins(spielfeld):\n",
    "    allowed_pos = []\n",
    "    position = np.arange(100)\n",
    "    position = position[10:90]\n",
    "    for j in position:\n",
    "        if not \"0\" in str(j) and not \"9\" in str(j) and str(j) != \"11\" and str(j) != \"18\" and str(j) != \"81\" and str(j) != \"88\":\n",
    "            allowed_pos.append(j)\n",
    "    allowed_pos = np.asarray(allowed_pos)\n",
    "    allowed_pos_working_area = allowed_pos\n",
    "    for j in range(6):\n",
    "        coin_pos = np.random.choice(allowed_pos_working_area)\n",
    "        x = coin_pos // 10\n",
    "        y = coin_pos % 10\n",
    "        allowed_pos_working_area = np.delete(allowed_pos_working_area, np.where(allowed_pos_working_area == coin_pos))\n",
    "        spielfeld[x, y] = 1\n",
    "    return spielfeld "
   ]
  },
  {
   "cell_type": "code",
   "execution_count": 171,
   "metadata": {},
   "outputs": [],
   "source": [
    "def get_following_state(state, spielfeld, choice, actions, wall_sensitive):\n",
    "    n_state = np.array([0,0])\n",
    "    if(choice == \"down\"):\n",
    "        n_state[0] = state[0] + 1\n",
    "        n_state[1] = state[1]\n",
    "    elif(choice == \"up\"):\n",
    "        n_state[0] = state[0] - 1\n",
    "        n_state[1] = state[1]\n",
    "    elif(choice == \"left\"):\n",
    "        n_state[0] = state[0]\n",
    "        n_state[1] = state[1] - 1\n",
    "    elif(choice == \"right\"):\n",
    "        n_state[0] = state[0]\n",
    "        n_state[1] = state[1] + 1\n",
    "    elif(choice == \"wait\"):\n",
    "        n_state[0] = state[0]\n",
    "        n_state[1] = state[1]\n",
    "    if wall_sensitive and spielfeld[n_state[0], n_state[1]] == 2:\n",
    "        # return old state if action is not possible\n",
    "        return state\n",
    "    \n",
    "    return n_state\n",
    "\n",
    "def get_reward(state,spielfeld,action, step, coins_found):\n",
    "    x,y = 0,0\n",
    "    if action == \"left\":\n",
    "        x = -1\n",
    "    if action == \"right\":\n",
    "        x = 1\n",
    "    if action == \"down\":\n",
    "        y = 1\n",
    "    if action == \"up\":\n",
    "        y = -1\n",
    "    \n",
    "    y +=state[0]\n",
    "    x +=state[1] \n",
    "    \n",
    "    copy = np.copy(spielfeld)\n",
    "    copy[state[0], state[1]] = 8\n",
    "    # print(copy)\n",
    "    if spielfeld[y,x] == 1:\n",
    "        # collect coin\n",
    "        # print(\"COIN COLLECTED \" + str(step))\n",
    "        spielfeld[y,x] = 0\n",
    "        return 1000, spielfeld, coins_found+1\n",
    "    elif spielfeld[y,x] == 2:\n",
    "        # Mauer\n",
    "        return -10, spielfeld, coins_found\n",
    "    else:\n",
    "        return -1, spielfeld, coins_found"
   ]
  },
  {
   "cell_type": "code",
   "execution_count": 172,
   "metadata": {},
   "outputs": [],
   "source": [
    "def get_observation(spielfeld, y, x):\n",
    "    # Suche den Coin, der am nächsten ist (manhattan distance)\n",
    "    coinsY, coinsX = np.where(spielfeld == 1)\n",
    "    distancesY = np.abs(coinsY - y)\n",
    "    distancesX = np.abs(coinsX - x)\n",
    "    observation = np.array([0, 0,0,0,0]) \n",
    "    # 1. Richtung des nächsten Coins: (1,2,3,4:links,oben,rechts,unten)\n",
    "    # 2. Direkte Umgebung: (links, oben, rechts, unten; 0=frei, 1 = Coin, 2 = Wand)\n",
    " \n",
    "    if not distancesY.shape[0] == 0:\n",
    "        distances = distancesY + distancesX\n",
    "        coinY = coinsY[np.argmin(distances)]\n",
    "        coinX = coinsX[np.argmin(distances)]\n",
    "        # setze observation flags:\n",
    "        if coinX < x:\n",
    "            observation[0] = 1\n",
    "        elif coinX > x:\n",
    "            observation[0] = 3\n",
    "        elif coinY > y:\n",
    "            observation[0] = 2\n",
    "        elif coinY < y:\n",
    "            observation[0] = 4\n",
    "    \n",
    "    observation[1] = get_spielfeld(y, x - 1,spielfeld)\n",
    "    observation[2] = get_spielfeld(y - 1, x,spielfeld)\n",
    "    observation[3] = get_spielfeld(y, x + 1,spielfeld)\n",
    "    observation[4] = get_spielfeld(y + 1, x,spielfeld)\n",
    "    # links, oben, rechts, unten\n",
    "    # print(x,y, observation)\n",
    "    return observation\n",
    "\n",
    "def update_and_get_obs(db, new_obs, learned):\n",
    "    for i in range(db.shape[0]):\n",
    "        if np.array_equal(db[i], new_obs):\n",
    "            return db, i, learned\n",
    "    db = np.append(db,np.array([new_obs]), axis = 0)\n",
    "    learned = np.append(learned, np.zeros([1,learned.shape[1]]), axis = 0)\n",
    "    return db, (db.shape[0] - 1), learned\n",
    "\n",
    "def get_spielfeld(y,x,spielfeld):\n",
    "    if y > spielfeld.shape[0] - 1 or x > spielfeld.shape[1] - 1 or y < 0 or x < 0:\n",
    "        return 2\n",
    "    else:\n",
    "        return spielfeld[y,x]"
   ]
  },
  {
   "cell_type": "code",
   "execution_count": 197,
   "metadata": {},
   "outputs": [],
   "source": [
    "def train_and_test(epsilon, learning_rate, discount, spielfeld):\n",
    "    reihe = np.array([0])\n",
    "    learned = np.zeros([0,4])\n",
    "    obs = np.zeros([0,5])\n",
    "    \n",
    "    print(\"Training:\")\n",
    "    for i in range(1000):\n",
    "        state = [np.random.choice([1,8]),np.random.choice([1,8])]\n",
    "#         Place coins randomly but not into corners\n",
    "        spielfeld = resetSpielfeld()\n",
    "        spielfeld = placeCoins(spielfeld)\n",
    "        learned, obs, reihe, epsilon = do_action(state, np.copy(spielfeld), learned, epsilon, obs, reihe, False, learning_rate, discount)\n",
    "\n",
    "    plt.plot(reihe)\n",
    "    plt.show()\n",
    "    print(learned)\n",
    "    \n",
    "    reihe = np.array([0])\n",
    "    print(\"Learned Observations: \" + str(learned.shape[0]))\n",
    "    print(\"Test:\")\n",
    "    for i in range(100):\n",
    "        state = [np.random.choice(np.arange(8)) + 1,np.random.choice(np.arange(8)) + 1]\n",
    "        learned, obs, reihe, epsilon = do_action(state, np.copy(spielfeld), learned, np.copy(epsilon), obs, reihe, True, learning_rate, discount)\n",
    "\n",
    "    plt.plot(reihe)\n",
    "    plt.show()\n",
    "    \n",
    "def do_action(state, spielfeld, learned, epsilon, obs, reihe, testmodus, learning_rate, discount):\n",
    "    actions = np.array([\"down\", \"up\", \"left\", \"right\"])\n",
    "    last_action_index = -1\n",
    "    last_index = -1\n",
    "    last_reward = -1\n",
    "    coins_found = 0\n",
    "    reihenvalue = 0\n",
    "    for i in range(1000):\n",
    "        if epsilon > 0.15:\n",
    "            epsilon = epsilon - 0.02\n",
    "        \n",
    "        current_obs = get_observation(spielfeld, state[0], state[1])\n",
    "        obs, index_current, learned = update_and_get_obs(obs, current_obs, learned)\n",
    "        if epsilon > uniform(0,1) and not testmodus:\n",
    "            choice = np.random.choice(np.arange(actions.shape[0]))\n",
    "        else:\n",
    "            choice = np.random.choice(np.flatnonzero(learned[index_current] == learned[index_current].max()))\n",
    "                \n",
    "        my_best_value = np.max(learned[index_current])\n",
    "        # print(actions[choice])\n",
    "        n_state = get_following_state(state, spielfeld, actions[choice], actions, True)\n",
    "        if (not last_index == -1) and (not testmodus):\n",
    "            learned[last_index, last_action_index] = (1-learning_rate) * learned[last_index, last_action_index] + learning_rate * (last_reward + discount * my_best_value)\n",
    "            \n",
    "        last_reward, spielfeld, coins_found = get_reward(state,spielfeld,actions[choice], i, coins_found)\n",
    "        last_action_index = choice\n",
    "        last_index = index_current\n",
    "        state = n_state\n",
    "        # print(actions[choice])\n",
    "        if coins_found == 5:\n",
    "            reihenvalue = i\n",
    "            break\n",
    "                \n",
    "    reihe = np.append(reihe, np.array([reihenvalue]))\n",
    "    return learned, obs, reihe, epsilon"
   ]
  },
  {
   "cell_type": "code",
   "execution_count": 215,
   "metadata": {},
   "outputs": [
    {
     "name": "stdout",
     "output_type": "stream",
     "text": [
      "Training:\n"
     ]
    },
    {
     "data": {
      "image/png": "[encoded data removed]",
      "text/plain": [
       "<Figure size 432x288 with 1 Axes>"
      ]
     },
     "metadata": {
      "needs_background": "light"
     },
     "output_type": "display_data"
    },
    {
     "name": "stdout",
     "output_type": "stream",
     "text": [
      "[[ 0.00000000e+00  0.00000000e+00  7.00000000e+02 -7.00000000e+00]\n",
      " [ 1.18961974e+01  4.38399170e+02  2.14986939e+01  1.84864740e+01]\n",
      " [-9.10000000e+00  1.28274072e+03  0.00000000e+00  7.37519836e+02]\n",
      " [ 6.50831021e+01  1.21058660e+01  4.54956583e+02  1.35200386e+02]\n",
      " [-1.09118939e+01  1.69744003e+00  3.50572137e+02  3.90689639e+01]\n",
      " [ 2.98510340e+02  8.27342946e+02  3.09925024e+02  3.46181445e+02]\n",
      " [ 4.90929115e+02  1.47955238e+03  4.63236438e+02  5.34718558e+02]\n",
      " [ 9.67979170e+01  3.43927197e+02  2.72546114e+02  4.69973027e+02]\n",
      " [ 8.74328640e+01  5.89096080e+02  1.44959341e+02  1.51397523e+02]\n",
      " [ 2.86695378e+02  5.49648451e+01  8.45164330e+02  2.79151878e+02]\n",
      " [ 2.38889909e+02  3.92592049e+02  1.49341645e+03  4.84276158e+02]\n",
      " [ 1.15029395e+02  1.40928448e+02  5.73041273e+02  2.14938875e+01]\n",
      " [ 3.85739858e+01  4.71540338e+01  1.53071548e+01  4.53645696e+02]\n",
      " [ 1.72976278e+02  1.02024611e+01  1.21561542e+01  3.98601600e+02]\n",
      " [ 4.88403168e+02  4.45346399e+02  4.16996817e+02  1.48500077e+03]\n",
      " [ 1.50635060e+03  4.93824725e+02  2.87257641e+02  3.50409949e+02]\n",
      " [ 8.60707337e+02  1.66611915e+02  9.30489336e+01  1.17062876e+02]\n",
      " [ 6.89159280e+02 -1.55881849e+00  1.06393565e+02  5.43074047e+00]\n",
      " [ 8.03862819e+01 -4.42351392e+00  5.86641973e+00  3.13329102e+00]\n",
      " [ 3.31168862e+02 -5.36326047e+00 -2.35451981e+00 -9.52015702e+00]\n",
      " [ 4.19550448e+02  9.12266078e+01  1.92538552e+02  1.16849803e+02]\n",
      " [ 6.70702226e+02  1.94788273e+00 -6.89655002e+00  3.72655481e+00]\n",
      " [ 5.22003985e+02 -2.72189655e+00 -5.66906293e-01  4.63136221e+00]\n",
      " [ 1.62466024e+03  4.86117234e+02 -1.22302406e+00  1.29364339e+03]\n",
      " [ 3.35693875e+01  7.49016426e+02  1.98394113e+01  3.81182274e+01]\n",
      " [ 5.20524387e+02  1.27655740e+03  7.27621172e+02  2.67097003e+02]\n",
      " [ 1.84918073e+02  8.23318918e+02  8.30981270e+01  2.08656127e+02]\n",
      " [ 4.44466911e+02  1.32623266e+03  2.43318377e+02  7.28639587e+02]\n",
      " [ 2.67643997e+02  8.81279481e+02  1.27463512e+02  3.11290007e+01]\n",
      " [ 5.12120305e+02  7.79899773e+02  3.20882670e+02  1.39028096e+03]\n",
      " [ 5.51560331e+01  7.46633799e+01  2.94675388e+02  1.45910810e+02]\n",
      " [ 1.28122887e+03  3.47448537e+02  3.63000503e+02  7.77162979e+02]\n",
      " [ 1.22608672e+02  6.35683475e+02  1.33178141e+03  3.09396823e+02]\n",
      " [ 6.83152239e+02  3.41991203e+02 -8.43710585e-01  1.32701067e+03]\n",
      " [ 1.93326517e+02  8.30118858e+02  3.60395766e+02  2.04828779e+02]\n",
      " [ 3.05554462e+02  1.30963311e+03  9.92148748e+02  1.67456421e+02]\n",
      " [ 1.51022972e+03  8.00265007e+02  1.80225446e+02  3.94776097e+02]\n",
      " [ 1.30996373e+03  1.83166151e+02  8.40111711e+02  6.48404013e+02]\n",
      " [-9.46010959e-01  3.02104581e+02  1.38231049e+03  0.00000000e+00]\n",
      " [ 6.76582645e+02  1.33617478e+03  5.20491372e+02 -1.06780329e+00]\n",
      " [ 8.57471047e+01  8.20718276e+01  9.45129327e+01  2.64257879e+02]\n",
      " [ 1.33945305e+03  0.00000000e+00  2.71231161e+01  8.34483923e+00]\n",
      " [ 9.61766090e+02  2.72357723e+02  1.64849978e+03  3.16451364e+02]\n",
      " [ 5.23008860e+02  1.24481423e+03  3.07823211e+02  1.24475657e+03]\n",
      " [ 6.17233243e+02  4.71892459e+01  5.84785545e+01  2.87462486e+01]\n",
      " [ 2.00456522e+02  2.48135574e+02  7.70026355e+02  1.34857568e+03]\n",
      " [ 0.00000000e+00  0.00000000e+00 -7.00000000e+00  1.33170485e+03]\n",
      " [ 7.55126174e+02  1.17429601e+03  2.34781530e+02  4.26366158e+02]\n",
      " [-7.00000000e+00  4.25080444e+02  1.50163936e+03 -7.00000000e+00]\n",
      " [ 1.94599359e+02  1.48103444e+02  1.13402523e+03  4.68053870e+02]\n",
      " [ 2.42391143e+02  0.00000000e+00  0.00000000e+00 -7.09849270e+00]\n",
      " [ 1.40902539e+03  7.38394478e+02  6.34350440e+02  2.04506198e+02]\n",
      " [ 1.03242165e+03  1.50943496e+03  7.85290841e+01  0.00000000e+00]\n",
      " [ 0.00000000e+00 -7.85330701e-01  1.37872856e+03  0.00000000e+00]\n",
      " [ 9.33832675e+02  1.64459710e+02  1.60964427e+03  1.03405162e+02]\n",
      " [ 4.16690400e+02  6.78933179e+02  5.26001171e+02  1.69989173e+03]\n",
      " [ 1.07361873e+03  0.00000000e+00  0.00000000e+00  0.00000000e+00]\n",
      " [ 1.04237890e+02  1.10411629e+03  0.00000000e+00  5.07740749e+02]\n",
      " [ 6.56239821e+02  2.83695812e+02  5.62832767e+02  1.27226948e+03]\n",
      " [ 0.00000000e+00  0.00000000e+00  0.00000000e+00  1.20277395e+02]\n",
      " [ 1.47009173e+03  0.00000000e+00  0.00000000e+00 -1.29821483e+00]\n",
      " [ 0.00000000e+00  0.00000000e+00  0.00000000e+00  1.68222792e+03]\n",
      " [ 1.04205166e+03  0.00000000e+00  0.00000000e+00  0.00000000e+00]\n",
      " [ 0.00000000e+00  7.68843706e+02  0.00000000e+00  0.00000000e+00]\n",
      " [ 0.00000000e+00  0.00000000e+00  0.00000000e+00  9.79607443e+02]\n",
      " [ 9.97107151e+02  0.00000000e+00  3.35383879e+02  0.00000000e+00]\n",
      " [ 1.40424051e+03  0.00000000e+00  0.00000000e+00  0.00000000e+00]\n",
      " [ 0.00000000e+00  1.00226558e+03  0.00000000e+00  0.00000000e+00]\n",
      " [-7.00000000e+00  0.00000000e+00  2.17036880e+00  1.06530918e+03]\n",
      " [ 2.74920786e+02  0.00000000e+00  1.57382825e+03  0.00000000e+00]\n",
      " [ 0.00000000e+00  0.00000000e+00 -7.00000000e+00  1.15051230e+03]\n",
      " [ 0.00000000e+00  0.00000000e+00  0.00000000e+00  7.74711137e+02]]\n",
      "Learned Observations: 72\n",
      "Test:\n"
     ]
    },
    {
     "data": {
      "image/png": "[encoded data removed]",
      "text/plain": [
       "<Figure size 432x288 with 1 Axes>"
      ]
     },
     "metadata": {
      "needs_background": "light"
     },
     "output_type": "display_data"
    }
   ],
   "source": [
    "spielfeld = np.zeros([10,10])\n",
    "spielfeld[0,:] = 2\n",
    "spielfeld[9,:] = 2\n",
    "spielfeld[:,0] = 2\n",
    "spielfeld[:,9] = 2\n",
    "spielfeld = spielfeld.astype(int)\n",
    "\n",
    "train_and_test(0.4, 0.7, 0.6, spielfeld)"
   ]
  },
  {
   "cell_type": "code",
   "execution_count": 368,
   "metadata": {},
   "outputs": [
    {
     "name": "stdout",
     "output_type": "stream",
     "text": [
      "(2, 3)\n",
      "[['1' '1' 'r']]\n",
      "[1]\n"
     ]
    }
   ],
   "source": [
    "a = np.array([1,4])\n",
    "b = np.array([[2,3,\"3\"],[1,1,\"r\"]])\n",
    "c = np.empty([0, 3])\n",
    "c = np.append(c, [[1,1,\"r\"]], axis=0)\n",
    "print(b.shape)\n",
    "print(c)\n",
    "observation = np.array([1,1,\"r\"])\n",
    "# print(np.array_equal(b[1], [1,1,\"1\"]))\n",
    "f = np.where((b == observation).all(axis=1))[0]\n",
    "print(f)\n",
    "\n",
    "# print(np.abs(a-b))\n",
    "# np.sum(np.abs(a-b), axis=1)"
   ]
  },
  {
   "cell_type": "code",
   "execution_count": 366,
   "metadata": {},
   "outputs": [
    {
     "data": {
      "text/plain": [
       "2"
      ]
     },
     "execution_count": 366,
     "metadata": {},
     "output_type": "execute_result"
    }
   ],
   "source": [
    "np.random.randint(1,7)"
   ]
  }
 ],
 "metadata": {
  "kernelspec": {
   "display_name": "Python 3",
   "language": "python",
   "name": "python3"
  },
  "language_info": {
   "codemirror_mode": {
    "name": "ipython",
    "version": 3
   },
   "file_extension": ".py",
   "mimetype": "text/x-python",
   "name": "python",
   "nbconvert_exporter": "python",
   "pygments_lexer": "ipython3",
   "version": "3.7.1"
  }
 },
 "nbformat": 4,
 "nbformat_minor": 2
}

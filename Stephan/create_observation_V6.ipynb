{
 "cells": [
  {
   "cell_type": "code",
   "execution_count": 76,
   "metadata": {
    "collapsed": true
   },
   "outputs": [],
   "source": [
    "import numpy as np\n",
    "from indices import *\n",
    "import math"
   ]
  },
  {
   "cell_type": "code",
   "execution_count": 77,
   "metadata": {
    "collapsed": true,
    "scrolled": false
   },
   "outputs": [],
   "source": [
    "daten = np.load(\"test_daten.npy\")[100]"
   ]
  },
  {
   "cell_type": "code",
   "execution_count": 96,
   "metadata": {},
   "outputs": [],
   "source": [
    "def create_window(array_source, radius, agents_count):  \n",
    "    ZEILEN = 17\n",
    "    WALL = 2\n",
    "    CRATE = 1\n",
    "    FREE = 0\n",
    "    COIN = -1\n",
    "    PLAYER = 3\n",
    "    BOMB = 4\n",
    "    EXPLOSION = 5\n",
    "    AGENT = 6\n",
    "    INDEX_LENGTH = 176\n",
    "    \n",
    "    row_length = radius * 2 + 1\n",
    "    array_target = np.zeros([agents_count, row_length, row_length])\n",
    "    rewards = np.zeros([agents_count])\n",
    "    \n",
    "    #Add Player and Bomb coordinates\n",
    "    startX = INDEX_LENGTH\n",
    "    for l in range(agents_count):\n",
    "        mx, my = index_to_x_y(int(daten[int(startX)]),ZEILEN,ZEILEN) # Koordinaten des Spielers, Mittelpunkt des Ausschnitts\n",
    "        borderX = mx + radius\n",
    "        borderY = my + radius\n",
    "        \n",
    "        start = INDEX_LENGTH\n",
    "        for i in range(agents_count):\n",
    "            agentX, agentY = index_to_x_y(int(daten[int(start)]),ZEILEN,ZEILEN)\n",
    "            # Set agents' positions\n",
    "            if not (agentX > borderX or agentY > borderY or agentX < (mx - radius) or agentY < (my - radius)):\n",
    "                array_target[l,int(agentY - (my - radius)), int(agentX - (mx - radius))] = AGENT\n",
    "                start = start\n",
    "\n",
    "            \n",
    "            \n",
    "            # Write bombs\n",
    "            start += 2\n",
    "            if not daten[int(start)] == 0:\n",
    "                bombeX, bombeY = index_to_x_y(int(daten[int(start)]),ZEILEN,ZEILEN)\n",
    "                if not (bombeX > borderX or bombeY > borderY or bombeX < (mx - radius) or bombeY < (my - radius)):\n",
    "                    start = start\n",
    "                    array_target[l,int(bombeY - (my - radius)), int(bombeX - (mx - radius))] = BOMB\n",
    "            start = start + 19 \n",
    "        \n",
    "        # Write rewards\n",
    "        rewards[l] = daten[int(startX + 1)]\n",
    "        \n",
    "        # Write event\n",
    "        temp_events = daten[int(startX + 4): int(startX + 8)]\n",
    "        print(temp_events)      \n",
    "        #print(np.argmax(temp_events))\n",
    "        \n",
    "        for i in range(int(math.pow(row_length,2))):\n",
    "\n",
    "            xt = i % row_length\n",
    "            yt = math.floor(i / (row_length))\n",
    "            x = xt + (mx - radius)\n",
    "            y = yt + (my - radius)\n",
    "            \n",
    "\n",
    "            if array_target[l, int(yt),int(xt)] == 0:\n",
    "            \n",
    "                #print(y,x)\n",
    "                try:\n",
    "                    index = x_y_to_index(int(x),int(y),ZEILEN,ZEILEN)\n",
    "                    start = start\n",
    "                    #print(int(y),int(x))\n",
    "                    array_target[l, int(yt),int(xt)] = daten[int(index)]\n",
    "                except Exception as e:\n",
    "                    array_target[l,yt,xt] = WALL\n",
    "                    #print(\"WALL\")\n",
    "                    start = start\n",
    "            #else:\n",
    "                #print(\"Kollision \" + str(int(y)) + \" \" + str(int(x)) )\n",
    "                #print(int(yt),int(xt))\n",
    "                \n",
    "        \n",
    "        startX = startX + 21\n",
    "        # print(\"---\")\n",
    "    return array_target, rewards\n"
   ]
  },
  {
   "cell_type": "code",
   "execution_count": 97,
   "metadata": {},
   "outputs": [
    {
     "name": "stdout",
     "output_type": "stream",
     "text": [
      "[0. 0. 0. 0.]\n",
      "[0. 0. 0. 0.]\n",
      "[0. 0. 0. 0.]\n",
      "[0. 0. 0. 0.]\n"
     ]
    },
    {
     "data": {
      "text/plain": [
       "(array([[[4., 2., 0.],\n",
       "         [0., 6., 0.],\n",
       "         [0., 2., 1.]],\n",
       " \n",
       "        [[0., 1., 0.],\n",
       "         [2., 6., 2.],\n",
       "         [0., 1., 0.]],\n",
       " \n",
       "        [[2., 2., 2.],\n",
       "         [2., 6., 0.],\n",
       "         [2., 2., 1.]],\n",
       " \n",
       "        [[2., 0., 2.],\n",
       "         [0., 6., 0.],\n",
       "         [2., 0., 2.]]]), array([1., 2., 1., 3.]))"
      ]
     },
     "execution_count": 97,
     "metadata": {},
     "output_type": "execute_result"
    }
   ],
   "source": [
    "\n",
    "create_window(daten,1,4)\n"
   ]
  },
  {
   "cell_type": "code",
   "execution_count": 13,
   "metadata": {
    "collapsed": true
   },
   "outputs": [],
   "source": [
    "def create_observation_vectors(array_source, window_radius, agents_count):\n",
    "    window_vector = create_window(array_source, window_radius, agents_count)\n",
    "    observation_vector = np.zeros([agents_count, window_vector[0].flatten().shape[0]])\n",
    "    # TODO: Add more derived observations:\n",
    "    # ...\n",
    "    \n",
    "    # concatenate observations so far and window observations\n",
    "    for i in range(agents_count):\n",
    "        observation_vector[i,:] = window_vector[i].flatten()\n",
    "    return observation_vector,  ,reward_db"
   ]
  },
  {
   "cell_type": "code",
   "execution_count": 14,
   "metadata": {},
   "outputs": [
    {
     "data": {
      "text/plain": [
       "array([[3., 1., 0., 2., 2., 0., 2., 0., 2., 2., 0., 0., 6., 2., 2., 2.,\n",
       "        2., 2., 2., 2., 2., 2., 2., 2., 2.],\n",
       "       [2., 2., 2., 2., 2., 2., 2., 2., 2., 2., 2., 2., 6., 1., 3., 2.,\n",
       "        2., 1., 2., 0., 2., 2., 1., 0., 0.],\n",
       "       [2., 2., 1., 1., 1., 2., 2., 1., 2., 1., 2., 2., 6., 0., 1., 2.,\n",
       "        2., 2., 2., 2., 2., 2., 2., 2., 2.],\n",
       "       [2., 2., 2., 2., 2., 2., 2., 2., 2., 2., 0., 0., 6., 2., 2., 0.,\n",
       "        2., 1., 2., 2., 0., 1., 1., 2., 2.]])"
      ]
     },
     "execution_count": 14,
     "metadata": {},
     "output_type": "execute_result"
    }
   ],
   "source": [
    "create_observation_vectors(daten, 2, 4)"
   ]
  },
  {
   "cell_type": "code",
   "execution_count": 98,
   "metadata": {},
   "outputs": [
    {
     "data": {
      "text/plain": [
       "array([102.,   1.,  89.,  -1.,   0.,   0.,   0.,   0.,   0.,   0.,   0.,\n",
       "         0.,   0.,   0.,   0.,   0.,   0.,   0.,   0.,   0.,   0.,  43.,\n",
       "         2.,   0.,   0.,   0.,   0.,   0.,   0.,   0.,   0.,   0.,   0.,\n",
       "         0.,   0.,   0.,   0.,   0.,   0.,   0.,   0.,   0.,   0.,   1.,\n",
       "         0.,   0.,   0.,   0.,   0.,   0.,   0.,   0.,   1.,   0.,   0.,\n",
       "         0.,   1.,   0.,   0.,   0.,   0.,   1.,   1.,  34.,   3.,   0.,\n",
       "         0.,   0.,   0.,   0.,   0.,   0.,   0.,   0.,   0.,   0.,   0.,\n",
       "         0.,   0.,   0.,   0.,   0.,   0.,   0., 101.])"
      ]
     },
     "execution_count": 98,
     "metadata": {},
     "output_type": "execute_result"
    }
   ],
   "source": [
    "daten[176:]"
   ]
  },
  {
   "cell_type": "code",
   "execution_count": null,
   "metadata": {
    "collapsed": true
   },
   "outputs": [],
   "source": []
  }
 ],
 "metadata": {
  "kernelspec": {
   "display_name": "Python 3",
   "language": "python",
   "name": "python3"
  },
  "language_info": {
   "codemirror_mode": {
    "name": "ipython",
    "version": 3
   },
   "file_extension": ".py",
   "mimetype": "text/x-python",
   "name": "python",
   "nbconvert_exporter": "python",
   "pygments_lexer": "ipython3",
   "version": "3.6.1"
  }
 },
 "nbformat": 4,
 "nbformat_minor": 2
}
